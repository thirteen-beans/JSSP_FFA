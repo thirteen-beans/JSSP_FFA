{
 "cells": [
  {
   "cell_type": "code",
   "execution_count": 1,
   "id": "ecac1885",
   "metadata": {},
   "outputs": [],
   "source": [
    "import pandas as pd\n",
    "import ast\n",
    "import numpy as np\n",
    "import matplotlib.pyplot as plt\n",
    "import json\n",
    "import seaborn as sns"
   ]
  },
  {
   "cell_type": "markdown",
   "id": "a5a46604",
   "metadata": {},
   "source": [
    "# Import and combine data"
   ]
  },
  {
   "cell_type": "markdown",
   "id": "949abeaf",
   "metadata": {},
   "source": [
    "## HillClimber run 1"
   ]
  },
  {
   "cell_type": "code",
   "execution_count": 2,
   "id": "701f7eb4",
   "metadata": {
    "scrolled": true
   },
   "outputs": [
    {
     "data": {
      "text/html": [
       "<div>\n",
       "<style scoped>\n",
       "    .dataframe tbody tr th:only-of-type {\n",
       "        vertical-align: middle;\n",
       "    }\n",
       "\n",
       "    .dataframe tbody tr th {\n",
       "        vertical-align: top;\n",
       "    }\n",
       "\n",
       "    .dataframe thead th {\n",
       "        text-align: right;\n",
       "    }\n",
       "</style>\n",
       "<table border=\"1\" class=\"dataframe\">\n",
       "  <thead>\n",
       "    <tr style=\"text-align: right;\">\n",
       "      <th></th>\n",
       "      <th>instance_id</th>\n",
       "      <th>best_solution</th>\n",
       "      <th>best_makespan</th>\n",
       "      <th>convergence</th>\n",
       "    </tr>\n",
       "  </thead>\n",
       "  <tbody>\n",
       "    <tr>\n",
       "      <th>0</th>\n",
       "      <td>0</td>\n",
       "      <td>[1, 2, 1, 0, 2, 1, 0, 2, 1, 3, 0, 2, 1, 0, 3, ...</td>\n",
       "      <td>48</td>\n",
       "      <td>[60, 60, 60, 60, 60, 59, 52, 52, 52, 52, 52, 5...</td>\n",
       "    </tr>\n",
       "    <tr>\n",
       "      <th>1</th>\n",
       "      <td>1</td>\n",
       "      <td>[3, 4, 3, 1, 2, 2, 2, 4, 1, 4, 0, 0, 1, 3, 2, ...</td>\n",
       "      <td>48</td>\n",
       "      <td>[64, 63, 63, 63, 63, 63, 63, 63, 63, 63, 60, 6...</td>\n",
       "    </tr>\n",
       "    <tr>\n",
       "      <th>2</th>\n",
       "      <td>2</td>\n",
       "      <td>[1, 4, 4, 1, 0, 3, 2, 1, 2, 4, 0, 0, 3, 0, 2, ...</td>\n",
       "      <td>52</td>\n",
       "      <td>[69, 65, 65, 65, 65, 65, 65, 65, 65, 65, 65, 6...</td>\n",
       "    </tr>\n",
       "    <tr>\n",
       "      <th>3</th>\n",
       "      <td>3</td>\n",
       "      <td>[4, 4, 2, 3, 1, 2, 0, 2, 3, 2, 3, 1, 2, 4, 1, ...</td>\n",
       "      <td>54</td>\n",
       "      <td>[77, 77, 77, 76, 76, 76, 76, 76, 76, 76, 76, 7...</td>\n",
       "    </tr>\n",
       "    <tr>\n",
       "      <th>4</th>\n",
       "      <td>4</td>\n",
       "      <td>[1, 4, 0, 0, 3, 1, 2, 2, 0, 1, 3, 2, 2, 1, 0, ...</td>\n",
       "      <td>61</td>\n",
       "      <td>[108, 95, 92, 92, 92, 90, 90, 90, 90, 90, 90, ...</td>\n",
       "    </tr>\n",
       "  </tbody>\n",
       "</table>\n",
       "</div>"
      ],
      "text/plain": [
       "   instance_id                                      best_solution  \\\n",
       "0            0  [1, 2, 1, 0, 2, 1, 0, 2, 1, 3, 0, 2, 1, 0, 3, ...   \n",
       "1            1  [3, 4, 3, 1, 2, 2, 2, 4, 1, 4, 0, 0, 1, 3, 2, ...   \n",
       "2            2  [1, 4, 4, 1, 0, 3, 2, 1, 2, 4, 0, 0, 3, 0, 2, ...   \n",
       "3            3  [4, 4, 2, 3, 1, 2, 0, 2, 3, 2, 3, 1, 2, 4, 1, ...   \n",
       "4            4  [1, 4, 0, 0, 3, 1, 2, 2, 0, 1, 3, 2, 2, 1, 0, ...   \n",
       "\n",
       "   best_makespan                                        convergence  \n",
       "0             48  [60, 60, 60, 60, 60, 59, 52, 52, 52, 52, 52, 5...  \n",
       "1             48  [64, 63, 63, 63, 63, 63, 63, 63, 63, 63, 60, 6...  \n",
       "2             52  [69, 65, 65, 65, 65, 65, 65, 65, 65, 65, 65, 6...  \n",
       "3             54  [77, 77, 77, 76, 76, 76, 76, 76, 76, 76, 76, 7...  \n",
       "4             61  [108, 95, 92, 92, 92, 90, 90, 90, 90, 90, 90, ...  "
      ]
     },
     "execution_count": 2,
     "metadata": {},
     "output_type": "execute_result"
    }
   ],
   "source": [
    "hc_results1 = pd.read_csv('hc_1000000_evals_cor.csv', sep=';', index_col=False)\n",
    "hc_results1.head()"
   ]
  },
  {
   "cell_type": "markdown",
   "id": "0014779a",
   "metadata": {},
   "source": [
    "### Strings to lists"
   ]
  },
  {
   "cell_type": "code",
   "execution_count": 3,
   "id": "ea8cb1d2",
   "metadata": {},
   "outputs": [],
   "source": [
    "def custom_literal_eval(x):\n",
    "    try:\n",
    "        return json.loads(x)\n",
    "    except (json.JSONDecodeError, TypeError):\n",
    "        return x"
   ]
  },
  {
   "cell_type": "code",
   "execution_count": 4,
   "id": "b2574203",
   "metadata": {},
   "outputs": [],
   "source": [
    "hc_results1['best_solution'] = hc_results1['best_solution'].apply(custom_literal_eval)\n",
    "hc_results1['convergence'] = hc_results1['convergence'].apply(custom_literal_eval)"
   ]
  },
  {
   "cell_type": "code",
   "execution_count": 7,
   "id": "27e04a06",
   "metadata": {},
   "outputs": [],
   "source": [
    "hc_results1['best_makespan_4'] = hc_results1['convergence'].apply(lambda x: x[9999])\n",
    "hc_results1['best_makespan_5'] = hc_results1['convergence'].apply(lambda x: x[99999])\n",
    "hc_results1['best_makespan_250'] = hc_results1['convergence'].apply(lambda x: x[249999])\n",
    "hc_results1['best_makespan_500'] = hc_results1['convergence'].apply(lambda x: x[499999])\n",
    "hc_results1['best_makespan_750'] = hc_results1['convergence'].apply(lambda x: x[749999])"
   ]
  },
  {
   "cell_type": "markdown",
   "id": "3c23469b",
   "metadata": {},
   "source": [
    "## HillClimber run 2"
   ]
  },
  {
   "cell_type": "code",
   "execution_count": 9,
   "id": "1191f6bd",
   "metadata": {},
   "outputs": [
    {
     "data": {
      "text/html": [
       "<div>\n",
       "<style scoped>\n",
       "    .dataframe tbody tr th:only-of-type {\n",
       "        vertical-align: middle;\n",
       "    }\n",
       "\n",
       "    .dataframe tbody tr th {\n",
       "        vertical-align: top;\n",
       "    }\n",
       "\n",
       "    .dataframe thead th {\n",
       "        text-align: right;\n",
       "    }\n",
       "</style>\n",
       "<table border=\"1\" class=\"dataframe\">\n",
       "  <thead>\n",
       "    <tr style=\"text-align: right;\">\n",
       "      <th></th>\n",
       "      <th>instance_id</th>\n",
       "      <th>best_solution</th>\n",
       "      <th>best_makespan</th>\n",
       "      <th>convergence</th>\n",
       "    </tr>\n",
       "  </thead>\n",
       "  <tbody>\n",
       "    <tr>\n",
       "      <th>0</th>\n",
       "      <td>0</td>\n",
       "      <td>[1, 0, 2, 1, 3, 1, 4, 2, 3, 0, 0, 1, 2, 4, 0, ...</td>\n",
       "      <td>48</td>\n",
       "      <td>[76, 76, 76, 63, 58, 58, 58, 58, 56, 56, 56, 5...</td>\n",
       "    </tr>\n",
       "    <tr>\n",
       "      <th>1</th>\n",
       "      <td>1</td>\n",
       "      <td>[1, 3, 4, 0, 2, 4, 4, 2, 0, 2, 4, 2, 3, 1, 3, ...</td>\n",
       "      <td>48</td>\n",
       "      <td>[65, 65, 65, 65, 65, 65, 65, 65, 65, 65, 65, 6...</td>\n",
       "    </tr>\n",
       "    <tr>\n",
       "      <th>2</th>\n",
       "      <td>2</td>\n",
       "      <td>[1, 4, 2, 3, 0, 3, 1, 0, 0, 2, 1, 3, 4, 4, 2, ...</td>\n",
       "      <td>52</td>\n",
       "      <td>[97, 80, 64, 64, 64, 64, 64, 64, 64, 64, 64, 6...</td>\n",
       "    </tr>\n",
       "    <tr>\n",
       "      <th>3</th>\n",
       "      <td>3</td>\n",
       "      <td>[1, 4, 3, 0, 2, 2, 4, 2, 2, 3, 3, 1, 1, 3, 2, ...</td>\n",
       "      <td>54</td>\n",
       "      <td>[75, 75, 75, 75, 75, 75, 75, 75, 75, 75, 75, 7...</td>\n",
       "    </tr>\n",
       "    <tr>\n",
       "      <th>4</th>\n",
       "      <td>4</td>\n",
       "      <td>[3, 0, 1, 2, 2, 0, 2, 1, 1, 1, 2, 3, 3, 0, 4, ...</td>\n",
       "      <td>61</td>\n",
       "      <td>[89, 80, 80, 80, 79, 79, 79, 79, 79, 79, 76, 7...</td>\n",
       "    </tr>\n",
       "  </tbody>\n",
       "</table>\n",
       "</div>"
      ],
      "text/plain": [
       "   instance_id                                      best_solution  \\\n",
       "0            0  [1, 0, 2, 1, 3, 1, 4, 2, 3, 0, 0, 1, 2, 4, 0, ...   \n",
       "1            1  [1, 3, 4, 0, 2, 4, 4, 2, 0, 2, 4, 2, 3, 1, 3, ...   \n",
       "2            2  [1, 4, 2, 3, 0, 3, 1, 0, 0, 2, 1, 3, 4, 4, 2, ...   \n",
       "3            3  [1, 4, 3, 0, 2, 2, 4, 2, 2, 3, 3, 1, 1, 3, 2, ...   \n",
       "4            4  [3, 0, 1, 2, 2, 0, 2, 1, 1, 1, 2, 3, 3, 0, 4, ...   \n",
       "\n",
       "   best_makespan                                        convergence  \n",
       "0             48  [76, 76, 76, 63, 58, 58, 58, 58, 56, 56, 56, 5...  \n",
       "1             48  [65, 65, 65, 65, 65, 65, 65, 65, 65, 65, 65, 6...  \n",
       "2             52  [97, 80, 64, 64, 64, 64, 64, 64, 64, 64, 64, 6...  \n",
       "3             54  [75, 75, 75, 75, 75, 75, 75, 75, 75, 75, 75, 7...  \n",
       "4             61  [89, 80, 80, 80, 79, 79, 79, 79, 79, 79, 76, 7...  "
      ]
     },
     "execution_count": 9,
     "metadata": {},
     "output_type": "execute_result"
    }
   ],
   "source": [
    "hc_results2 = pd.read_csv('hc_1000000_evals_cor2.csv', sep=';', index_col=False)\n",
    "hc_results2.head()"
   ]
  },
  {
   "cell_type": "code",
   "execution_count": 10,
   "id": "61b06a18",
   "metadata": {},
   "outputs": [],
   "source": [
    "hc_results2['best_solution'] = hc_results2['best_solution'].apply(custom_literal_eval)\n",
    "hc_results2['convergence'] = hc_results2['convergence'].apply(custom_literal_eval)"
   ]
  },
  {
   "cell_type": "code",
   "execution_count": 11,
   "id": "1b7df13a",
   "metadata": {},
   "outputs": [],
   "source": [
    "hc_results2['best_makespan_4'] = hc_results2['convergence'].apply(lambda x: x[9999])\n",
    "hc_results2['best_makespan_5'] = hc_results2['convergence'].apply(lambda x: x[99999])\n",
    "hc_results2['best_makespan_250'] = hc_results2['convergence'].apply(lambda x: x[249999])\n",
    "hc_results2['best_makespan_500'] = hc_results2['convergence'].apply(lambda x: x[499999])\n",
    "hc_results2['best_makespan_750'] = hc_results2['convergence'].apply(lambda x: x[749999])"
   ]
  },
  {
   "cell_type": "markdown",
   "id": "14229693",
   "metadata": {},
   "source": [
    "## HillClimber run 3"
   ]
  },
  {
   "cell_type": "code",
   "execution_count": 12,
   "id": "ca156a41",
   "metadata": {
    "scrolled": false
   },
   "outputs": [
    {
     "data": {
      "text/html": [
       "<div>\n",
       "<style scoped>\n",
       "    .dataframe tbody tr th:only-of-type {\n",
       "        vertical-align: middle;\n",
       "    }\n",
       "\n",
       "    .dataframe tbody tr th {\n",
       "        vertical-align: top;\n",
       "    }\n",
       "\n",
       "    .dataframe thead th {\n",
       "        text-align: right;\n",
       "    }\n",
       "</style>\n",
       "<table border=\"1\" class=\"dataframe\">\n",
       "  <thead>\n",
       "    <tr style=\"text-align: right;\">\n",
       "      <th></th>\n",
       "      <th>instance_id</th>\n",
       "      <th>best_solution</th>\n",
       "      <th>best_makespan</th>\n",
       "      <th>convergence</th>\n",
       "    </tr>\n",
       "  </thead>\n",
       "  <tbody>\n",
       "    <tr>\n",
       "      <th>0</th>\n",
       "      <td>0</td>\n",
       "      <td>[1, 1, 2, 4, 3, 1, 3, 2, 2, 4, 1, 3, 0, 2, 3, ...</td>\n",
       "      <td>48</td>\n",
       "      <td>[79, 72, 72, 70, 68, 68, 68, 67, 67, 67, 62, 6...</td>\n",
       "    </tr>\n",
       "    <tr>\n",
       "      <th>1</th>\n",
       "      <td>1</td>\n",
       "      <td>[1, 0, 3, 2, 4, 2, 4, 1, 4, 2, 3, 4, 0, 2, 1, ...</td>\n",
       "      <td>48</td>\n",
       "      <td>[74, 74, 66, 59, 59, 59, 59, 59, 59, 59, 59, 5...</td>\n",
       "    </tr>\n",
       "    <tr>\n",
       "      <th>2</th>\n",
       "      <td>2</td>\n",
       "      <td>[0, 4, 2, 2, 1, 1, 0, 3, 4, 0, 3, 2, 1, 4, 4, ...</td>\n",
       "      <td>52</td>\n",
       "      <td>[75, 75, 73, 73, 73, 73, 73, 73, 73, 73, 72, 7...</td>\n",
       "    </tr>\n",
       "    <tr>\n",
       "      <th>3</th>\n",
       "      <td>3</td>\n",
       "      <td>[4, 1, 3, 0, 2, 3, 3, 2, 4, 2, 4, 2, 1, 4, 1, ...</td>\n",
       "      <td>54</td>\n",
       "      <td>[77, 77, 77, 77, 77, 77, 77, 71, 71, 71, 71, 7...</td>\n",
       "    </tr>\n",
       "    <tr>\n",
       "      <th>4</th>\n",
       "      <td>4</td>\n",
       "      <td>[3, 4, 0, 1, 1, 0, 2, 2, 2, 1, 0, 1, 0, 2, 3, ...</td>\n",
       "      <td>61</td>\n",
       "      <td>[71, 71, 71, 71, 67, 67, 67, 67, 67, 67, 67, 6...</td>\n",
       "    </tr>\n",
       "  </tbody>\n",
       "</table>\n",
       "</div>"
      ],
      "text/plain": [
       "   instance_id                                      best_solution  \\\n",
       "0            0  [1, 1, 2, 4, 3, 1, 3, 2, 2, 4, 1, 3, 0, 2, 3, ...   \n",
       "1            1  [1, 0, 3, 2, 4, 2, 4, 1, 4, 2, 3, 4, 0, 2, 1, ...   \n",
       "2            2  [0, 4, 2, 2, 1, 1, 0, 3, 4, 0, 3, 2, 1, 4, 4, ...   \n",
       "3            3  [4, 1, 3, 0, 2, 3, 3, 2, 4, 2, 4, 2, 1, 4, 1, ...   \n",
       "4            4  [3, 4, 0, 1, 1, 0, 2, 2, 2, 1, 0, 1, 0, 2, 3, ...   \n",
       "\n",
       "   best_makespan                                        convergence  \n",
       "0             48  [79, 72, 72, 70, 68, 68, 68, 67, 67, 67, 62, 6...  \n",
       "1             48  [74, 74, 66, 59, 59, 59, 59, 59, 59, 59, 59, 5...  \n",
       "2             52  [75, 75, 73, 73, 73, 73, 73, 73, 73, 73, 72, 7...  \n",
       "3             54  [77, 77, 77, 77, 77, 77, 77, 71, 71, 71, 71, 7...  \n",
       "4             61  [71, 71, 71, 71, 67, 67, 67, 67, 67, 67, 67, 6...  "
      ]
     },
     "execution_count": 12,
     "metadata": {},
     "output_type": "execute_result"
    }
   ],
   "source": [
    "hc_results3 = pd.read_csv('hc_1000000_evals_cor3.csv', sep=';', index_col=False)\n",
    "hc_results3.head()"
   ]
  },
  {
   "cell_type": "code",
   "execution_count": 14,
   "id": "2edc223f",
   "metadata": {},
   "outputs": [],
   "source": [
    "hc_results3['best_solution'] = hc_results3['best_solution'].apply(custom_literal_eval)\n",
    "hc_results3['convergence'] = hc_results3['convergence'].apply(custom_literal_eval)"
   ]
  },
  {
   "cell_type": "code",
   "execution_count": 15,
   "id": "dd20c82f",
   "metadata": {},
   "outputs": [],
   "source": [
    "hc_results3['best_makespan_4'] = hc_results3['convergence'].apply(lambda x: x[9999])\n",
    "hc_results3['best_makespan_5'] = hc_results3['convergence'].apply(lambda x: x[99999])\n",
    "hc_results3['best_makespan_250'] = hc_results3['convergence'].apply(lambda x: x[249999])\n",
    "hc_results3['best_makespan_500'] = hc_results3['convergence'].apply(lambda x: x[499999])\n",
    "hc_results3['best_makespan_750'] = hc_results3['convergence'].apply(lambda x: x[749999])"
   ]
  },
  {
   "cell_type": "markdown",
   "id": "fa894c11",
   "metadata": {},
   "source": [
    "## Save all makespans to dataset"
   ]
  },
  {
   "cell_type": "code",
   "execution_count": 16,
   "id": "0645596a",
   "metadata": {},
   "outputs": [],
   "source": [
    "best1 = hc_results1['best_makespan']\n",
    "best2 = hc_results2['best_makespan']\n",
    "best3 = hc_results1['best_makespan']"
   ]
  },
  {
   "cell_type": "code",
   "execution_count": 17,
   "id": "a7dc6a21",
   "metadata": {},
   "outputs": [],
   "source": [
    "instances = hc_results1['instance_id']"
   ]
  },
  {
   "cell_type": "code",
   "execution_count": 18,
   "id": "960b645c",
   "metadata": {},
   "outputs": [],
   "source": [
    "best_makespans_all = pd.DataFrame({'instance_id': instances,\n",
    "                                     'run1_4': hc_results1['best_makespan_4'],\n",
    "                                     'run2_4': hc_results2['best_makespan_4'],\n",
    "                                     'run3_4': hc_results1['best_makespan_4'],\n",
    "                                     'run1_5': hc_results1['best_makespan_5'],\n",
    "                                     'run2_5': hc_results2['best_makespan_5'],\n",
    "                                     'run3_5': hc_results3['best_makespan_5'],\n",
    "                                     'run1_250': hc_results1['best_makespan_250'],\n",
    "                                     'run2_250': hc_results2['best_makespan_250'],\n",
    "                                     'run3_250': hc_results3['best_makespan_250'],\n",
    "                                     'run1_500': hc_results1['best_makespan_500'],\n",
    "                                     'run2_500': hc_results2['best_makespan_500'],\n",
    "                                     'run3_500': hc_results3['best_makespan_500'],\n",
    "                                     'run1_750': hc_results1['best_makespan_750'],\n",
    "                                     'run2_750': hc_results2['best_makespan_750'],\n",
    "                                     'run3_750': hc_results3['best_makespan_750'],\n",
    "                                     'run1_best': best1,\n",
    "                                     'run2_best': best2,\n",
    "                                     'run3_best': best3})"
   ]
  },
  {
   "cell_type": "code",
   "execution_count": 19,
   "id": "0e628662",
   "metadata": {},
   "outputs": [
    {
     "data": {
      "text/html": [
       "<div>\n",
       "<style scoped>\n",
       "    .dataframe tbody tr th:only-of-type {\n",
       "        vertical-align: middle;\n",
       "    }\n",
       "\n",
       "    .dataframe tbody tr th {\n",
       "        vertical-align: top;\n",
       "    }\n",
       "\n",
       "    .dataframe thead th {\n",
       "        text-align: right;\n",
       "    }\n",
       "</style>\n",
       "<table border=\"1\" class=\"dataframe\">\n",
       "  <thead>\n",
       "    <tr style=\"text-align: right;\">\n",
       "      <th></th>\n",
       "      <th>instance_id</th>\n",
       "      <th>run1_4</th>\n",
       "      <th>run2_4</th>\n",
       "      <th>run3_4</th>\n",
       "      <th>run1_5</th>\n",
       "      <th>run2_5</th>\n",
       "      <th>run3_5</th>\n",
       "      <th>run1_250</th>\n",
       "      <th>run2_250</th>\n",
       "      <th>run3_250</th>\n",
       "      <th>run1_500</th>\n",
       "      <th>run2_500</th>\n",
       "      <th>run3_500</th>\n",
       "      <th>run1_750</th>\n",
       "      <th>run2_750</th>\n",
       "      <th>run3_750</th>\n",
       "      <th>run1_best</th>\n",
       "      <th>run2_best</th>\n",
       "      <th>run3_best</th>\n",
       "    </tr>\n",
       "  </thead>\n",
       "  <tbody>\n",
       "    <tr>\n",
       "      <th>0</th>\n",
       "      <td>0</td>\n",
       "      <td>48</td>\n",
       "      <td>48</td>\n",
       "      <td>48</td>\n",
       "      <td>48</td>\n",
       "      <td>48</td>\n",
       "      <td>48</td>\n",
       "      <td>48</td>\n",
       "      <td>48</td>\n",
       "      <td>48</td>\n",
       "      <td>48</td>\n",
       "      <td>48</td>\n",
       "      <td>48</td>\n",
       "      <td>48</td>\n",
       "      <td>48</td>\n",
       "      <td>48</td>\n",
       "      <td>48</td>\n",
       "      <td>48</td>\n",
       "      <td>48</td>\n",
       "    </tr>\n",
       "    <tr>\n",
       "      <th>1</th>\n",
       "      <td>1</td>\n",
       "      <td>48</td>\n",
       "      <td>48</td>\n",
       "      <td>48</td>\n",
       "      <td>48</td>\n",
       "      <td>48</td>\n",
       "      <td>48</td>\n",
       "      <td>48</td>\n",
       "      <td>48</td>\n",
       "      <td>48</td>\n",
       "      <td>48</td>\n",
       "      <td>48</td>\n",
       "      <td>48</td>\n",
       "      <td>48</td>\n",
       "      <td>48</td>\n",
       "      <td>48</td>\n",
       "      <td>48</td>\n",
       "      <td>48</td>\n",
       "      <td>48</td>\n",
       "    </tr>\n",
       "    <tr>\n",
       "      <th>2</th>\n",
       "      <td>2</td>\n",
       "      <td>52</td>\n",
       "      <td>52</td>\n",
       "      <td>52</td>\n",
       "      <td>52</td>\n",
       "      <td>52</td>\n",
       "      <td>52</td>\n",
       "      <td>52</td>\n",
       "      <td>52</td>\n",
       "      <td>52</td>\n",
       "      <td>52</td>\n",
       "      <td>52</td>\n",
       "      <td>52</td>\n",
       "      <td>52</td>\n",
       "      <td>52</td>\n",
       "      <td>52</td>\n",
       "      <td>52</td>\n",
       "      <td>52</td>\n",
       "      <td>52</td>\n",
       "    </tr>\n",
       "    <tr>\n",
       "      <th>3</th>\n",
       "      <td>3</td>\n",
       "      <td>54</td>\n",
       "      <td>54</td>\n",
       "      <td>54</td>\n",
       "      <td>54</td>\n",
       "      <td>54</td>\n",
       "      <td>54</td>\n",
       "      <td>54</td>\n",
       "      <td>54</td>\n",
       "      <td>54</td>\n",
       "      <td>54</td>\n",
       "      <td>54</td>\n",
       "      <td>54</td>\n",
       "      <td>54</td>\n",
       "      <td>54</td>\n",
       "      <td>54</td>\n",
       "      <td>54</td>\n",
       "      <td>54</td>\n",
       "      <td>54</td>\n",
       "    </tr>\n",
       "    <tr>\n",
       "      <th>4</th>\n",
       "      <td>4</td>\n",
       "      <td>61</td>\n",
       "      <td>61</td>\n",
       "      <td>61</td>\n",
       "      <td>61</td>\n",
       "      <td>61</td>\n",
       "      <td>61</td>\n",
       "      <td>61</td>\n",
       "      <td>61</td>\n",
       "      <td>61</td>\n",
       "      <td>61</td>\n",
       "      <td>61</td>\n",
       "      <td>61</td>\n",
       "      <td>61</td>\n",
       "      <td>61</td>\n",
       "      <td>61</td>\n",
       "      <td>61</td>\n",
       "      <td>61</td>\n",
       "      <td>61</td>\n",
       "    </tr>\n",
       "  </tbody>\n",
       "</table>\n",
       "</div>"
      ],
      "text/plain": [
       "   instance_id  run1_4  run2_4  run3_4  run1_5  run2_5  run3_5  run1_250  \\\n",
       "0            0      48      48      48      48      48      48        48   \n",
       "1            1      48      48      48      48      48      48        48   \n",
       "2            2      52      52      52      52      52      52        52   \n",
       "3            3      54      54      54      54      54      54        54   \n",
       "4            4      61      61      61      61      61      61        61   \n",
       "\n",
       "   run2_250  run3_250  run1_500  run2_500  run3_500  run1_750  run2_750  \\\n",
       "0        48        48        48        48        48        48        48   \n",
       "1        48        48        48        48        48        48        48   \n",
       "2        52        52        52        52        52        52        52   \n",
       "3        54        54        54        54        54        54        54   \n",
       "4        61        61        61        61        61        61        61   \n",
       "\n",
       "   run3_750  run1_best  run2_best  run3_best  \n",
       "0        48         48         48         48  \n",
       "1        48         48         48         48  \n",
       "2        52         52         52         52  \n",
       "3        54         54         54         54  \n",
       "4        61         61         61         61  "
      ]
     },
     "execution_count": 19,
     "metadata": {},
     "output_type": "execute_result"
    }
   ],
   "source": [
    "best_makespans_all.head()"
   ]
  },
  {
   "cell_type": "code",
   "execution_count": 20,
   "id": "8f750b02",
   "metadata": {},
   "outputs": [],
   "source": [
    "best_makespans_all.to_csv('hc_all_runs_makespans_nongreedy.csv', index=False)"
   ]
  },
  {
   "cell_type": "markdown",
   "id": "574d8933",
   "metadata": {},
   "source": [
    "## HC Convergende dataset"
   ]
  },
  {
   "cell_type": "code",
   "execution_count": 22,
   "id": "11cd2fa6",
   "metadata": {},
   "outputs": [],
   "source": [
    "#selected ids based with largest makespan differences within the instance makespans\n",
    "instances_ids = [0, 18, 29, 33, 398, 415, 418, 419]"
   ]
  },
  {
   "cell_type": "code",
   "execution_count": 23,
   "id": "73b71717",
   "metadata": {},
   "outputs": [
    {
     "name": "stdout",
     "output_type": "stream",
     "text": [
      "0\n",
      "18\n",
      "29\n",
      "33\n",
      "398\n",
      "415\n",
      "418\n",
      "419\n"
     ]
    }
   ],
   "source": [
    "hc1_convergence = []\n",
    "hc2_convergence = []\n",
    "hc3_convergence = []\n",
    "for i in instances_ids:\n",
    "    print(i)\n",
    "    hc1 = hc_results1['convergence'][i]\n",
    "    hc2 = hc_results2['convergence'][i]\n",
    "    hc3 = hc_results3['convergence'][i]\n",
    "    hc1_convergence.append(hc1)\n",
    "#     print(hc_convergence)\n",
    "    hc2_convergence.append(hc2)\n",
    "#     print(hc2_convergence)\n",
    "    hc3_convergence.append(hc3)\n",
    "#     print(hc3_convergence)"
   ]
  },
  {
   "cell_type": "code",
   "execution_count": 24,
   "id": "68ffd427",
   "metadata": {},
   "outputs": [],
   "source": [
    "hc_convergence_df = pd.DataFrame({'instance_id': instances_ids,\n",
    "                                     'hc1_convergence': hc1_convergence,\n",
    "                                     'hc2_convergence': hc2_convergence,\n",
    "                                     'hc3_convergence': hc3_convergence})"
   ]
  },
  {
   "cell_type": "code",
   "execution_count": 25,
   "id": "47af2c95",
   "metadata": {
    "scrolled": true
   },
   "outputs": [
    {
     "data": {
      "text/html": [
       "<div>\n",
       "<style scoped>\n",
       "    .dataframe tbody tr th:only-of-type {\n",
       "        vertical-align: middle;\n",
       "    }\n",
       "\n",
       "    .dataframe tbody tr th {\n",
       "        vertical-align: top;\n",
       "    }\n",
       "\n",
       "    .dataframe thead th {\n",
       "        text-align: right;\n",
       "    }\n",
       "</style>\n",
       "<table border=\"1\" class=\"dataframe\">\n",
       "  <thead>\n",
       "    <tr style=\"text-align: right;\">\n",
       "      <th></th>\n",
       "      <th>instance_id</th>\n",
       "      <th>hc1_convergence</th>\n",
       "      <th>hc2_convergence</th>\n",
       "      <th>hc3_convergence</th>\n",
       "    </tr>\n",
       "  </thead>\n",
       "  <tbody>\n",
       "    <tr>\n",
       "      <th>0</th>\n",
       "      <td>0</td>\n",
       "      <td>[60, 60, 60, 60, 60, 59, 52, 52, 52, 52, 52, 5...</td>\n",
       "      <td>[76, 76, 76, 63, 58, 58, 58, 58, 56, 56, 56, 5...</td>\n",
       "      <td>[79, 72, 72, 70, 68, 68, 68, 67, 67, 67, 62, 6...</td>\n",
       "    </tr>\n",
       "    <tr>\n",
       "      <th>1</th>\n",
       "      <td>18</td>\n",
       "      <td>[204, 204, 204, 204, 204, 204, 203, 203, 203, ...</td>\n",
       "      <td>[208, 205, 205, 191, 191, 191, 191, 181, 181, ...</td>\n",
       "      <td>[194, 192, 192, 192, 192, 192, 192, 190, 190, ...</td>\n",
       "    </tr>\n",
       "    <tr>\n",
       "      <th>2</th>\n",
       "      <td>29</td>\n",
       "      <td>[207, 201, 201, 201, 198, 189, 189, 189, 189, ...</td>\n",
       "      <td>[201, 201, 201, 201, 187, 187, 181, 181, 162, ...</td>\n",
       "      <td>[209, 208, 189, 189, 189, 189, 189, 188, 188, ...</td>\n",
       "    </tr>\n",
       "    <tr>\n",
       "      <th>3</th>\n",
       "      <td>33</td>\n",
       "      <td>[210, 210, 210, 210, 210, 210, 201, 200, 200, ...</td>\n",
       "      <td>[215, 214, 214, 214, 214, 212, 212, 207, 207, ...</td>\n",
       "      <td>[211, 211, 211, 202, 196, 196, 192, 192, 192, ...</td>\n",
       "    </tr>\n",
       "    <tr>\n",
       "      <th>4</th>\n",
       "      <td>398</td>\n",
       "      <td>[1164, 1164, 1164, 1149, 1149, 1149, 1149, 114...</td>\n",
       "      <td>[1080, 1080, 1074, 1073, 1073, 1064, 1064, 106...</td>\n",
       "      <td>[1061, 1061, 1061, 1061, 1058, 1058, 1055, 105...</td>\n",
       "    </tr>\n",
       "    <tr>\n",
       "      <th>5</th>\n",
       "      <td>415</td>\n",
       "      <td>[1120, 1120, 1120, 1111, 1111, 1106, 1102, 110...</td>\n",
       "      <td>[1102, 1102, 1102, 1102, 1101, 1101, 1093, 108...</td>\n",
       "      <td>[1111, 1111, 1111, 1111, 1111, 1089, 1089, 108...</td>\n",
       "    </tr>\n",
       "    <tr>\n",
       "      <th>6</th>\n",
       "      <td>418</td>\n",
       "      <td>[1210, 1210, 1210, 1210, 1210, 1210, 1169, 116...</td>\n",
       "      <td>[1051, 1040, 1040, 1040, 1040, 1040, 1040, 103...</td>\n",
       "      <td>[1157, 1157, 1157, 1157, 1157, 1151, 1151, 115...</td>\n",
       "    </tr>\n",
       "    <tr>\n",
       "      <th>7</th>\n",
       "      <td>419</td>\n",
       "      <td>[1120, 1120, 1120, 1110, 1110, 1093, 1093, 109...</td>\n",
       "      <td>[1148, 1148, 1148, 1148, 1148, 1146, 1146, 114...</td>\n",
       "      <td>[1126, 1126, 1126, 1125, 1125, 1125, 1121, 111...</td>\n",
       "    </tr>\n",
       "  </tbody>\n",
       "</table>\n",
       "</div>"
      ],
      "text/plain": [
       "   instance_id                                    hc1_convergence  \\\n",
       "0            0  [60, 60, 60, 60, 60, 59, 52, 52, 52, 52, 52, 5...   \n",
       "1           18  [204, 204, 204, 204, 204, 204, 203, 203, 203, ...   \n",
       "2           29  [207, 201, 201, 201, 198, 189, 189, 189, 189, ...   \n",
       "3           33  [210, 210, 210, 210, 210, 210, 201, 200, 200, ...   \n",
       "4          398  [1164, 1164, 1164, 1149, 1149, 1149, 1149, 114...   \n",
       "5          415  [1120, 1120, 1120, 1111, 1111, 1106, 1102, 110...   \n",
       "6          418  [1210, 1210, 1210, 1210, 1210, 1210, 1169, 116...   \n",
       "7          419  [1120, 1120, 1120, 1110, 1110, 1093, 1093, 109...   \n",
       "\n",
       "                                     hc2_convergence  \\\n",
       "0  [76, 76, 76, 63, 58, 58, 58, 58, 56, 56, 56, 5...   \n",
       "1  [208, 205, 205, 191, 191, 191, 191, 181, 181, ...   \n",
       "2  [201, 201, 201, 201, 187, 187, 181, 181, 162, ...   \n",
       "3  [215, 214, 214, 214, 214, 212, 212, 207, 207, ...   \n",
       "4  [1080, 1080, 1074, 1073, 1073, 1064, 1064, 106...   \n",
       "5  [1102, 1102, 1102, 1102, 1101, 1101, 1093, 108...   \n",
       "6  [1051, 1040, 1040, 1040, 1040, 1040, 1040, 103...   \n",
       "7  [1148, 1148, 1148, 1148, 1148, 1146, 1146, 114...   \n",
       "\n",
       "                                     hc3_convergence  \n",
       "0  [79, 72, 72, 70, 68, 68, 68, 67, 67, 67, 62, 6...  \n",
       "1  [194, 192, 192, 192, 192, 192, 192, 190, 190, ...  \n",
       "2  [209, 208, 189, 189, 189, 189, 189, 188, 188, ...  \n",
       "3  [211, 211, 211, 202, 196, 196, 192, 192, 192, ...  \n",
       "4  [1061, 1061, 1061, 1061, 1058, 1058, 1055, 105...  \n",
       "5  [1111, 1111, 1111, 1111, 1111, 1089, 1089, 108...  \n",
       "6  [1157, 1157, 1157, 1157, 1157, 1151, 1151, 115...  \n",
       "7  [1126, 1126, 1126, 1125, 1125, 1125, 1121, 111...  "
      ]
     },
     "execution_count": 25,
     "metadata": {},
     "output_type": "execute_result"
    }
   ],
   "source": [
    "hc_convergence_df"
   ]
  },
  {
   "cell_type": "code",
   "execution_count": 26,
   "id": "8e0b9380",
   "metadata": {},
   "outputs": [],
   "source": [
    "hc_convergence_df.to_csv('hc_runs_combined3_conv_only.csv', index=False)"
   ]
  },
  {
   "cell_type": "markdown",
   "id": "e830181f",
   "metadata": {},
   "source": [
    "## HC Results combined"
   ]
  },
  {
   "cell_type": "code",
   "execution_count": null,
   "id": "e03437d9",
   "metadata": {},
   "outputs": [],
   "source": [
    "num_runs = 3"
   ]
  },
  {
   "cell_type": "code",
   "execution_count": 11,
   "id": "75fc6816",
   "metadata": {},
   "outputs": [
    {
     "name": "stdout",
     "output_type": "stream",
     "text": [
      "0        0\n",
      "1        1\n",
      "2        2\n",
      "3        3\n",
      "4        4\n",
      "      ... \n",
      "415    415\n",
      "416    416\n",
      "417    417\n",
      "418    418\n",
      "419    419\n",
      "Name: instance_id, Length: 420, dtype: int64\n"
     ]
    }
   ],
   "source": [
    "hc_instance_id = hc_results1['instance_id']\n",
    "print(hc_instance_id)"
   ]
  },
  {
   "cell_type": "code",
   "execution_count": 18,
   "id": "6ae533d8",
   "metadata": {},
   "outputs": [
    {
     "name": "stdout",
     "output_type": "stream",
     "text": [
      "0       48.000000\n",
      "1       48.000000\n",
      "2       52.000000\n",
      "3       54.000000\n",
      "4       61.000000\n",
      "          ...    \n",
      "415    744.000000\n",
      "416    733.333333\n",
      "417    734.333333\n",
      "418    749.666667\n",
      "419    746.666667\n",
      "Name: best_makespan_4, Length: 420, dtype: float64\n"
     ]
    }
   ],
   "source": [
    "hc_best_makespan_4 = (hc_results1['best_makespan_4'] + hc_results2['best_makespan_4'] + \n",
    "                      hc_results3['best_makespan_4']) / num_runs\n",
    "print(hc_best_makespan_4)"
   ]
  },
  {
   "cell_type": "code",
   "execution_count": 19,
   "id": "3fc4a693",
   "metadata": {},
   "outputs": [
    {
     "name": "stdout",
     "output_type": "stream",
     "text": [
      "0       48.000000\n",
      "1       48.000000\n",
      "2       52.000000\n",
      "3       54.000000\n",
      "4       61.000000\n",
      "          ...    \n",
      "415    672.666667\n",
      "416    656.666667\n",
      "417    655.000000\n",
      "418    672.666667\n",
      "419    667.666667\n",
      "Name: best_makespan_5, Length: 420, dtype: float64\n"
     ]
    }
   ],
   "source": [
    "hc_best_makespan_5 = (hc_results1['best_makespan_5'] + hc_results2['best_makespan_5'] + \n",
    "                      hc_results3['best_makespan_5']) / num_runs\n",
    "print(hc_best_makespan_5)"
   ]
  },
  {
   "cell_type": "code",
   "execution_count": 20,
   "id": "377fd9d5",
   "metadata": {},
   "outputs": [
    {
     "name": "stdout",
     "output_type": "stream",
     "text": [
      "0       48.000000\n",
      "1       48.000000\n",
      "2       52.000000\n",
      "3       54.000000\n",
      "4       61.000000\n",
      "          ...    \n",
      "415    655.000000\n",
      "416    639.333333\n",
      "417    635.666667\n",
      "418    653.000000\n",
      "419    647.666667\n",
      "Name: best_makespan_250, Length: 420, dtype: float64\n"
     ]
    }
   ],
   "source": [
    "hc_best_makespan_250 = (hc_results1['best_makespan_250'] + hc_results2['best_makespan_250'] + \n",
    "                      hc_results3['best_makespan_250']) / num_runs\n",
    "print(hc_best_makespan_250)"
   ]
  },
  {
   "cell_type": "code",
   "execution_count": 21,
   "id": "cf47fe60",
   "metadata": {},
   "outputs": [
    {
     "name": "stdout",
     "output_type": "stream",
     "text": [
      "0       48.000000\n",
      "1       48.000000\n",
      "2       52.000000\n",
      "3       54.000000\n",
      "4       61.000000\n",
      "          ...    \n",
      "415    644.333333\n",
      "416    629.666667\n",
      "417    623.333333\n",
      "418    642.666667\n",
      "419    637.666667\n",
      "Name: best_makespan_500, Length: 420, dtype: float64\n"
     ]
    }
   ],
   "source": [
    "hc_best_makespan_500 = (hc_results1['best_makespan_500'] + hc_results2['best_makespan_500'] + \n",
    "                      hc_results3['best_makespan_500']) / num_runs\n",
    "print(hc_best_makespan_500)"
   ]
  },
  {
   "cell_type": "code",
   "execution_count": 22,
   "id": "36992482",
   "metadata": {},
   "outputs": [
    {
     "name": "stdout",
     "output_type": "stream",
     "text": [
      "0       48.000000\n",
      "1       48.000000\n",
      "2       52.000000\n",
      "3       54.000000\n",
      "4       61.000000\n",
      "          ...    \n",
      "415    640.000000\n",
      "416    623.000000\n",
      "417    616.666667\n",
      "418    634.333333\n",
      "419    629.666667\n",
      "Name: best_makespan_750, Length: 420, dtype: float64\n"
     ]
    }
   ],
   "source": [
    "hc_best_makespan_750 = (hc_results1['best_makespan_750'] + hc_results2['best_makespan_750'] + \n",
    "                      hc_results3['best_makespan_750']) / num_runs\n",
    "print(hc_best_makespan_750)"
   ]
  },
  {
   "cell_type": "code",
   "execution_count": 23,
   "id": "6ab8fac4",
   "metadata": {
    "scrolled": true
   },
   "outputs": [
    {
     "name": "stdout",
     "output_type": "stream",
     "text": [
      "0       48.000000\n",
      "1       48.000000\n",
      "2       52.000000\n",
      "3       54.000000\n",
      "4       61.000000\n",
      "          ...    \n",
      "415    635.666667\n",
      "416    617.000000\n",
      "417    613.333333\n",
      "418    631.333333\n",
      "419    624.333333\n",
      "Name: best_makespan, Length: 420, dtype: float64\n"
     ]
    }
   ],
   "source": [
    "hc_best_makespan_6 = (hc_results1['best_makespan'] + hc_results2['best_makespan'] + \n",
    "                      hc_results3['best_makespan']) / num_runs\n",
    "print(hc_best_makespan_6)"
   ]
  },
  {
   "cell_type": "code",
   "execution_count": 24,
   "id": "054c5a1f",
   "metadata": {},
   "outputs": [
    {
     "name": "stdout",
     "output_type": "stream",
     "text": [
      "0        71.666667\n",
      "1        67.666667\n",
      "2        80.333333\n",
      "3        76.333333\n",
      "4        89.333333\n",
      "          ...     \n",
      "415    1111.000000\n",
      "416    1128.666667\n",
      "417    1085.333333\n",
      "418    1139.333333\n",
      "419    1131.333333\n",
      "Length: 420, dtype: float64\n"
     ]
    }
   ],
   "source": [
    "hc_random_initial_makespan1 = pd.Series([i[0] for i in hc_results1['convergence']])\n",
    "hc_random_initial_makespan2 = pd.Series([i[0] for i in hc_results2['convergence']])\n",
    "hc_random_initial_makespan3 = pd.Series([i[0] for i in hc_results3['convergence']])\n",
    "\n",
    "hc_random_initial_makespan = (hc_random_initial_makespan1 + hc_random_initial_makespan2 + hc_random_initial_makespan3) / num_runs\n",
    "print(hc_random_initial_makespan)"
   ]
  },
  {
   "cell_type": "code",
   "execution_count": 25,
   "id": "b2ae4c40",
   "metadata": {},
   "outputs": [
    {
     "data": {
      "text/html": [
       "<div>\n",
       "<style scoped>\n",
       "    .dataframe tbody tr th:only-of-type {\n",
       "        vertical-align: middle;\n",
       "    }\n",
       "\n",
       "    .dataframe tbody tr th {\n",
       "        vertical-align: top;\n",
       "    }\n",
       "\n",
       "    .dataframe thead th {\n",
       "        text-align: right;\n",
       "    }\n",
       "</style>\n",
       "<table border=\"1\" class=\"dataframe\">\n",
       "  <thead>\n",
       "    <tr style=\"text-align: right;\">\n",
       "      <th></th>\n",
       "      <th>instance_id</th>\n",
       "      <th>random_initial_makespan</th>\n",
       "      <th>best_makespan_4</th>\n",
       "      <th>best_makespan_5</th>\n",
       "      <th>best_makespan_250</th>\n",
       "      <th>best_makespan_500</th>\n",
       "      <th>best_makespan_750</th>\n",
       "      <th>best_makespan_6</th>\n",
       "    </tr>\n",
       "  </thead>\n",
       "  <tbody>\n",
       "    <tr>\n",
       "      <th>0</th>\n",
       "      <td>0</td>\n",
       "      <td>71.666667</td>\n",
       "      <td>48.0</td>\n",
       "      <td>48.0</td>\n",
       "      <td>48.0</td>\n",
       "      <td>48.0</td>\n",
       "      <td>48.0</td>\n",
       "      <td>48.0</td>\n",
       "    </tr>\n",
       "    <tr>\n",
       "      <th>1</th>\n",
       "      <td>1</td>\n",
       "      <td>67.666667</td>\n",
       "      <td>48.0</td>\n",
       "      <td>48.0</td>\n",
       "      <td>48.0</td>\n",
       "      <td>48.0</td>\n",
       "      <td>48.0</td>\n",
       "      <td>48.0</td>\n",
       "    </tr>\n",
       "    <tr>\n",
       "      <th>2</th>\n",
       "      <td>2</td>\n",
       "      <td>80.333333</td>\n",
       "      <td>52.0</td>\n",
       "      <td>52.0</td>\n",
       "      <td>52.0</td>\n",
       "      <td>52.0</td>\n",
       "      <td>52.0</td>\n",
       "      <td>52.0</td>\n",
       "    </tr>\n",
       "    <tr>\n",
       "      <th>3</th>\n",
       "      <td>3</td>\n",
       "      <td>76.333333</td>\n",
       "      <td>54.0</td>\n",
       "      <td>54.0</td>\n",
       "      <td>54.0</td>\n",
       "      <td>54.0</td>\n",
       "      <td>54.0</td>\n",
       "      <td>54.0</td>\n",
       "    </tr>\n",
       "    <tr>\n",
       "      <th>4</th>\n",
       "      <td>4</td>\n",
       "      <td>89.333333</td>\n",
       "      <td>61.0</td>\n",
       "      <td>61.0</td>\n",
       "      <td>61.0</td>\n",
       "      <td>61.0</td>\n",
       "      <td>61.0</td>\n",
       "      <td>61.0</td>\n",
       "    </tr>\n",
       "  </tbody>\n",
       "</table>\n",
       "</div>"
      ],
      "text/plain": [
       "   instance_id  random_initial_makespan  best_makespan_4  best_makespan_5  \\\n",
       "0            0                71.666667             48.0             48.0   \n",
       "1            1                67.666667             48.0             48.0   \n",
       "2            2                80.333333             52.0             52.0   \n",
       "3            3                76.333333             54.0             54.0   \n",
       "4            4                89.333333             61.0             61.0   \n",
       "\n",
       "   best_makespan_250  best_makespan_500  best_makespan_750  best_makespan_6  \n",
       "0               48.0               48.0               48.0             48.0  \n",
       "1               48.0               48.0               48.0             48.0  \n",
       "2               52.0               52.0               52.0             52.0  \n",
       "3               54.0               54.0               54.0             54.0  \n",
       "4               61.0               61.0               61.0             61.0  "
      ]
     },
     "execution_count": 25,
     "metadata": {},
     "output_type": "execute_result"
    }
   ],
   "source": [
    "hc_runs_combined = pd.DataFrame({'instance_id': hc_instance_id, \n",
    "                                 'random_initial_makespan': hc_random_initial_makespan, \n",
    "                                 'best_makespan_4': hc_best_makespan_4,\n",
    "                                 'best_makespan_5': hc_best_makespan_5,\n",
    "                                 'best_makespan_250': hc_best_makespan_250,\n",
    "                                 'best_makespan_500': hc_best_makespan_500,\n",
    "                                 'best_makespan_750': hc_best_makespan_750,\n",
    "                                 'best_makespan_6': hc_best_makespan_6, })\n",
    "hc_runs_combined.head()"
   ]
  },
  {
   "cell_type": "code",
   "execution_count": 26,
   "id": "cc3a0de6",
   "metadata": {},
   "outputs": [],
   "source": [
    "hc_runs_combined.to_csv('hc_runs_combined3_incl_conv.csv', index=False)"
   ]
  },
  {
   "cell_type": "code",
   "execution_count": null,
   "id": "12e0f594",
   "metadata": {},
   "outputs": [],
   "source": []
  }
 ],
 "metadata": {
  "kernelspec": {
   "display_name": "Python 3 (ipykernel)",
   "language": "python",
   "name": "python3"
  },
  "language_info": {
   "codemirror_mode": {
    "name": "ipython",
    "version": 3
   },
   "file_extension": ".py",
   "mimetype": "text/x-python",
   "name": "python",
   "nbconvert_exporter": "python",
   "pygments_lexer": "ipython3",
   "version": "3.9.12"
  }
 },
 "nbformat": 4,
 "nbformat_minor": 5
}

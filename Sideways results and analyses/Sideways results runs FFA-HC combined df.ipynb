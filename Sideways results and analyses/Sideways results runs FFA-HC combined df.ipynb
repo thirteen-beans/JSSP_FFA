{
 "cells": [
  {
   "cell_type": "code",
   "execution_count": 1,
   "id": "ecac1885",
   "metadata": {},
   "outputs": [],
   "source": [
    "import pandas as pd\n",
    "import ast\n",
    "import numpy as np\n",
    "import matplotlib.pyplot as plt\n",
    "import json\n",
    "import seaborn as sns"
   ]
  },
  {
   "cell_type": "markdown",
   "id": "a5a46604",
   "metadata": {},
   "source": [
    "# Import and combine data"
   ]
  },
  {
   "cell_type": "markdown",
   "id": "949abeaf",
   "metadata": {},
   "source": [
    "## FFA HillClimber run 1"
   ]
  },
  {
   "cell_type": "code",
   "execution_count": 2,
   "id": "701f7eb4",
   "metadata": {
    "scrolled": true
   },
   "outputs": [
    {
     "data": {
      "text/html": [
       "<div>\n",
       "<style scoped>\n",
       "    .dataframe tbody tr th:only-of-type {\n",
       "        vertical-align: middle;\n",
       "    }\n",
       "\n",
       "    .dataframe tbody tr th {\n",
       "        vertical-align: top;\n",
       "    }\n",
       "\n",
       "    .dataframe thead th {\n",
       "        text-align: right;\n",
       "    }\n",
       "</style>\n",
       "<table border=\"1\" class=\"dataframe\">\n",
       "  <thead>\n",
       "    <tr style=\"text-align: right;\">\n",
       "      <th></th>\n",
       "      <th>instance_id</th>\n",
       "      <th>least_frequent_solution</th>\n",
       "      <th>least_frequent_makespan</th>\n",
       "      <th>best_solution</th>\n",
       "      <th>best_makespan</th>\n",
       "      <th>convergence</th>\n",
       "      <th>search_progression</th>\n",
       "    </tr>\n",
       "  </thead>\n",
       "  <tbody>\n",
       "    <tr>\n",
       "      <th>0</th>\n",
       "      <td>0</td>\n",
       "      <td>[0, 4, 4, 0, 3, 2, 2, 1, 1, 0, 0, 4, 4, 3, 3, ...</td>\n",
       "      <td>113</td>\n",
       "      <td>[2, 3, 1, 1, 1, 0, 0, 0, 4, 4, 2, 1, 3, 2, 4, ...</td>\n",
       "      <td>48</td>\n",
       "      <td>[65, 65, 65, 65, 65, 65, 65, 65, 65, 65, 65, 6...</td>\n",
       "      <td>[65, 65, 65, 74, 77, 83, 83, 83, 79, 71, 71, 6...</td>\n",
       "    </tr>\n",
       "    <tr>\n",
       "      <th>1</th>\n",
       "      <td>1</td>\n",
       "      <td>[1, 1, 2, 2, 4, 0, 3, 3, 4, 3, 0, 3, 3, 2, 1, ...</td>\n",
       "      <td>52</td>\n",
       "      <td>[3, 1, 2, 0, 2, 4, 1, 4, 2, 3, 1, 3, 2, 0, 4, ...</td>\n",
       "      <td>48</td>\n",
       "      <td>[61, 61, 61, 61, 60, 60, 60, 60, 60, 60, 60, 6...</td>\n",
       "      <td>[61, 61, 67, 62, 60, 60, 60, 60, 63, 63, 63, 6...</td>\n",
       "    </tr>\n",
       "    <tr>\n",
       "      <th>2</th>\n",
       "      <td>2</td>\n",
       "      <td>[0, 0, 3, 1, 1, 4, 4, 4, 1, 1, 0, 4, 4, 4, 4, ...</td>\n",
       "      <td>187</td>\n",
       "      <td>[1, 0, 4, 1, 1, 2, 0, 3, 4, 2, 0, 3, 3, 0, 2, ...</td>\n",
       "      <td>52</td>\n",
       "      <td>[73, 64, 64, 64, 58, 58, 58, 58, 58, 58, 58, 5...</td>\n",
       "      <td>[73, 64, 70, 70, 58, 58, 67, 67, 69, 69, 69, 6...</td>\n",
       "    </tr>\n",
       "    <tr>\n",
       "      <th>3</th>\n",
       "      <td>3</td>\n",
       "      <td>[1, 1, 1, 2, 1, 1, 2, 1, 2, 4, 4, 2, 4, 1, 2, ...</td>\n",
       "      <td>144</td>\n",
       "      <td>[1, 2, 3, 2, 0, 4, 2, 4, 4, 1, 2, 3, 1, 1, 3, ...</td>\n",
       "      <td>54</td>\n",
       "      <td>[83, 71, 71, 71, 71, 71, 71, 71, 71, 71, 71, 7...</td>\n",
       "      <td>[83, 71, 88, 82, 80, 80, 82, 82, 82, 82, 83, 8...</td>\n",
       "    </tr>\n",
       "    <tr>\n",
       "      <th>4</th>\n",
       "      <td>4</td>\n",
       "      <td>[3, 3, 0, 3, 0, 0, 0, 2, 0, 4, 0, 3, 0, 0, 1, ...</td>\n",
       "      <td>219</td>\n",
       "      <td>[0, 3, 1, 1, 1, 0, 2, 3, 0, 2, 2, 1, 2, 0, 4, ...</td>\n",
       "      <td>61</td>\n",
       "      <td>[97, 82, 82, 82, 82, 82, 82, 82, 82, 82, 82, 8...</td>\n",
       "      <td>[97, 82, 82, 119, 119, 129, 122, 122, 129, 112...</td>\n",
       "    </tr>\n",
       "  </tbody>\n",
       "</table>\n",
       "</div>"
      ],
      "text/plain": [
       "   instance_id                            least_frequent_solution  \\\n",
       "0            0  [0, 4, 4, 0, 3, 2, 2, 1, 1, 0, 0, 4, 4, 3, 3, ...   \n",
       "1            1  [1, 1, 2, 2, 4, 0, 3, 3, 4, 3, 0, 3, 3, 2, 1, ...   \n",
       "2            2  [0, 0, 3, 1, 1, 4, 4, 4, 1, 1, 0, 4, 4, 4, 4, ...   \n",
       "3            3  [1, 1, 1, 2, 1, 1, 2, 1, 2, 4, 4, 2, 4, 1, 2, ...   \n",
       "4            4  [3, 3, 0, 3, 0, 0, 0, 2, 0, 4, 0, 3, 0, 0, 1, ...   \n",
       "\n",
       "   least_frequent_makespan                                      best_solution  \\\n",
       "0                      113  [2, 3, 1, 1, 1, 0, 0, 0, 4, 4, 2, 1, 3, 2, 4, ...   \n",
       "1                       52  [3, 1, 2, 0, 2, 4, 1, 4, 2, 3, 1, 3, 2, 0, 4, ...   \n",
       "2                      187  [1, 0, 4, 1, 1, 2, 0, 3, 4, 2, 0, 3, 3, 0, 2, ...   \n",
       "3                      144  [1, 2, 3, 2, 0, 4, 2, 4, 4, 1, 2, 3, 1, 1, 3, ...   \n",
       "4                      219  [0, 3, 1, 1, 1, 0, 2, 3, 0, 2, 2, 1, 2, 0, 4, ...   \n",
       "\n",
       "   best_makespan                                        convergence  \\\n",
       "0             48  [65, 65, 65, 65, 65, 65, 65, 65, 65, 65, 65, 6...   \n",
       "1             48  [61, 61, 61, 61, 60, 60, 60, 60, 60, 60, 60, 6...   \n",
       "2             52  [73, 64, 64, 64, 58, 58, 58, 58, 58, 58, 58, 5...   \n",
       "3             54  [83, 71, 71, 71, 71, 71, 71, 71, 71, 71, 71, 7...   \n",
       "4             61  [97, 82, 82, 82, 82, 82, 82, 82, 82, 82, 82, 8...   \n",
       "\n",
       "                                  search_progression  \n",
       "0  [65, 65, 65, 74, 77, 83, 83, 83, 79, 71, 71, 6...  \n",
       "1  [61, 61, 67, 62, 60, 60, 60, 60, 63, 63, 63, 6...  \n",
       "2  [73, 64, 70, 70, 58, 58, 67, 67, 69, 69, 69, 6...  \n",
       "3  [83, 71, 88, 82, 80, 80, 82, 82, 82, 82, 83, 8...  \n",
       "4  [97, 82, 82, 119, 119, 129, 122, 122, 129, 112...  "
      ]
     },
     "execution_count": 2,
     "metadata": {},
     "output_type": "execute_result"
    }
   ],
   "source": [
    "ffahc_results1 = pd.read_csv('ffahc_1000000_evals_cor.csv', sep=';', index_col=False)\n",
    "ffahc_results1.head()"
   ]
  },
  {
   "cell_type": "markdown",
   "id": "0014779a",
   "metadata": {},
   "source": [
    "### Strings to lists"
   ]
  },
  {
   "cell_type": "code",
   "execution_count": 3,
   "id": "ea8cb1d2",
   "metadata": {},
   "outputs": [],
   "source": [
    "def custom_literal_eval(x):\n",
    "    try:\n",
    "        return json.loads(x)\n",
    "    except (json.JSONDecodeError, TypeError):\n",
    "        return x"
   ]
  },
  {
   "cell_type": "code",
   "execution_count": 4,
   "id": "b2574203",
   "metadata": {},
   "outputs": [],
   "source": [
    "ffahc_results1['best_solution'] = ffahc_results1['best_solution'].apply(custom_literal_eval)\n",
    "ffahc_results1['convergence'] = ffahc_results1['convergence'].apply(custom_literal_eval)"
   ]
  },
  {
   "cell_type": "code",
   "execution_count": 7,
   "id": "83b5af62",
   "metadata": {},
   "outputs": [],
   "source": [
    "ffahc_results1['best_makespan_4'] = ffahc_results1['convergence'].apply(lambda x: x[9999])\n",
    "ffahc_results1['best_makespan_5'] = ffahc_results1['convergence'].apply(lambda x: x[99999])\n",
    "ffahc_results1['best_makespan_250'] = ffahc_results1['convergence'].apply(lambda x: x[249999])\n",
    "ffahc_results1['best_makespan_500'] = ffahc_results1['convergence'].apply(lambda x: x[499999])\n",
    "ffahc_results1['best_makespan_750'] = ffahc_results1['convergence'].apply(lambda x: x[749999])"
   ]
  },
  {
   "cell_type": "markdown",
   "id": "3c23469b",
   "metadata": {},
   "source": [
    "## FFA HillClimber run 2"
   ]
  },
  {
   "cell_type": "code",
   "execution_count": 9,
   "id": "1191f6bd",
   "metadata": {},
   "outputs": [
    {
     "data": {
      "text/html": [
       "<div>\n",
       "<style scoped>\n",
       "    .dataframe tbody tr th:only-of-type {\n",
       "        vertical-align: middle;\n",
       "    }\n",
       "\n",
       "    .dataframe tbody tr th {\n",
       "        vertical-align: top;\n",
       "    }\n",
       "\n",
       "    .dataframe thead th {\n",
       "        text-align: right;\n",
       "    }\n",
       "</style>\n",
       "<table border=\"1\" class=\"dataframe\">\n",
       "  <thead>\n",
       "    <tr style=\"text-align: right;\">\n",
       "      <th></th>\n",
       "      <th>instance_id</th>\n",
       "      <th>least_frequent_solution</th>\n",
       "      <th>least_frequent_makespan</th>\n",
       "      <th>best_solution</th>\n",
       "      <th>best_makespan</th>\n",
       "      <th>convergence</th>\n",
       "      <th>search_progression</th>\n",
       "    </tr>\n",
       "  </thead>\n",
       "  <tbody>\n",
       "    <tr>\n",
       "      <th>0</th>\n",
       "      <td>0</td>\n",
       "      <td>[2, 2, 2, 4, 4, 3, 4, 0, 1, 0, 3, 1, 0, 1, 4, ...</td>\n",
       "      <td>91</td>\n",
       "      <td>[2, 1, 4, 1, 1, 1, 3, 4, 2, 3, 0, 3, 2, 2, 3, ...</td>\n",
       "      <td>48</td>\n",
       "      <td>[52, 52, 52, 52, 52, 52, 52, 52, 52, 52, 52, 5...</td>\n",
       "      <td>[52, 52, 52, 58, 70, 64, 53, 53, 53, 53, 53, 5...</td>\n",
       "    </tr>\n",
       "    <tr>\n",
       "      <th>1</th>\n",
       "      <td>1</td>\n",
       "      <td>[1, 0, 0, 0, 1, 2, 1, 4, 4, 4, 1, 3, 3, 3, 3, ...</td>\n",
       "      <td>155</td>\n",
       "      <td>[2, 1, 4, 0, 4, 2, 1, 3, 3, 3, 4, 4, 0, 2, 1, ...</td>\n",
       "      <td>48</td>\n",
       "      <td>[80, 78, 71, 71, 62, 62, 62, 62, 58, 52, 52, 5...</td>\n",
       "      <td>[80, 78, 71, 71, 62, 62, 62, 66, 58, 52, 52, 5...</td>\n",
       "    </tr>\n",
       "    <tr>\n",
       "      <th>2</th>\n",
       "      <td>2</td>\n",
       "      <td>[0, 0, 1, 0, 1, 1, 4, 4, 4, 3, 4, 4, 1, 1, 3, ...</td>\n",
       "      <td>157</td>\n",
       "      <td>[3, 2, 4, 3, 1, 4, 0, 2, 0, 0, 1, 1, 0, 2, 0, ...</td>\n",
       "      <td>52</td>\n",
       "      <td>[84, 84, 84, 84, 84, 84, 84, 84, 70, 70, 70, 6...</td>\n",
       "      <td>[84, 84, 99, 95, 92, 92, 92, 95, 70, 70, 70, 6...</td>\n",
       "    </tr>\n",
       "    <tr>\n",
       "      <th>3</th>\n",
       "      <td>3</td>\n",
       "      <td>[3, 2, 0, 3, 0, 4, 1, 2, 1, 1, 3, 0, 3, 4, 2, ...</td>\n",
       "      <td>78</td>\n",
       "      <td>[0, 2, 4, 1, 4, 2, 2, 1, 3, 2, 1, 3, 4, 3, 3, ...</td>\n",
       "      <td>54</td>\n",
       "      <td>[99, 99, 99, 88, 84, 84, 84, 84, 84, 84, 84, 8...</td>\n",
       "      <td>[99, 103, 103, 88, 84, 84, 84, 84, 87, 87, 87,...</td>\n",
       "    </tr>\n",
       "    <tr>\n",
       "      <th>4</th>\n",
       "      <td>4</td>\n",
       "      <td>[0, 2, 2, 2, 3, 4, 4, 1, 2, 2, 3, 0, 4, 3, 1, ...</td>\n",
       "      <td>100</td>\n",
       "      <td>[1, 0, 1, 1, 3, 4, 2, 2, 2, 1, 0, 0, 0, 1, 1, ...</td>\n",
       "      <td>61</td>\n",
       "      <td>[116, 115, 115, 115, 115, 115, 115, 113, 113, ...</td>\n",
       "      <td>[116, 115, 115, 115, 115, 115, 115, 113, 113, ...</td>\n",
       "    </tr>\n",
       "  </tbody>\n",
       "</table>\n",
       "</div>"
      ],
      "text/plain": [
       "   instance_id                            least_frequent_solution  \\\n",
       "0            0  [2, 2, 2, 4, 4, 3, 4, 0, 1, 0, 3, 1, 0, 1, 4, ...   \n",
       "1            1  [1, 0, 0, 0, 1, 2, 1, 4, 4, 4, 1, 3, 3, 3, 3, ...   \n",
       "2            2  [0, 0, 1, 0, 1, 1, 4, 4, 4, 3, 4, 4, 1, 1, 3, ...   \n",
       "3            3  [3, 2, 0, 3, 0, 4, 1, 2, 1, 1, 3, 0, 3, 4, 2, ...   \n",
       "4            4  [0, 2, 2, 2, 3, 4, 4, 1, 2, 2, 3, 0, 4, 3, 1, ...   \n",
       "\n",
       "   least_frequent_makespan                                      best_solution  \\\n",
       "0                       91  [2, 1, 4, 1, 1, 1, 3, 4, 2, 3, 0, 3, 2, 2, 3, ...   \n",
       "1                      155  [2, 1, 4, 0, 4, 2, 1, 3, 3, 3, 4, 4, 0, 2, 1, ...   \n",
       "2                      157  [3, 2, 4, 3, 1, 4, 0, 2, 0, 0, 1, 1, 0, 2, 0, ...   \n",
       "3                       78  [0, 2, 4, 1, 4, 2, 2, 1, 3, 2, 1, 3, 4, 3, 3, ...   \n",
       "4                      100  [1, 0, 1, 1, 3, 4, 2, 2, 2, 1, 0, 0, 0, 1, 1, ...   \n",
       "\n",
       "   best_makespan                                        convergence  \\\n",
       "0             48  [52, 52, 52, 52, 52, 52, 52, 52, 52, 52, 52, 5...   \n",
       "1             48  [80, 78, 71, 71, 62, 62, 62, 62, 58, 52, 52, 5...   \n",
       "2             52  [84, 84, 84, 84, 84, 84, 84, 84, 70, 70, 70, 6...   \n",
       "3             54  [99, 99, 99, 88, 84, 84, 84, 84, 84, 84, 84, 8...   \n",
       "4             61  [116, 115, 115, 115, 115, 115, 115, 113, 113, ...   \n",
       "\n",
       "                                  search_progression  \n",
       "0  [52, 52, 52, 58, 70, 64, 53, 53, 53, 53, 53, 5...  \n",
       "1  [80, 78, 71, 71, 62, 62, 62, 66, 58, 52, 52, 5...  \n",
       "2  [84, 84, 99, 95, 92, 92, 92, 95, 70, 70, 70, 6...  \n",
       "3  [99, 103, 103, 88, 84, 84, 84, 84, 87, 87, 87,...  \n",
       "4  [116, 115, 115, 115, 115, 115, 115, 113, 113, ...  "
      ]
     },
     "execution_count": 9,
     "metadata": {},
     "output_type": "execute_result"
    }
   ],
   "source": [
    "ffahc_results2 = pd.read_csv('ffahc_1000000_evals_cor2.csv', sep=';', index_col=False)\n",
    "ffahc_results2.head()"
   ]
  },
  {
   "cell_type": "code",
   "execution_count": 10,
   "id": "61b06a18",
   "metadata": {},
   "outputs": [],
   "source": [
    "ffahc_results2['best_solution'] = ffahc_results2['best_solution'].apply(custom_literal_eval)\n",
    "ffahc_results2['convergence'] = ffahc_results2['convergence'].apply(custom_literal_eval)"
   ]
  },
  {
   "cell_type": "code",
   "execution_count": 11,
   "id": "be02fe98",
   "metadata": {},
   "outputs": [],
   "source": [
    "ffahc_results2['best_makespan_4'] = ffahc_results2['convergence'].apply(lambda x: x[9999])\n",
    "ffahc_results2['best_makespan_5'] = ffahc_results2['convergence'].apply(lambda x: x[99999])\n",
    "ffahc_results2['best_makespan_250'] = ffahc_results2['convergence'].apply(lambda x: x[249999])\n",
    "ffahc_results2['best_makespan_500'] = ffahc_results2['convergence'].apply(lambda x: x[499999])\n",
    "ffahc_results2['best_makespan_750'] = ffahc_results2['convergence'].apply(lambda x: x[749999])"
   ]
  },
  {
   "cell_type": "markdown",
   "id": "14229693",
   "metadata": {},
   "source": [
    "## FFA HillClimber run 3"
   ]
  },
  {
   "cell_type": "code",
   "execution_count": 12,
   "id": "ca156a41",
   "metadata": {},
   "outputs": [
    {
     "data": {
      "text/html": [
       "<div>\n",
       "<style scoped>\n",
       "    .dataframe tbody tr th:only-of-type {\n",
       "        vertical-align: middle;\n",
       "    }\n",
       "\n",
       "    .dataframe tbody tr th {\n",
       "        vertical-align: top;\n",
       "    }\n",
       "\n",
       "    .dataframe thead th {\n",
       "        text-align: right;\n",
       "    }\n",
       "</style>\n",
       "<table border=\"1\" class=\"dataframe\">\n",
       "  <thead>\n",
       "    <tr style=\"text-align: right;\">\n",
       "      <th></th>\n",
       "      <th>instance_id</th>\n",
       "      <th>least_frequent_solution</th>\n",
       "      <th>least_frequent_makespan</th>\n",
       "      <th>best_solution</th>\n",
       "      <th>best_makespan</th>\n",
       "      <th>convergence</th>\n",
       "      <th>search_progression</th>\n",
       "    </tr>\n",
       "  </thead>\n",
       "  <tbody>\n",
       "    <tr>\n",
       "      <th>0</th>\n",
       "      <td>0</td>\n",
       "      <td>[0, 1, 1, 4, 0, 3, 3, 2, 4, 0, 4, 2, 0, 3, 3, ...</td>\n",
       "      <td>91</td>\n",
       "      <td>[1, 1, 2, 2, 0, 3, 2, 1, 3, 4, 4, 0, 1, 3, 2, ...</td>\n",
       "      <td>48</td>\n",
       "      <td>[60, 60, 60, 60, 60, 60, 60, 55, 55, 55, 55, 5...</td>\n",
       "      <td>[60, 60, 64, 64, 64, 64, 64, 55, 55, 55, 55, 5...</td>\n",
       "    </tr>\n",
       "    <tr>\n",
       "      <th>1</th>\n",
       "      <td>1</td>\n",
       "      <td>[1, 2, 0, 0, 0, 3, 3, 1, 1, 1, 3, 4, 1, 0, 4, ...</td>\n",
       "      <td>122</td>\n",
       "      <td>[4, 2, 4, 1, 0, 3, 1, 2, 2, 3, 4, 1, 1, 4, 2, ...</td>\n",
       "      <td>48</td>\n",
       "      <td>[98, 93, 93, 75, 75, 75, 72, 72, 72, 72, 64, 6...</td>\n",
       "      <td>[98, 93, 93, 75, 75, 75, 72, 72, 85, 85, 64, 6...</td>\n",
       "    </tr>\n",
       "    <tr>\n",
       "      <th>2</th>\n",
       "      <td>2</td>\n",
       "      <td>[0, 2, 0, 1, 1, 4, 4, 4, 4, 4, 0, 4, 2, 3, 2, ...</td>\n",
       "      <td>160</td>\n",
       "      <td>[1, 4, 3, 1, 2, 1, 0, 4, 2, 0, 3, 0, 2, 4, 0, ...</td>\n",
       "      <td>52</td>\n",
       "      <td>[69, 69, 69, 69, 69, 69, 69, 69, 65, 65, 65, 6...</td>\n",
       "      <td>[69, 69, 75, 75, 82, 82, 82, 70, 65, 65, 67, 9...</td>\n",
       "    </tr>\n",
       "    <tr>\n",
       "      <th>3</th>\n",
       "      <td>3</td>\n",
       "      <td>[2, 3, 2, 4, 1, 0, 3, 3, 3, 1, 0, 0, 0, 4, 4, ...</td>\n",
       "      <td>87</td>\n",
       "      <td>[3, 0, 1, 2, 2, 4, 3, 2, 4, 3, 2, 4, 4, 2, 1, ...</td>\n",
       "      <td>54</td>\n",
       "      <td>[77, 77, 77, 77, 77, 69, 69, 69, 69, 69, 69, 6...</td>\n",
       "      <td>[77, 77, 77, 78, 79, 69, 73, 73, 73, 73, 76, 6...</td>\n",
       "    </tr>\n",
       "    <tr>\n",
       "      <th>4</th>\n",
       "      <td>4</td>\n",
       "      <td>[0, 0, 1, 2, 1, 1, 2, 4, 2, 4, 3, 1, 4, 2, 3, ...</td>\n",
       "      <td>97</td>\n",
       "      <td>[2, 3, 1, 4, 0, 2, 0, 1, 3, 0, 1, 2, 0, 2, 1, ...</td>\n",
       "      <td>61</td>\n",
       "      <td>[110, 110, 110, 94, 94, 94, 94, 94, 94, 94, 94...</td>\n",
       "      <td>[110, 126, 132, 94, 94, 94, 94, 94, 94, 107, 1...</td>\n",
       "    </tr>\n",
       "  </tbody>\n",
       "</table>\n",
       "</div>"
      ],
      "text/plain": [
       "   instance_id                            least_frequent_solution  \\\n",
       "0            0  [0, 1, 1, 4, 0, 3, 3, 2, 4, 0, 4, 2, 0, 3, 3, ...   \n",
       "1            1  [1, 2, 0, 0, 0, 3, 3, 1, 1, 1, 3, 4, 1, 0, 4, ...   \n",
       "2            2  [0, 2, 0, 1, 1, 4, 4, 4, 4, 4, 0, 4, 2, 3, 2, ...   \n",
       "3            3  [2, 3, 2, 4, 1, 0, 3, 3, 3, 1, 0, 0, 0, 4, 4, ...   \n",
       "4            4  [0, 0, 1, 2, 1, 1, 2, 4, 2, 4, 3, 1, 4, 2, 3, ...   \n",
       "\n",
       "   least_frequent_makespan                                      best_solution  \\\n",
       "0                       91  [1, 1, 2, 2, 0, 3, 2, 1, 3, 4, 4, 0, 1, 3, 2, ...   \n",
       "1                      122  [4, 2, 4, 1, 0, 3, 1, 2, 2, 3, 4, 1, 1, 4, 2, ...   \n",
       "2                      160  [1, 4, 3, 1, 2, 1, 0, 4, 2, 0, 3, 0, 2, 4, 0, ...   \n",
       "3                       87  [3, 0, 1, 2, 2, 4, 3, 2, 4, 3, 2, 4, 4, 2, 1, ...   \n",
       "4                       97  [2, 3, 1, 4, 0, 2, 0, 1, 3, 0, 1, 2, 0, 2, 1, ...   \n",
       "\n",
       "   best_makespan                                        convergence  \\\n",
       "0             48  [60, 60, 60, 60, 60, 60, 60, 55, 55, 55, 55, 5...   \n",
       "1             48  [98, 93, 93, 75, 75, 75, 72, 72, 72, 72, 64, 6...   \n",
       "2             52  [69, 69, 69, 69, 69, 69, 69, 69, 65, 65, 65, 6...   \n",
       "3             54  [77, 77, 77, 77, 77, 69, 69, 69, 69, 69, 69, 6...   \n",
       "4             61  [110, 110, 110, 94, 94, 94, 94, 94, 94, 94, 94...   \n",
       "\n",
       "                                  search_progression  \n",
       "0  [60, 60, 64, 64, 64, 64, 64, 55, 55, 55, 55, 5...  \n",
       "1  [98, 93, 93, 75, 75, 75, 72, 72, 85, 85, 64, 6...  \n",
       "2  [69, 69, 75, 75, 82, 82, 82, 70, 65, 65, 67, 9...  \n",
       "3  [77, 77, 77, 78, 79, 69, 73, 73, 73, 73, 76, 6...  \n",
       "4  [110, 126, 132, 94, 94, 94, 94, 94, 94, 107, 1...  "
      ]
     },
     "execution_count": 12,
     "metadata": {},
     "output_type": "execute_result"
    }
   ],
   "source": [
    "ffahc_results3 = pd.read_csv('ffahc_1000000_evals_cor3.csv', sep=';', index_col=False)\n",
    "ffahc_results3.head()"
   ]
  },
  {
   "cell_type": "code",
   "execution_count": 13,
   "id": "2edc223f",
   "metadata": {},
   "outputs": [],
   "source": [
    "ffahc_results3['best_solution'] = ffahc_results3['best_solution'].apply(custom_literal_eval)\n",
    "ffahc_results3['convergence'] = ffahc_results3['convergence'].apply(custom_literal_eval)"
   ]
  },
  {
   "cell_type": "code",
   "execution_count": 14,
   "id": "fb93694a",
   "metadata": {},
   "outputs": [],
   "source": [
    "ffahc_results3['best_makespan_4'] = ffahc_results3['convergence'].apply(lambda x: x[9999])\n",
    "ffahc_results3['best_makespan_5'] = ffahc_results3['convergence'].apply(lambda x: x[99999])\n",
    "ffahc_results3['best_makespan_250'] = ffahc_results3['convergence'].apply(lambda x: x[249999])\n",
    "ffahc_results3['best_makespan_500'] = ffahc_results3['convergence'].apply(lambda x: x[499999])\n",
    "ffahc_results3['best_makespan_750'] = ffahc_results3['convergence'].apply(lambda x: x[749999])"
   ]
  },
  {
   "cell_type": "markdown",
   "id": "1a5a9cfe",
   "metadata": {},
   "source": [
    "## Save all makespans to dataset"
   ]
  },
  {
   "cell_type": "code",
   "execution_count": 15,
   "id": "5eb1ff4b",
   "metadata": {},
   "outputs": [],
   "source": [
    "best1 = ffahc_results1['best_makespan']\n",
    "best2 = ffahc_results2['best_makespan']\n",
    "best3 = ffahc_results1['best_makespan']"
   ]
  },
  {
   "cell_type": "code",
   "execution_count": 16,
   "id": "c5ca1425",
   "metadata": {},
   "outputs": [],
   "source": [
    "instances = ffahc_results1['instance_id']"
   ]
  },
  {
   "cell_type": "code",
   "execution_count": 17,
   "id": "a12c8ca4",
   "metadata": {},
   "outputs": [],
   "source": [
    "best_makespans_all = pd.DataFrame({'instance_id': instances,\n",
    "                                     'run1_4': ffahc_results1['best_makespan_4'],\n",
    "                                     'run2_4': ffahc_results2['best_makespan_4'],\n",
    "                                     'run3_4': ffahc_results1['best_makespan_4'],\n",
    "                                     'run1_5': ffahc_results1['best_makespan_5'],\n",
    "                                     'run2_5': ffahc_results2['best_makespan_5'],\n",
    "                                     'run3_5': ffahc_results3['best_makespan_5'],\n",
    "                                     'run1_250': ffahc_results1['best_makespan_250'],\n",
    "                                     'run2_250': ffahc_results2['best_makespan_250'],\n",
    "                                     'run3_250': ffahc_results3['best_makespan_250'],\n",
    "                                     'run1_500': ffahc_results1['best_makespan_500'],\n",
    "                                     'run2_500': ffahc_results2['best_makespan_500'],\n",
    "                                     'run3_500': ffahc_results3['best_makespan_500'],\n",
    "                                     'run1_750': ffahc_results1['best_makespan_750'],\n",
    "                                     'run2_750': ffahc_results2['best_makespan_750'],\n",
    "                                     'run3_750': ffahc_results3['best_makespan_750'],\n",
    "                                     'run1_best': best1,\n",
    "                                     'run2_best': best2,\n",
    "                                     'run3_best': best3})"
   ]
  },
  {
   "cell_type": "code",
   "execution_count": 18,
   "id": "cede79b8",
   "metadata": {},
   "outputs": [
    {
     "data": {
      "text/html": [
       "<div>\n",
       "<style scoped>\n",
       "    .dataframe tbody tr th:only-of-type {\n",
       "        vertical-align: middle;\n",
       "    }\n",
       "\n",
       "    .dataframe tbody tr th {\n",
       "        vertical-align: top;\n",
       "    }\n",
       "\n",
       "    .dataframe thead th {\n",
       "        text-align: right;\n",
       "    }\n",
       "</style>\n",
       "<table border=\"1\" class=\"dataframe\">\n",
       "  <thead>\n",
       "    <tr style=\"text-align: right;\">\n",
       "      <th></th>\n",
       "      <th>instance_id</th>\n",
       "      <th>run1_4</th>\n",
       "      <th>run2_4</th>\n",
       "      <th>run3_4</th>\n",
       "      <th>run1_5</th>\n",
       "      <th>run2_5</th>\n",
       "      <th>run3_5</th>\n",
       "      <th>run1_250</th>\n",
       "      <th>run2_250</th>\n",
       "      <th>run3_250</th>\n",
       "      <th>run1_500</th>\n",
       "      <th>run2_500</th>\n",
       "      <th>run3_500</th>\n",
       "      <th>run1_750</th>\n",
       "      <th>run2_750</th>\n",
       "      <th>run3_750</th>\n",
       "      <th>run1_best</th>\n",
       "      <th>run2_best</th>\n",
       "      <th>run3_best</th>\n",
       "    </tr>\n",
       "  </thead>\n",
       "  <tbody>\n",
       "    <tr>\n",
       "      <th>0</th>\n",
       "      <td>0</td>\n",
       "      <td>48</td>\n",
       "      <td>48</td>\n",
       "      <td>48</td>\n",
       "      <td>48</td>\n",
       "      <td>48</td>\n",
       "      <td>48</td>\n",
       "      <td>48</td>\n",
       "      <td>48</td>\n",
       "      <td>48</td>\n",
       "      <td>48</td>\n",
       "      <td>48</td>\n",
       "      <td>48</td>\n",
       "      <td>48</td>\n",
       "      <td>48</td>\n",
       "      <td>48</td>\n",
       "      <td>48</td>\n",
       "      <td>48</td>\n",
       "      <td>48</td>\n",
       "    </tr>\n",
       "    <tr>\n",
       "      <th>1</th>\n",
       "      <td>1</td>\n",
       "      <td>48</td>\n",
       "      <td>48</td>\n",
       "      <td>48</td>\n",
       "      <td>48</td>\n",
       "      <td>48</td>\n",
       "      <td>48</td>\n",
       "      <td>48</td>\n",
       "      <td>48</td>\n",
       "      <td>48</td>\n",
       "      <td>48</td>\n",
       "      <td>48</td>\n",
       "      <td>48</td>\n",
       "      <td>48</td>\n",
       "      <td>48</td>\n",
       "      <td>48</td>\n",
       "      <td>48</td>\n",
       "      <td>48</td>\n",
       "      <td>48</td>\n",
       "    </tr>\n",
       "    <tr>\n",
       "      <th>2</th>\n",
       "      <td>2</td>\n",
       "      <td>52</td>\n",
       "      <td>52</td>\n",
       "      <td>52</td>\n",
       "      <td>52</td>\n",
       "      <td>52</td>\n",
       "      <td>52</td>\n",
       "      <td>52</td>\n",
       "      <td>52</td>\n",
       "      <td>52</td>\n",
       "      <td>52</td>\n",
       "      <td>52</td>\n",
       "      <td>52</td>\n",
       "      <td>52</td>\n",
       "      <td>52</td>\n",
       "      <td>52</td>\n",
       "      <td>52</td>\n",
       "      <td>52</td>\n",
       "      <td>52</td>\n",
       "    </tr>\n",
       "    <tr>\n",
       "      <th>3</th>\n",
       "      <td>3</td>\n",
       "      <td>56</td>\n",
       "      <td>56</td>\n",
       "      <td>56</td>\n",
       "      <td>54</td>\n",
       "      <td>54</td>\n",
       "      <td>54</td>\n",
       "      <td>54</td>\n",
       "      <td>54</td>\n",
       "      <td>54</td>\n",
       "      <td>54</td>\n",
       "      <td>54</td>\n",
       "      <td>54</td>\n",
       "      <td>54</td>\n",
       "      <td>54</td>\n",
       "      <td>54</td>\n",
       "      <td>54</td>\n",
       "      <td>54</td>\n",
       "      <td>54</td>\n",
       "    </tr>\n",
       "    <tr>\n",
       "      <th>4</th>\n",
       "      <td>4</td>\n",
       "      <td>61</td>\n",
       "      <td>61</td>\n",
       "      <td>61</td>\n",
       "      <td>61</td>\n",
       "      <td>61</td>\n",
       "      <td>61</td>\n",
       "      <td>61</td>\n",
       "      <td>61</td>\n",
       "      <td>61</td>\n",
       "      <td>61</td>\n",
       "      <td>61</td>\n",
       "      <td>61</td>\n",
       "      <td>61</td>\n",
       "      <td>61</td>\n",
       "      <td>61</td>\n",
       "      <td>61</td>\n",
       "      <td>61</td>\n",
       "      <td>61</td>\n",
       "    </tr>\n",
       "  </tbody>\n",
       "</table>\n",
       "</div>"
      ],
      "text/plain": [
       "   instance_id  run1_4  run2_4  run3_4  run1_5  run2_5  run3_5  run1_250  \\\n",
       "0            0      48      48      48      48      48      48        48   \n",
       "1            1      48      48      48      48      48      48        48   \n",
       "2            2      52      52      52      52      52      52        52   \n",
       "3            3      56      56      56      54      54      54        54   \n",
       "4            4      61      61      61      61      61      61        61   \n",
       "\n",
       "   run2_250  run3_250  run1_500  run2_500  run3_500  run1_750  run2_750  \\\n",
       "0        48        48        48        48        48        48        48   \n",
       "1        48        48        48        48        48        48        48   \n",
       "2        52        52        52        52        52        52        52   \n",
       "3        54        54        54        54        54        54        54   \n",
       "4        61        61        61        61        61        61        61   \n",
       "\n",
       "   run3_750  run1_best  run2_best  run3_best  \n",
       "0        48         48         48         48  \n",
       "1        48         48         48         48  \n",
       "2        52         52         52         52  \n",
       "3        54         54         54         54  \n",
       "4        61         61         61         61  "
      ]
     },
     "execution_count": 18,
     "metadata": {},
     "output_type": "execute_result"
    }
   ],
   "source": [
    "best_makespans_all.head()"
   ]
  },
  {
   "cell_type": "code",
   "execution_count": 19,
   "id": "3f314961",
   "metadata": {},
   "outputs": [],
   "source": [
    "best_makespans_all.to_csv('ffahc_all_runs_makespans_nongreedy.csv', index=False)"
   ]
  },
  {
   "cell_type": "markdown",
   "id": "a67c509b",
   "metadata": {},
   "source": [
    "## FFA HC convergence dataset"
   ]
  },
  {
   "cell_type": "code",
   "execution_count": 11,
   "id": "ff540e6c",
   "metadata": {},
   "outputs": [],
   "source": [
    "#selected ids based with largest makespan differences within the instance makespans\n",
    "instances_ids = [0, 18, 29, 33, 398, 415, 418, 419]"
   ]
  },
  {
   "cell_type": "code",
   "execution_count": 16,
   "id": "9563a518",
   "metadata": {},
   "outputs": [
    {
     "name": "stderr",
     "output_type": "stream",
     "text": [
      "IOPub data rate exceeded.\n",
      "The notebook server will temporarily stop sending output\n",
      "to the client in order to avoid crashing it.\n",
      "To change this limit, set the config variable\n",
      "`--NotebookApp.iopub_data_rate_limit`.\n",
      "\n",
      "Current values:\n",
      "NotebookApp.iopub_data_rate_limit=1000000.0 (bytes/sec)\n",
      "NotebookApp.rate_limit_window=3.0 (secs)\n",
      "\n"
     ]
    },
    {
     "name": "stdout",
     "output_type": "stream",
     "text": [
      "\n"
     ]
    }
   ],
   "source": [
    "ffa1_convergence = []\n",
    "ffa2_convergence = []\n",
    "ffa3_convergence = []\n",
    "for i in instances_ids:\n",
    "    print(i)\n",
    "    ffa1 = ffahc_results1['convergence'][i]\n",
    "    ffa2 = ffahc_results2['convergence'][i]\n",
    "    ffa3 = ffahc_results3['convergence'][i]\n",
    "    ffa1_convergence.append(ffa1)\n",
    "    print(ffa1_convergence)\n",
    "    ffa2_convergence.append(ffa2)\n",
    "    print(ffa2_convergence)\n",
    "    ffa3_convergence.append(ffa3)\n",
    "    print(ffa3_convergence)"
   ]
  },
  {
   "cell_type": "code",
   "execution_count": 18,
   "id": "42f046e9",
   "metadata": {},
   "outputs": [],
   "source": [
    "ffahc_convergence_df = pd.DataFrame({'instance_id': instances_ids,\n",
    "                                     'ffahc1_convergence': ffa1_convergence,\n",
    "                                     'ffahc2_convergence': ffa2_convergence,\n",
    "                                     'ffahc3_convergence': ffa3_convergence})"
   ]
  },
  {
   "cell_type": "code",
   "execution_count": 20,
   "id": "1a0ff3f7",
   "metadata": {},
   "outputs": [
    {
     "data": {
      "text/html": [
       "<div>\n",
       "<style scoped>\n",
       "    .dataframe tbody tr th:only-of-type {\n",
       "        vertical-align: middle;\n",
       "    }\n",
       "\n",
       "    .dataframe tbody tr th {\n",
       "        vertical-align: top;\n",
       "    }\n",
       "\n",
       "    .dataframe thead th {\n",
       "        text-align: right;\n",
       "    }\n",
       "</style>\n",
       "<table border=\"1\" class=\"dataframe\">\n",
       "  <thead>\n",
       "    <tr style=\"text-align: right;\">\n",
       "      <th></th>\n",
       "      <th>instance_id</th>\n",
       "      <th>ffahc1_convergence</th>\n",
       "      <th>ffahc2_convergence</th>\n",
       "      <th>ffahc3_convergence</th>\n",
       "    </tr>\n",
       "  </thead>\n",
       "  <tbody>\n",
       "    <tr>\n",
       "      <th>0</th>\n",
       "      <td>0</td>\n",
       "      <td>[65, 65, 65, 65, 65, 65, 65, 65, 65, 65, 65, 6...</td>\n",
       "      <td>[52, 52, 52, 52, 52, 52, 52, 52, 52, 52, 52, 5...</td>\n",
       "      <td>[60, 60, 60, 60, 60, 60, 60, 55, 55, 55, 55, 5...</td>\n",
       "    </tr>\n",
       "    <tr>\n",
       "      <th>1</th>\n",
       "      <td>18</td>\n",
       "      <td>[193, 193, 193, 193, 193, 193, 193, 193, 193, ...</td>\n",
       "      <td>[197, 191, 191, 191, 191, 191, 191, 191, 191, ...</td>\n",
       "      <td>[221, 221, 217, 217, 213, 213, 196, 196, 196, ...</td>\n",
       "    </tr>\n",
       "    <tr>\n",
       "      <th>2</th>\n",
       "      <td>29</td>\n",
       "      <td>[200, 194, 189, 189, 188, 182, 182, 182, 182, ...</td>\n",
       "      <td>[180, 175, 173, 173, 173, 173, 173, 173, 173, ...</td>\n",
       "      <td>[187, 187, 185, 185, 185, 185, 185, 185, 185, ...</td>\n",
       "    </tr>\n",
       "    <tr>\n",
       "      <th>3</th>\n",
       "      <td>33</td>\n",
       "      <td>[250, 250, 250, 250, 250, 250, 250, 250, 250, ...</td>\n",
       "      <td>[216, 216, 213, 211, 206, 195, 195, 195, 195, ...</td>\n",
       "      <td>[192, 192, 192, 192, 192, 192, 192, 192, 192, ...</td>\n",
       "    </tr>\n",
       "    <tr>\n",
       "      <th>4</th>\n",
       "      <td>398</td>\n",
       "      <td>[1008, 1008, 1008, 1008, 1008, 1008, 1008, 100...</td>\n",
       "      <td>[1047, 1047, 1047, 1047, 1047, 1047, 1047, 104...</td>\n",
       "      <td>[1210, 1210, 1210, 1205, 1195, 1191, 1183, 118...</td>\n",
       "    </tr>\n",
       "    <tr>\n",
       "      <th>5</th>\n",
       "      <td>415</td>\n",
       "      <td>[1133, 1133, 1133, 1133, 1133, 1133, 1133, 113...</td>\n",
       "      <td>[1133, 1133, 1133, 1133, 1133, 1133, 1131, 113...</td>\n",
       "      <td>[1092, 1083, 1083, 1072, 1053, 1053, 1053, 105...</td>\n",
       "    </tr>\n",
       "    <tr>\n",
       "      <th>6</th>\n",
       "      <td>418</td>\n",
       "      <td>[1187, 1181, 1181, 1181, 1181, 1181, 1181, 118...</td>\n",
       "      <td>[1188, 1183, 1180, 1180, 1180, 1180, 1180, 118...</td>\n",
       "      <td>[1073, 1073, 1073, 1073, 1073, 1073, 1073, 107...</td>\n",
       "    </tr>\n",
       "    <tr>\n",
       "      <th>7</th>\n",
       "      <td>419</td>\n",
       "      <td>[1160, 1160, 1151, 1140, 1140, 1140, 1140, 114...</td>\n",
       "      <td>[1083, 1083, 1081, 1081, 1077, 1077, 1077, 107...</td>\n",
       "      <td>[1152, 1147, 1147, 1147, 1147, 1147, 1147, 114...</td>\n",
       "    </tr>\n",
       "  </tbody>\n",
       "</table>\n",
       "</div>"
      ],
      "text/plain": [
       "   instance_id                                 ffahc1_convergence  \\\n",
       "0            0  [65, 65, 65, 65, 65, 65, 65, 65, 65, 65, 65, 6...   \n",
       "1           18  [193, 193, 193, 193, 193, 193, 193, 193, 193, ...   \n",
       "2           29  [200, 194, 189, 189, 188, 182, 182, 182, 182, ...   \n",
       "3           33  [250, 250, 250, 250, 250, 250, 250, 250, 250, ...   \n",
       "4          398  [1008, 1008, 1008, 1008, 1008, 1008, 1008, 100...   \n",
       "5          415  [1133, 1133, 1133, 1133, 1133, 1133, 1133, 113...   \n",
       "6          418  [1187, 1181, 1181, 1181, 1181, 1181, 1181, 118...   \n",
       "7          419  [1160, 1160, 1151, 1140, 1140, 1140, 1140, 114...   \n",
       "\n",
       "                                  ffahc2_convergence  \\\n",
       "0  [52, 52, 52, 52, 52, 52, 52, 52, 52, 52, 52, 5...   \n",
       "1  [197, 191, 191, 191, 191, 191, 191, 191, 191, ...   \n",
       "2  [180, 175, 173, 173, 173, 173, 173, 173, 173, ...   \n",
       "3  [216, 216, 213, 211, 206, 195, 195, 195, 195, ...   \n",
       "4  [1047, 1047, 1047, 1047, 1047, 1047, 1047, 104...   \n",
       "5  [1133, 1133, 1133, 1133, 1133, 1133, 1131, 113...   \n",
       "6  [1188, 1183, 1180, 1180, 1180, 1180, 1180, 118...   \n",
       "7  [1083, 1083, 1081, 1081, 1077, 1077, 1077, 107...   \n",
       "\n",
       "                                  ffahc3_convergence  \n",
       "0  [60, 60, 60, 60, 60, 60, 60, 55, 55, 55, 55, 5...  \n",
       "1  [221, 221, 217, 217, 213, 213, 196, 196, 196, ...  \n",
       "2  [187, 187, 185, 185, 185, 185, 185, 185, 185, ...  \n",
       "3  [192, 192, 192, 192, 192, 192, 192, 192, 192, ...  \n",
       "4  [1210, 1210, 1210, 1205, 1195, 1191, 1183, 118...  \n",
       "5  [1092, 1083, 1083, 1072, 1053, 1053, 1053, 105...  \n",
       "6  [1073, 1073, 1073, 1073, 1073, 1073, 1073, 107...  \n",
       "7  [1152, 1147, 1147, 1147, 1147, 1147, 1147, 114...  "
      ]
     },
     "execution_count": 20,
     "metadata": {},
     "output_type": "execute_result"
    }
   ],
   "source": [
    "ffahc_convergence_df"
   ]
  },
  {
   "cell_type": "code",
   "execution_count": 21,
   "id": "5094895c",
   "metadata": {},
   "outputs": [],
   "source": [
    "ffahc_convergence_df.to_csv('ffahc_runs_combined3_conv_only.csv', index=False)"
   ]
  },
  {
   "cell_type": "markdown",
   "id": "e830181f",
   "metadata": {},
   "source": [
    "## FFA HC Results combined"
   ]
  },
  {
   "cell_type": "code",
   "execution_count": 17,
   "id": "75fc6816",
   "metadata": {
    "scrolled": false
   },
   "outputs": [
    {
     "name": "stdout",
     "output_type": "stream",
     "text": [
      "0        0\n",
      "1        1\n",
      "2        2\n",
      "3        3\n",
      "4        4\n",
      "      ... \n",
      "415    415\n",
      "416    416\n",
      "417    417\n",
      "418    418\n",
      "419    419\n",
      "Name: instance_id, Length: 420, dtype: int64\n"
     ]
    }
   ],
   "source": [
    "ffahc_instance_id = ffahc_results1['instance_id']\n",
    "print(ffahc_instance_id)"
   ]
  },
  {
   "cell_type": "code",
   "execution_count": 18,
   "id": "142ad6d9",
   "metadata": {},
   "outputs": [],
   "source": [
    "num_runs = 3"
   ]
  },
  {
   "cell_type": "code",
   "execution_count": 19,
   "id": "1c125626",
   "metadata": {},
   "outputs": [
    {
     "name": "stdout",
     "output_type": "stream",
     "text": [
      "0       48.000000\n",
      "1       48.000000\n",
      "2       52.000000\n",
      "3       56.000000\n",
      "4       61.000000\n",
      "          ...    \n",
      "415    967.666667\n",
      "416    925.666667\n",
      "417    942.333333\n",
      "418    934.666667\n",
      "419    940.666667\n",
      "Name: best_makespan_4, Length: 420, dtype: float64\n"
     ]
    }
   ],
   "source": [
    "ffahc_best_makespan_4 = (ffahc_results1['best_makespan_4'] + ffahc_results2['best_makespan_4'] + \n",
    "                      ffahc_results3['best_makespan_4']) / num_runs\n",
    "print(ffahc_best_makespan_4)"
   ]
  },
  {
   "cell_type": "code",
   "execution_count": 20,
   "id": "fa8b5bce",
   "metadata": {},
   "outputs": [
    {
     "name": "stdout",
     "output_type": "stream",
     "text": [
      "0       48.000000\n",
      "1       48.000000\n",
      "2       52.000000\n",
      "3       54.000000\n",
      "4       61.000000\n",
      "          ...    \n",
      "415    854.000000\n",
      "416    819.333333\n",
      "417    842.666667\n",
      "418    869.333333\n",
      "419    850.666667\n",
      "Name: best_makespan_5, Length: 420, dtype: float64\n"
     ]
    }
   ],
   "source": [
    "ffahc_best_makespan_5 = (ffahc_results1['best_makespan_5'] + ffahc_results2['best_makespan_5'] + \n",
    "                      ffahc_results3['best_makespan_5']) / num_runs\n",
    "print(ffahc_best_makespan_5)"
   ]
  },
  {
   "cell_type": "code",
   "execution_count": 21,
   "id": "ad99cf1d",
   "metadata": {},
   "outputs": [
    {
     "name": "stdout",
     "output_type": "stream",
     "text": [
      "0       48.000000\n",
      "1       48.000000\n",
      "2       52.000000\n",
      "3       54.000000\n",
      "4       61.000000\n",
      "          ...    \n",
      "415    817.000000\n",
      "416    797.333333\n",
      "417    804.333333\n",
      "418    818.333333\n",
      "419    825.333333\n",
      "Name: best_makespan_250, Length: 420, dtype: float64\n"
     ]
    }
   ],
   "source": [
    "ffahc_best_makespan_250 = (ffahc_results1['best_makespan_250'] + ffahc_results2['best_makespan_250'] + \n",
    "                      ffahc_results3['best_makespan_250']) / num_runs\n",
    "print(ffahc_best_makespan_250)"
   ]
  },
  {
   "cell_type": "code",
   "execution_count": 24,
   "id": "5397ec3b",
   "metadata": {},
   "outputs": [
    {
     "name": "stdout",
     "output_type": "stream",
     "text": [
      "0       48.000000\n",
      "1       48.000000\n",
      "2       52.000000\n",
      "3       54.000000\n",
      "4       61.000000\n",
      "          ...    \n",
      "415    787.666667\n",
      "416    761.000000\n",
      "417    762.666667\n",
      "418    799.333333\n",
      "419    785.666667\n",
      "Name: best_makespan_500, Length: 420, dtype: float64\n"
     ]
    }
   ],
   "source": [
    "ffahc_best_makespan_500 = (ffahc_results1['best_makespan_500'] + ffahc_results2['best_makespan_500'] + \n",
    "                      ffahc_results3['best_makespan_500']) / num_runs\n",
    "print(ffahc_best_makespan_500)"
   ]
  },
  {
   "cell_type": "code",
   "execution_count": 26,
   "id": "e9c1280f",
   "metadata": {},
   "outputs": [
    {
     "name": "stdout",
     "output_type": "stream",
     "text": [
      "0       48.000000\n",
      "1       48.000000\n",
      "2       52.000000\n",
      "3       54.000000\n",
      "4       61.000000\n",
      "          ...    \n",
      "415    781.666667\n",
      "416    757.666667\n",
      "417    756.666667\n",
      "418    786.000000\n",
      "419    774.333333\n",
      "Name: best_makespan_750, Length: 420, dtype: float64\n"
     ]
    }
   ],
   "source": [
    "ffahc_best_makespan_750 = (ffahc_results1['best_makespan_750'] + ffahc_results2['best_makespan_750'] + \n",
    "                      ffahc_results3['best_makespan_750']) / num_runs\n",
    "print(ffahc_best_makespan_750)"
   ]
  },
  {
   "cell_type": "code",
   "execution_count": 27,
   "id": "6ab8fac4",
   "metadata": {},
   "outputs": [
    {
     "name": "stdout",
     "output_type": "stream",
     "text": [
      "0       48.000000\n",
      "1       48.000000\n",
      "2       52.000000\n",
      "3       54.000000\n",
      "4       61.000000\n",
      "          ...    \n",
      "415    777.666667\n",
      "416    747.000000\n",
      "417    747.666667\n",
      "418    773.666667\n",
      "419    764.000000\n",
      "Name: best_makespan, Length: 420, dtype: float64\n"
     ]
    }
   ],
   "source": [
    "ffahc_best_makespan_6 = (ffahc_results1['best_makespan'] + ffahc_results2['best_makespan']+ \n",
    "                         ffahc_results3['best_makespan']) / num_runs\n",
    "print(ffahc_best_makespan_6)"
   ]
  },
  {
   "cell_type": "code",
   "execution_count": 28,
   "id": "054c5a1f",
   "metadata": {},
   "outputs": [
    {
     "name": "stdout",
     "output_type": "stream",
     "text": [
      "0        59.000000\n",
      "1        79.666667\n",
      "2        75.333333\n",
      "3        86.333333\n",
      "4       107.666667\n",
      "          ...     \n",
      "415    1119.333333\n",
      "416    1131.666667\n",
      "417    1121.333333\n",
      "418    1149.333333\n",
      "419    1131.666667\n",
      "Length: 420, dtype: float64\n"
     ]
    }
   ],
   "source": [
    "ffahc_random_initial_makespan1 = pd.Series([i[0] for i in ffahc_results1['convergence']])\n",
    "ffahc_random_initial_makespan2 = pd.Series([i[0] for i in ffahc_results2['convergence']])\n",
    "ffahc_random_initial_makespan3 = pd.Series([i[0] for i in ffahc_results3['convergence']])\n",
    "\n",
    "ffahc_random_initial_makespan = (ffahc_random_initial_makespan1 + ffahc_random_initial_makespan2 + ffahc_random_initial_makespan3) / num_runs\n",
    "print(ffahc_random_initial_makespan)"
   ]
  },
  {
   "cell_type": "code",
   "execution_count": 29,
   "id": "4f9a0353",
   "metadata": {},
   "outputs": [
    {
     "data": {
      "text/html": [
       "<div>\n",
       "<style scoped>\n",
       "    .dataframe tbody tr th:only-of-type {\n",
       "        vertical-align: middle;\n",
       "    }\n",
       "\n",
       "    .dataframe tbody tr th {\n",
       "        vertical-align: top;\n",
       "    }\n",
       "\n",
       "    .dataframe thead th {\n",
       "        text-align: right;\n",
       "    }\n",
       "</style>\n",
       "<table border=\"1\" class=\"dataframe\">\n",
       "  <thead>\n",
       "    <tr style=\"text-align: right;\">\n",
       "      <th></th>\n",
       "      <th>instance_id</th>\n",
       "      <th>random_initial_makespan</th>\n",
       "      <th>best_makespan_4</th>\n",
       "      <th>best_makespan_5</th>\n",
       "      <th>best_makespan_250</th>\n",
       "      <th>best_makespan_500</th>\n",
       "      <th>best_makespan_750</th>\n",
       "      <th>best_makespan_6</th>\n",
       "    </tr>\n",
       "  </thead>\n",
       "  <tbody>\n",
       "    <tr>\n",
       "      <th>0</th>\n",
       "      <td>0</td>\n",
       "      <td>59.000000</td>\n",
       "      <td>48.0</td>\n",
       "      <td>48.0</td>\n",
       "      <td>48.0</td>\n",
       "      <td>48.0</td>\n",
       "      <td>48.0</td>\n",
       "      <td>48.0</td>\n",
       "    </tr>\n",
       "    <tr>\n",
       "      <th>1</th>\n",
       "      <td>1</td>\n",
       "      <td>79.666667</td>\n",
       "      <td>48.0</td>\n",
       "      <td>48.0</td>\n",
       "      <td>48.0</td>\n",
       "      <td>48.0</td>\n",
       "      <td>48.0</td>\n",
       "      <td>48.0</td>\n",
       "    </tr>\n",
       "    <tr>\n",
       "      <th>2</th>\n",
       "      <td>2</td>\n",
       "      <td>75.333333</td>\n",
       "      <td>52.0</td>\n",
       "      <td>52.0</td>\n",
       "      <td>52.0</td>\n",
       "      <td>52.0</td>\n",
       "      <td>52.0</td>\n",
       "      <td>52.0</td>\n",
       "    </tr>\n",
       "    <tr>\n",
       "      <th>3</th>\n",
       "      <td>3</td>\n",
       "      <td>86.333333</td>\n",
       "      <td>56.0</td>\n",
       "      <td>54.0</td>\n",
       "      <td>54.0</td>\n",
       "      <td>54.0</td>\n",
       "      <td>54.0</td>\n",
       "      <td>54.0</td>\n",
       "    </tr>\n",
       "    <tr>\n",
       "      <th>4</th>\n",
       "      <td>4</td>\n",
       "      <td>107.666667</td>\n",
       "      <td>61.0</td>\n",
       "      <td>61.0</td>\n",
       "      <td>61.0</td>\n",
       "      <td>61.0</td>\n",
       "      <td>61.0</td>\n",
       "      <td>61.0</td>\n",
       "    </tr>\n",
       "  </tbody>\n",
       "</table>\n",
       "</div>"
      ],
      "text/plain": [
       "   instance_id  random_initial_makespan  best_makespan_4  best_makespan_5  \\\n",
       "0            0                59.000000             48.0             48.0   \n",
       "1            1                79.666667             48.0             48.0   \n",
       "2            2                75.333333             52.0             52.0   \n",
       "3            3                86.333333             56.0             54.0   \n",
       "4            4               107.666667             61.0             61.0   \n",
       "\n",
       "   best_makespan_250  best_makespan_500  best_makespan_750  best_makespan_6  \n",
       "0               48.0               48.0               48.0             48.0  \n",
       "1               48.0               48.0               48.0             48.0  \n",
       "2               52.0               52.0               52.0             52.0  \n",
       "3               54.0               54.0               54.0             54.0  \n",
       "4               61.0               61.0               61.0             61.0  "
      ]
     },
     "execution_count": 29,
     "metadata": {},
     "output_type": "execute_result"
    }
   ],
   "source": [
    "ffahc_runs_combined = pd.DataFrame({'instance_id': ffahc_instance_id, \n",
    "                                 'random_initial_makespan': ffahc_random_initial_makespan, \n",
    "                                 'best_makespan_4': ffahc_best_makespan_4,\n",
    "                                 'best_makespan_5': ffahc_best_makespan_5,\n",
    "                                 'best_makespan_250': ffahc_best_makespan_250,\n",
    "                                 'best_makespan_500': ffahc_best_makespan_500,\n",
    "                                 'best_makespan_750': ffahc_best_makespan_750,\n",
    "                                 'best_makespan_6': ffahc_best_makespan_6, })\n",
    "ffahc_runs_combined.head()"
   ]
  },
  {
   "cell_type": "code",
   "execution_count": 30,
   "id": "bcb19948",
   "metadata": {},
   "outputs": [],
   "source": [
    "ffahc_runs_combined.to_csv('ffahc_runs_combined3_incl_conv.csv', index=False)"
   ]
  }
 ],
 "metadata": {
  "kernelspec": {
   "display_name": "Python 3 (ipykernel)",
   "language": "python",
   "name": "python3"
  },
  "language_info": {
   "codemirror_mode": {
    "name": "ipython",
    "version": 3
   },
   "file_extension": ".py",
   "mimetype": "text/x-python",
   "name": "python",
   "nbconvert_exporter": "python",
   "pygments_lexer": "ipython3",
   "version": "3.9.12"
  }
 },
 "nbformat": 4,
 "nbformat_minor": 5
}

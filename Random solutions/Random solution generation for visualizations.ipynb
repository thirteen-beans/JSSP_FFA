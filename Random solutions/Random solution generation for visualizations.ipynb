{
 "cells": [
  {
   "cell_type": "code",
   "execution_count": 1,
   "id": "e2f9c126",
   "metadata": {},
   "outputs": [],
   "source": [
    "import pandas as pd\n",
    "import ast\n",
    "import random\n",
    "import time\n",
    "from tqdm import tqdm\n",
    "import matplotlib.pyplot as plt\n",
    "import numpy as np\n",
    "from scipy.stats import norm\n",
    "import seaborn as sns"
   ]
  },
  {
   "cell_type": "code",
   "execution_count": 2,
   "id": "17432d3e",
   "metadata": {},
   "outputs": [],
   "source": [
    "job_shop_df = pd.read_csv('job_shop_data.csv', sep=';', index_col=False)\n",
    "job_shop_df['problem_instance'] = job_shop_df['problem_instance'].apply(lambda x: ast.literal_eval(x))"
   ]
  },
  {
   "cell_type": "code",
   "execution_count": 3,
   "id": "fdd6143d",
   "metadata": {},
   "outputs": [
    {
     "data": {
      "text/html": [
       "<div>\n",
       "<style scoped>\n",
       "    .dataframe tbody tr th:only-of-type {\n",
       "        vertical-align: middle;\n",
       "    }\n",
       "\n",
       "    .dataframe tbody tr th {\n",
       "        vertical-align: top;\n",
       "    }\n",
       "\n",
       "    .dataframe thead th {\n",
       "        text-align: right;\n",
       "    }\n",
       "</style>\n",
       "<table border=\"1\" class=\"dataframe\">\n",
       "  <thead>\n",
       "    <tr style=\"text-align: right;\">\n",
       "      <th></th>\n",
       "      <th>instance_id</th>\n",
       "      <th>num_jobs</th>\n",
       "      <th>num_machines</th>\n",
       "      <th>problem_instance</th>\n",
       "    </tr>\n",
       "  </thead>\n",
       "  <tbody>\n",
       "    <tr>\n",
       "      <th>0</th>\n",
       "      <td>5j5m</td>\n",
       "      <td>5</td>\n",
       "      <td>5</td>\n",
       "      <td>[[(3, 6), (1, 4), (2, 1), (0, 3), (4, 6)], [(0...</td>\n",
       "    </tr>\n",
       "    <tr>\n",
       "      <th>1</th>\n",
       "      <td>5j6m</td>\n",
       "      <td>5</td>\n",
       "      <td>6</td>\n",
       "      <td>[[(5, 9), (3, 5), (0, 7), (2, 2), (1, 2), (4, ...</td>\n",
       "    </tr>\n",
       "    <tr>\n",
       "      <th>2</th>\n",
       "      <td>5j7m</td>\n",
       "      <td>5</td>\n",
       "      <td>7</td>\n",
       "      <td>[[(5, 7), (6, 3), (3, 4), (1, 1), (2, 4), (4, ...</td>\n",
       "    </tr>\n",
       "    <tr>\n",
       "      <th>3</th>\n",
       "      <td>5j8m</td>\n",
       "      <td>5</td>\n",
       "      <td>8</td>\n",
       "      <td>[[(1, 7), (3, 9), (6, 3), (0, 8), (2, 1), (7, ...</td>\n",
       "    </tr>\n",
       "    <tr>\n",
       "      <th>4</th>\n",
       "      <td>5j9m</td>\n",
       "      <td>5</td>\n",
       "      <td>9</td>\n",
       "      <td>[[(7, 6), (4, 10), (8, 1), (2, 2), (1, 10), (5...</td>\n",
       "    </tr>\n",
       "  </tbody>\n",
       "</table>\n",
       "</div>"
      ],
      "text/plain": [
       "  instance_id  num_jobs  num_machines  \\\n",
       "0        5j5m         5             5   \n",
       "1        5j6m         5             6   \n",
       "2        5j7m         5             7   \n",
       "3        5j8m         5             8   \n",
       "4        5j9m         5             9   \n",
       "\n",
       "                                    problem_instance  \n",
       "0  [[(3, 6), (1, 4), (2, 1), (0, 3), (4, 6)], [(0...  \n",
       "1  [[(5, 9), (3, 5), (0, 7), (2, 2), (1, 2), (4, ...  \n",
       "2  [[(5, 7), (6, 3), (3, 4), (1, 1), (2, 4), (4, ...  \n",
       "3  [[(1, 7), (3, 9), (6, 3), (0, 8), (2, 1), (7, ...  \n",
       "4  [[(7, 6), (4, 10), (8, 1), (2, 2), (1, 10), (5...  "
      ]
     },
     "execution_count": 3,
     "metadata": {},
     "output_type": "execute_result"
    }
   ],
   "source": [
    "job_shop_df.head()"
   ]
  },
  {
   "cell_type": "code",
   "execution_count": 19,
   "id": "3b293c98",
   "metadata": {},
   "outputs": [
    {
     "name": "stdout",
     "output_type": "stream",
     "text": [
      "    instance_id  num_jobs  num_machines  \\\n",
      "200      50j16m        50            16   \n",
      "\n",
      "                                      problem_instance  \n",
      "200  [[(13, 6), (6, 3), (0, 6), (12, 8), (8, 2), (7...  \n"
     ]
    }
   ],
   "source": [
    "print(job_shop_df[job_shop_df.index == 200])"
   ]
  },
  {
   "cell_type": "code",
   "execution_count": 4,
   "id": "a4bbf77f",
   "metadata": {},
   "outputs": [],
   "source": [
    "def random_solution_permutation_representation(problem_instance):\n",
    "    num_jobs = len(problem_instance)\n",
    "    num_machines = len(problem_instance[0])\n",
    "    solution = [job for job in range(num_jobs) for i in range(num_machines)]\n",
    "    random.shuffle(solution)\n",
    "    return solution\n",
    "\n",
    "\n",
    "def permutation_to_makespan(permutation_rep, problem_instance):\n",
    "    makespan = 0\n",
    "    current_time = 0\n",
    "    num_jobs = len(problem_instance)\n",
    "    num_machines = len(problem_instance[0])\n",
    "    \n",
    "    # keeps track of the number of times that a job has already occured\n",
    "    job_count = [0 for job in range(num_jobs)]\n",
    "    \n",
    "    # keep track of the current end time of each job\n",
    "    jobs_end_time = [0 for job in range(num_jobs)]\n",
    "    \n",
    "    # keep track of the current end time of each machine\n",
    "    machines_end_time = [0 for machine in range(num_machines)]\n",
    "    \n",
    "    for job in permutation_rep:\n",
    "\n",
    "        job_list = problem_instance[job] #gives the list of a job in which we find the sequence of machines and the processing times on those machines\n",
    "        job_index = job_count[job] #to find the index at which the relevant machine number and processing time info is stored\n",
    "#         print(\"We're looking up information at job index {job_index}\".format(job_index=job_index))\n",
    "        machine = job_list[job_index][0] #the machine that this job should be processed on now\n",
    "        processing_time = job_list[job_index][1] #the relevant processing time\n",
    "        \n",
    "#         print(\"Job {job} will be processed on machine {machine} with processing time {processing_time}\".format(job=job, machine=machine, processing_time=processing_time))\n",
    "        \n",
    "        # increase job occurrence for next iterations\n",
    "        job_count[job] += 1\n",
    "#         print(\"job id: {job}, job count: {count}\".format(job=job, count=job_count[job]))\n",
    "        \n",
    "        # the job can start on this machine when both this job and this machine have finished their last run\n",
    "        job_machine_end_time = max(jobs_end_time[job], machines_end_time[machine])\n",
    "        new_end_time = job_machine_end_time + processing_time #add current processing time to the previous end time\n",
    "        \n",
    "        # assign new end time to both the relevant job and the relevant machine\n",
    "        jobs_end_time[job] = new_end_time\n",
    "        machines_end_time[machine] = new_end_time\n",
    "        \n",
    "    # when all jobs in the permutation representation have been assigned to the machines with their relevant processing times, the total makespan of the problem instance should be the max end time of either / both the job end times and the machine end times\n",
    "    makespan = max(jobs_end_time)\n",
    "#     print(max(jobs_end_time))\n",
    "#     print(max(machines_end_time))\n",
    "    return makespan"
   ]
  },
  {
   "cell_type": "code",
   "execution_count": 5,
   "id": "d4622670",
   "metadata": {},
   "outputs": [],
   "source": [
    "problem_instance = job_shop_df['problem_instance'][0]"
   ]
  },
  {
   "cell_type": "code",
   "execution_count": 6,
   "id": "6f6708b2",
   "metadata": {},
   "outputs": [
    {
     "name": "stderr",
     "output_type": "stream",
     "text": [
      "Processing: 100%|██████████████████| 1000000/1000000 [00:27<00:00, 36068.20it/s]\n"
     ]
    }
   ],
   "source": [
    "num_random_solutions = 1000000\n",
    "random_makespans = []\n",
    "\n",
    "for solution in tqdm(range(num_random_solutions), desc='Processing'):\n",
    "    random_permutation = random_solution_permutation_representation(problem_instance)\n",
    "    makespan = permutation_to_makespan(random_permutation, problem_instance)\n",
    "    random_makespans.append(makespan)"
   ]
  },
  {
   "cell_type": "code",
   "execution_count": 9,
   "id": "c8d16a13",
   "metadata": {},
   "outputs": [
    {
     "data": {
      "image/png": "[encoded data removed]",
      "text/plain": [
       "<Figure size 432x288 with 1 Axes>"
      ]
     },
     "metadata": {
      "needs_background": "light"
     },
     "output_type": "display_data"
    }
   ],
   "source": [
    "sns.histplot(random_makespans, kde=True, bins=35, kde_kws={'bw_method': 0.4}, color='blue')\n",
    "\n",
    "# mu, std = norm.fit(random_makespans)\n",
    "# x = np.linspace(min(random_makespans), max(random_makespans), 100)\n",
    "# pdf = norm.pdf(x, mu, std)\n",
    "# plt.plot(x, pdf, 'r-')\n",
    "\n",
    "plt.xlabel('Random JSSP solution makespans')\n",
    "plt.ylabel('Number of solutions')\n",
    "# plt.title('')\n",
    "# plt.grid(True)\n",
    "\n",
    "# Show the histogram\n",
    "# plt.show()\n",
    "# plt.savefig('random_solutions.png')"
   ]
  },
  {
   "cell_type": "code",
   "execution_count": 10,
   "id": "9be2f44a",
   "metadata": {},
   "outputs": [],
   "source": [
    "problem_instance_large = job_shop_df['problem_instance'][200]"
   ]
  },
  {
   "cell_type": "code",
   "execution_count": 11,
   "id": "cf7a462b",
   "metadata": {},
   "outputs": [
    {
     "name": "stderr",
     "output_type": "stream",
     "text": [
      "Processing: 100%|███████████████████| 1000000/1000000 [12:54<00:00, 1291.19it/s]\n"
     ]
    }
   ],
   "source": [
    "num_random_solutions = 1000000\n",
    "random_makespans_large = []\n",
    "\n",
    "for solution in tqdm(range(num_random_solutions), desc='Processing'):\n",
    "    random_permutation = random_solution_permutation_representation(problem_instance_large)\n",
    "    makespan = permutation_to_makespan(random_permutation, problem_instance_large)\n",
    "    random_makespans_large.append(makespan)"
   ]
  },
  {
   "cell_type": "code",
   "execution_count": 13,
   "id": "17a6eec6",
   "metadata": {},
   "outputs": [
    {
     "data": {
      "image/png": "[encoded data removed]",
      "text/plain": [
       "<Figure size 432x288 with 1 Axes>"
      ]
     },
     "metadata": {
      "needs_background": "light"
     },
     "output_type": "display_data"
    }
   ],
   "source": [
    "sns.histplot(random_makespans_large, kde=True, bins=35, kde_kws={'bw_method': 0.4}, color='blue')\n",
    "\n",
    "# mu, std = norm.fit(random_makespans)\n",
    "# x = np.linspace(min(random_makespans), max(random_makespans), 100)\n",
    "# pdf = norm.pdf(x, mu, std)\n",
    "# plt.plot(x, pdf, 'r-')\n",
    "\n",
    "plt.xlabel('Random JSSP solution makespans')\n",
    "plt.ylabel('Number of solutions')\n",
    "# plt.title('')\n",
    "# plt.grid(True)\n",
    "\n",
    "# Show the histogram\n",
    "# plt.show()\n",
    "plt.savefig('random_solutions.png')"
   ]
  },
  {
   "cell_type": "code",
   "execution_count": null,
   "id": "12609007",
   "metadata": {},
   "outputs": [],
   "source": []
  }
 ],
 "metadata": {
  "kernelspec": {
   "display_name": "Python 3 (ipykernel)",
   "language": "python",
   "name": "python3"
  },
  "language_info": {
   "codemirror_mode": {
    "name": "ipython",
    "version": 3
   },
   "file_extension": ".py",
   "mimetype": "text/x-python",
   "name": "python",
   "nbconvert_exporter": "python",
   "pygments_lexer": "ipython3",
   "version": "3.9.12"
  }
 },
 "nbformat": 4,
 "nbformat_minor": 5
}

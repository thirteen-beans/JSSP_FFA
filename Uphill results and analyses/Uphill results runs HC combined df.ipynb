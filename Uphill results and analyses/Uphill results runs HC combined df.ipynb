{
 "cells": [
  {
   "cell_type": "code",
   "execution_count": 1,
   "id": "ecac1885",
   "metadata": {},
   "outputs": [],
   "source": [
    "import pandas as pd\n",
    "import ast\n",
    "import numpy as np\n",
    "import matplotlib.pyplot as plt\n",
    "import json\n",
    "import seaborn as sns"
   ]
  },
  {
   "cell_type": "markdown",
   "id": "a5a46604",
   "metadata": {},
   "source": [
    "# Import and combine data"
   ]
  },
  {
   "cell_type": "markdown",
   "id": "949abeaf",
   "metadata": {},
   "source": [
    "## HillClimber run 1"
   ]
  },
  {
   "cell_type": "code",
   "execution_count": 2,
   "id": "701f7eb4",
   "metadata": {
    "scrolled": true
   },
   "outputs": [
    {
     "data": {
      "text/html": [
       "<div>\n",
       "<style scoped>\n",
       "    .dataframe tbody tr th:only-of-type {\n",
       "        vertical-align: middle;\n",
       "    }\n",
       "\n",
       "    .dataframe tbody tr th {\n",
       "        vertical-align: top;\n",
       "    }\n",
       "\n",
       "    .dataframe thead th {\n",
       "        text-align: right;\n",
       "    }\n",
       "</style>\n",
       "<table border=\"1\" class=\"dataframe\">\n",
       "  <thead>\n",
       "    <tr style=\"text-align: right;\">\n",
       "      <th></th>\n",
       "      <th>instance_id</th>\n",
       "      <th>best_solution</th>\n",
       "      <th>best_makespan</th>\n",
       "      <th>convergence</th>\n",
       "    </tr>\n",
       "  </thead>\n",
       "  <tbody>\n",
       "    <tr>\n",
       "      <th>0</th>\n",
       "      <td>0</td>\n",
       "      <td>[4, 2, 2, 2, 1, 0, 1, 3, 4, 2, 4, 0, 3, 3, 1, ...</td>\n",
       "      <td>52</td>\n",
       "      <td>[54, 54, 54, 54, 54, 54, 54, 54, 54, 54, 54, 5...</td>\n",
       "    </tr>\n",
       "    <tr>\n",
       "      <th>1</th>\n",
       "      <td>1</td>\n",
       "      <td>[0, 3, 2, 1, 0, 2, 4, 0, 3, 4, 1, 4, 3, 0, 4, ...</td>\n",
       "      <td>51</td>\n",
       "      <td>[62, 62, 62, 62, 62, 58, 58, 58, 58, 58, 58, 5...</td>\n",
       "    </tr>\n",
       "    <tr>\n",
       "      <th>2</th>\n",
       "      <td>2</td>\n",
       "      <td>[2, 4, 3, 1, 1, 4, 0, 2, 0, 4, 2, 0, 0, 1, 3, ...</td>\n",
       "      <td>56</td>\n",
       "      <td>[107, 107, 107, 107, 85, 85, 66, 66, 64, 64, 6...</td>\n",
       "    </tr>\n",
       "    <tr>\n",
       "      <th>3</th>\n",
       "      <td>3</td>\n",
       "      <td>[4, 4, 1, 2, 3, 3, 3, 1, 2, 2, 0, 2, 2, 3, 4, ...</td>\n",
       "      <td>57</td>\n",
       "      <td>[103, 91, 91, 91, 89, 89, 89, 88, 88, 86, 86, ...</td>\n",
       "    </tr>\n",
       "    <tr>\n",
       "      <th>4</th>\n",
       "      <td>4</td>\n",
       "      <td>[2, 0, 4, 0, 3, 4, 1, 4, 0, 1, 2, 4, 3, 3, 2, ...</td>\n",
       "      <td>82</td>\n",
       "      <td>[95, 93, 93, 93, 93, 91, 91, 89, 89, 89, 89, 8...</td>\n",
       "    </tr>\n",
       "  </tbody>\n",
       "</table>\n",
       "</div>"
      ],
      "text/plain": [
       "   instance_id                                      best_solution  \\\n",
       "0            0  [4, 2, 2, 2, 1, 0, 1, 3, 4, 2, 4, 0, 3, 3, 1, ...   \n",
       "1            1  [0, 3, 2, 1, 0, 2, 4, 0, 3, 4, 1, 4, 3, 0, 4, ...   \n",
       "2            2  [2, 4, 3, 1, 1, 4, 0, 2, 0, 4, 2, 0, 0, 1, 3, ...   \n",
       "3            3  [4, 4, 1, 2, 3, 3, 3, 1, 2, 2, 0, 2, 2, 3, 4, ...   \n",
       "4            4  [2, 0, 4, 0, 3, 4, 1, 4, 0, 1, 2, 4, 3, 3, 2, ...   \n",
       "\n",
       "   best_makespan                                        convergence  \n",
       "0             52  [54, 54, 54, 54, 54, 54, 54, 54, 54, 54, 54, 5...  \n",
       "1             51  [62, 62, 62, 62, 62, 58, 58, 58, 58, 58, 58, 5...  \n",
       "2             56  [107, 107, 107, 107, 85, 85, 66, 66, 64, 64, 6...  \n",
       "3             57  [103, 91, 91, 91, 89, 89, 89, 88, 88, 86, 86, ...  \n",
       "4             82  [95, 93, 93, 93, 93, 91, 91, 89, 89, 89, 89, 8...  "
      ]
     },
     "execution_count": 2,
     "metadata": {},
     "output_type": "execute_result"
    }
   ],
   "source": [
    "hc_results1 = pd.read_csv('hc_1000000_evals_greedy1.csv', sep=';', index_col=False)\n",
    "hc_results1.head()"
   ]
  },
  {
   "cell_type": "markdown",
   "id": "0014779a",
   "metadata": {},
   "source": [
    "### Strings to lists"
   ]
  },
  {
   "cell_type": "code",
   "execution_count": 3,
   "id": "ea8cb1d2",
   "metadata": {},
   "outputs": [],
   "source": [
    "def custom_literal_eval(x):\n",
    "    try:\n",
    "        return json.loads(x)\n",
    "    except (json.JSONDecodeError, TypeError):\n",
    "        return x"
   ]
  },
  {
   "cell_type": "code",
   "execution_count": 33,
   "id": "b2574203",
   "metadata": {},
   "outputs": [],
   "source": [
    "hc_results1['best_solution'] = hc_results1['best_solution'].apply(custom_literal_eval)\n",
    "hc_results1['convergence'] = hc_results1['convergence'].apply(custom_literal_eval)"
   ]
  },
  {
   "cell_type": "code",
   "execution_count": 34,
   "id": "27e04a06",
   "metadata": {},
   "outputs": [],
   "source": [
    "hc_results1['best_makespan_4'] = hc_results1['convergence'].apply(lambda x: x[9999])\n",
    "hc_results1['best_makespan_5'] = hc_results1['convergence'].apply(lambda x: x[99999])\n",
    "hc_results1['best_makespan_250'] = hc_results1['convergence'].apply(lambda x: x[249999])\n",
    "hc_results1['best_makespan_500'] = hc_results1['convergence'].apply(lambda x: x[499999])\n",
    "hc_results1['best_makespan_750'] = hc_results1['convergence'].apply(lambda x: x[749999])"
   ]
  },
  {
   "cell_type": "markdown",
   "id": "3c23469b",
   "metadata": {},
   "source": [
    "## HillClimber run 2"
   ]
  },
  {
   "cell_type": "code",
   "execution_count": 9,
   "id": "1191f6bd",
   "metadata": {},
   "outputs": [
    {
     "data": {
      "text/html": [
       "<div>\n",
       "<style scoped>\n",
       "    .dataframe tbody tr th:only-of-type {\n",
       "        vertical-align: middle;\n",
       "    }\n",
       "\n",
       "    .dataframe tbody tr th {\n",
       "        vertical-align: top;\n",
       "    }\n",
       "\n",
       "    .dataframe thead th {\n",
       "        text-align: right;\n",
       "    }\n",
       "</style>\n",
       "<table border=\"1\" class=\"dataframe\">\n",
       "  <thead>\n",
       "    <tr style=\"text-align: right;\">\n",
       "      <th></th>\n",
       "      <th>instance_id</th>\n",
       "      <th>best_solution</th>\n",
       "      <th>best_makespan</th>\n",
       "      <th>convergence</th>\n",
       "    </tr>\n",
       "  </thead>\n",
       "  <tbody>\n",
       "    <tr>\n",
       "      <th>0</th>\n",
       "      <td>0</td>\n",
       "      <td>[2, 4, 4, 1, 1, 2, 0, 2, 3, 3, 0, 0, 4, 2, 4, ...</td>\n",
       "      <td>52</td>\n",
       "      <td>[76, 76, 76, 76, 76, 76, 75, 73, 59, 59, 59, 5...</td>\n",
       "    </tr>\n",
       "    <tr>\n",
       "      <th>1</th>\n",
       "      <td>1</td>\n",
       "      <td>[0, 0, 4, 3, 0, 4, 4, 3, 0, 1, 4, 0, 1, 3, 1, ...</td>\n",
       "      <td>59</td>\n",
       "      <td>[73, 67, 67, 67, 67, 67, 67, 67, 67, 67, 63, 6...</td>\n",
       "    </tr>\n",
       "    <tr>\n",
       "      <th>2</th>\n",
       "      <td>2</td>\n",
       "      <td>[2, 3, 2, 1, 3, 0, 1, 3, 0, 2, 1, 1, 0, 4, 2, ...</td>\n",
       "      <td>63</td>\n",
       "      <td>[82, 68, 63, 63, 63, 63, 63, 63, 63, 63, 63, 6...</td>\n",
       "    </tr>\n",
       "    <tr>\n",
       "      <th>3</th>\n",
       "      <td>3</td>\n",
       "      <td>[2, 2, 3, 2, 4, 0, 2, 0, 4, 1, 1, 3, 0, 4, 3, ...</td>\n",
       "      <td>61</td>\n",
       "      <td>[95, 95, 95, 95, 93, 83, 83, 83, 83, 78, 78, 6...</td>\n",
       "    </tr>\n",
       "    <tr>\n",
       "      <th>4</th>\n",
       "      <td>4</td>\n",
       "      <td>[0, 0, 3, 3, 4, 4, 2, 1, 4, 1, 3, 3, 1, 3, 4, ...</td>\n",
       "      <td>78</td>\n",
       "      <td>[97, 97, 97, 92, 92, 90, 89, 89, 85, 85, 84, 8...</td>\n",
       "    </tr>\n",
       "  </tbody>\n",
       "</table>\n",
       "</div>"
      ],
      "text/plain": [
       "   instance_id                                      best_solution  \\\n",
       "0            0  [2, 4, 4, 1, 1, 2, 0, 2, 3, 3, 0, 0, 4, 2, 4, ...   \n",
       "1            1  [0, 0, 4, 3, 0, 4, 4, 3, 0, 1, 4, 0, 1, 3, 1, ...   \n",
       "2            2  [2, 3, 2, 1, 3, 0, 1, 3, 0, 2, 1, 1, 0, 4, 2, ...   \n",
       "3            3  [2, 2, 3, 2, 4, 0, 2, 0, 4, 1, 1, 3, 0, 4, 3, ...   \n",
       "4            4  [0, 0, 3, 3, 4, 4, 2, 1, 4, 1, 3, 3, 1, 3, 4, ...   \n",
       "\n",
       "   best_makespan                                        convergence  \n",
       "0             52  [76, 76, 76, 76, 76, 76, 75, 73, 59, 59, 59, 5...  \n",
       "1             59  [73, 67, 67, 67, 67, 67, 67, 67, 67, 67, 63, 6...  \n",
       "2             63  [82, 68, 63, 63, 63, 63, 63, 63, 63, 63, 63, 6...  \n",
       "3             61  [95, 95, 95, 95, 93, 83, 83, 83, 83, 78, 78, 6...  \n",
       "4             78  [97, 97, 97, 92, 92, 90, 89, 89, 85, 85, 84, 8...  "
      ]
     },
     "execution_count": 9,
     "metadata": {},
     "output_type": "execute_result"
    }
   ],
   "source": [
    "hc_results2 = pd.read_csv('hc_1000000_evals_greedy2.csv', sep=';', index_col=False)\n",
    "hc_results2.head()"
   ]
  },
  {
   "cell_type": "code",
   "execution_count": 10,
   "id": "61b06a18",
   "metadata": {},
   "outputs": [],
   "source": [
    "hc_results2['best_solution'] = hc_results2['best_solution'].apply(custom_literal_eval)\n",
    "hc_results2['convergence'] = hc_results2['convergence'].apply(custom_literal_eval)"
   ]
  },
  {
   "cell_type": "code",
   "execution_count": 35,
   "id": "1b7df13a",
   "metadata": {},
   "outputs": [],
   "source": [
    "hc_results2['best_makespan_4'] = hc_results2['convergence'].apply(lambda x: x[9999])\n",
    "hc_results2['best_makespan_5'] = hc_results2['convergence'].apply(lambda x: x[99999])\n",
    "hc_results2['best_makespan_250'] = hc_results2['convergence'].apply(lambda x: x[249999])\n",
    "hc_results2['best_makespan_500'] = hc_results2['convergence'].apply(lambda x: x[499999])\n",
    "hc_results2['best_makespan_750'] = hc_results2['convergence'].apply(lambda x: x[749999])"
   ]
  },
  {
   "cell_type": "markdown",
   "id": "14229693",
   "metadata": {},
   "source": [
    "## HillClimber run 3"
   ]
  },
  {
   "cell_type": "code",
   "execution_count": 12,
   "id": "ca156a41",
   "metadata": {
    "scrolled": false
   },
   "outputs": [
    {
     "data": {
      "text/html": [
       "<div>\n",
       "<style scoped>\n",
       "    .dataframe tbody tr th:only-of-type {\n",
       "        vertical-align: middle;\n",
       "    }\n",
       "\n",
       "    .dataframe tbody tr th {\n",
       "        vertical-align: top;\n",
       "    }\n",
       "\n",
       "    .dataframe thead th {\n",
       "        text-align: right;\n",
       "    }\n",
       "</style>\n",
       "<table border=\"1\" class=\"dataframe\">\n",
       "  <thead>\n",
       "    <tr style=\"text-align: right;\">\n",
       "      <th></th>\n",
       "      <th>instance_id</th>\n",
       "      <th>best_solution</th>\n",
       "      <th>best_makespan</th>\n",
       "      <th>convergence</th>\n",
       "    </tr>\n",
       "  </thead>\n",
       "  <tbody>\n",
       "    <tr>\n",
       "      <th>0</th>\n",
       "      <td>0</td>\n",
       "      <td>[1, 3, 3, 2, 1, 4, 3, 4, 3, 1, 2, 4, 4, 2, 3, ...</td>\n",
       "      <td>51</td>\n",
       "      <td>[68, 67, 67, 67, 67, 66, 66, 61, 55, 55, 55, 5...</td>\n",
       "    </tr>\n",
       "    <tr>\n",
       "      <th>1</th>\n",
       "      <td>1</td>\n",
       "      <td>[4, 1, 2, 2, 2, 0, 3, 2, 3, 1, 3, 4, 4, 2, 0, ...</td>\n",
       "      <td>48</td>\n",
       "      <td>[68, 68, 68, 68, 68, 52, 52, 52, 52, 52, 52, 5...</td>\n",
       "    </tr>\n",
       "    <tr>\n",
       "      <th>2</th>\n",
       "      <td>2</td>\n",
       "      <td>[1, 3, 2, 0, 2, 0, 3, 2, 4, 3, 3, 1, 4, 0, 4, ...</td>\n",
       "      <td>56</td>\n",
       "      <td>[73, 73, 73, 73, 73, 73, 73, 73, 73, 73, 73, 6...</td>\n",
       "    </tr>\n",
       "    <tr>\n",
       "      <th>3</th>\n",
       "      <td>3</td>\n",
       "      <td>[3, 0, 1, 4, 4, 2, 2, 0, 3, 0, 2, 4, 2, 2, 3, ...</td>\n",
       "      <td>59</td>\n",
       "      <td>[70, 70, 70, 70, 70, 70, 70, 70, 69, 69, 69, 6...</td>\n",
       "    </tr>\n",
       "    <tr>\n",
       "      <th>4</th>\n",
       "      <td>4</td>\n",
       "      <td>[1, 0, 2, 1, 2, 0, 3, 3, 2, 0, 1, 1, 1, 1, 3, ...</td>\n",
       "      <td>62</td>\n",
       "      <td>[91, 91, 91, 91, 89, 84, 84, 84, 83, 83, 83, 8...</td>\n",
       "    </tr>\n",
       "  </tbody>\n",
       "</table>\n",
       "</div>"
      ],
      "text/plain": [
       "   instance_id                                      best_solution  \\\n",
       "0            0  [1, 3, 3, 2, 1, 4, 3, 4, 3, 1, 2, 4, 4, 2, 3, ...   \n",
       "1            1  [4, 1, 2, 2, 2, 0, 3, 2, 3, 1, 3, 4, 4, 2, 0, ...   \n",
       "2            2  [1, 3, 2, 0, 2, 0, 3, 2, 4, 3, 3, 1, 4, 0, 4, ...   \n",
       "3            3  [3, 0, 1, 4, 4, 2, 2, 0, 3, 0, 2, 4, 2, 2, 3, ...   \n",
       "4            4  [1, 0, 2, 1, 2, 0, 3, 3, 2, 0, 1, 1, 1, 1, 3, ...   \n",
       "\n",
       "   best_makespan                                        convergence  \n",
       "0             51  [68, 67, 67, 67, 67, 66, 66, 61, 55, 55, 55, 5...  \n",
       "1             48  [68, 68, 68, 68, 68, 52, 52, 52, 52, 52, 52, 5...  \n",
       "2             56  [73, 73, 73, 73, 73, 73, 73, 73, 73, 73, 73, 6...  \n",
       "3             59  [70, 70, 70, 70, 70, 70, 70, 70, 69, 69, 69, 6...  \n",
       "4             62  [91, 91, 91, 91, 89, 84, 84, 84, 83, 83, 83, 8...  "
      ]
     },
     "execution_count": 12,
     "metadata": {},
     "output_type": "execute_result"
    }
   ],
   "source": [
    "hc_results3 = pd.read_csv('hc_1000000_evals_greedy3.csv', sep=';', index_col=False)\n",
    "hc_results3.head()"
   ]
  },
  {
   "cell_type": "code",
   "execution_count": 14,
   "id": "2edc223f",
   "metadata": {},
   "outputs": [],
   "source": [
    "hc_results3['best_solution'] = hc_results3['best_solution'].apply(custom_literal_eval)\n",
    "hc_results3['convergence'] = hc_results3['convergence'].apply(custom_literal_eval)"
   ]
  },
  {
   "cell_type": "code",
   "execution_count": 36,
   "id": "dd20c82f",
   "metadata": {},
   "outputs": [],
   "source": [
    "hc_results3['best_makespan_4'] = hc_results3['convergence'].apply(lambda x: x[9999])\n",
    "hc_results3['best_makespan_5'] = hc_results3['convergence'].apply(lambda x: x[99999])\n",
    "hc_results3['best_makespan_250'] = hc_results3['convergence'].apply(lambda x: x[249999])\n",
    "hc_results3['best_makespan_500'] = hc_results3['convergence'].apply(lambda x: x[499999])\n",
    "hc_results3['best_makespan_750'] = hc_results3['convergence'].apply(lambda x: x[749999])"
   ]
  },
  {
   "cell_type": "markdown",
   "id": "e7a22d5c",
   "metadata": {},
   "source": [
    "## Save all best makespans to dataset"
   ]
  },
  {
   "cell_type": "code",
   "execution_count": 22,
   "id": "d7cf5cdd",
   "metadata": {},
   "outputs": [],
   "source": [
    "best1 = hc_results1['best_makespan']\n",
    "best2 = hc_results2['best_makespan']\n",
    "best3 = hc_results1['best_makespan']"
   ]
  },
  {
   "cell_type": "code",
   "execution_count": 24,
   "id": "80dd3a35",
   "metadata": {},
   "outputs": [],
   "source": [
    "instances = hc_results1['instance_id']"
   ]
  },
  {
   "cell_type": "code",
   "execution_count": 37,
   "id": "dd859ba2",
   "metadata": {},
   "outputs": [],
   "source": [
    "best_makespans_all = pd.DataFrame({'instance_id': instances,\n",
    "                                     'run1_4': hc_results1['best_makespan_4'],\n",
    "                                     'run2_4': hc_results2['best_makespan_4'],\n",
    "                                     'run3_4': hc_results1['best_makespan_4'],\n",
    "                                     'run1_5': hc_results1['best_makespan_5'],\n",
    "                                     'run2_5': hc_results2['best_makespan_5'],\n",
    "                                     'run3_5': hc_results3['best_makespan_5'],\n",
    "                                     'run1_250': hc_results1['best_makespan_250'],\n",
    "                                     'run2_250': hc_results2['best_makespan_250'],\n",
    "                                     'run3_250': hc_results3['best_makespan_250'],\n",
    "                                     'run1_500': hc_results1['best_makespan_500'],\n",
    "                                     'run2_500': hc_results2['best_makespan_500'],\n",
    "                                     'run3_500': hc_results3['best_makespan_500'],\n",
    "                                     'run1_750': hc_results1['best_makespan_750'],\n",
    "                                     'run2_750': hc_results2['best_makespan_750'],\n",
    "                                     'run3_750': hc_results3['best_makespan_750'],\n",
    "                                     'run1_best': best1,\n",
    "                                     'run2_best': best2,\n",
    "                                     'run3_best': best3})"
   ]
  },
  {
   "cell_type": "code",
   "execution_count": 38,
   "id": "272b50ad",
   "metadata": {
    "scrolled": true
   },
   "outputs": [
    {
     "data": {
      "text/html": [
       "<div>\n",
       "<style scoped>\n",
       "    .dataframe tbody tr th:only-of-type {\n",
       "        vertical-align: middle;\n",
       "    }\n",
       "\n",
       "    .dataframe tbody tr th {\n",
       "        vertical-align: top;\n",
       "    }\n",
       "\n",
       "    .dataframe thead th {\n",
       "        text-align: right;\n",
       "    }\n",
       "</style>\n",
       "<table border=\"1\" class=\"dataframe\">\n",
       "  <thead>\n",
       "    <tr style=\"text-align: right;\">\n",
       "      <th></th>\n",
       "      <th>instance_id</th>\n",
       "      <th>run1_4</th>\n",
       "      <th>run2_4</th>\n",
       "      <th>run3_4</th>\n",
       "      <th>run1_5</th>\n",
       "      <th>run2_5</th>\n",
       "      <th>run3_5</th>\n",
       "      <th>run1_250</th>\n",
       "      <th>run2_250</th>\n",
       "      <th>run3_250</th>\n",
       "      <th>run1_500</th>\n",
       "      <th>run2_500</th>\n",
       "      <th>run3_500</th>\n",
       "      <th>run1_750</th>\n",
       "      <th>run2_750</th>\n",
       "      <th>run3_750</th>\n",
       "      <th>run1_best</th>\n",
       "      <th>run2_best</th>\n",
       "      <th>run3_best</th>\n",
       "    </tr>\n",
       "  </thead>\n",
       "  <tbody>\n",
       "    <tr>\n",
       "      <th>0</th>\n",
       "      <td>0</td>\n",
       "      <td>52</td>\n",
       "      <td>52</td>\n",
       "      <td>52</td>\n",
       "      <td>52</td>\n",
       "      <td>52</td>\n",
       "      <td>51</td>\n",
       "      <td>52</td>\n",
       "      <td>52</td>\n",
       "      <td>51</td>\n",
       "      <td>52</td>\n",
       "      <td>52</td>\n",
       "      <td>51</td>\n",
       "      <td>52</td>\n",
       "      <td>52</td>\n",
       "      <td>51</td>\n",
       "      <td>52</td>\n",
       "      <td>52</td>\n",
       "      <td>52</td>\n",
       "    </tr>\n",
       "    <tr>\n",
       "      <th>1</th>\n",
       "      <td>1</td>\n",
       "      <td>51</td>\n",
       "      <td>59</td>\n",
       "      <td>51</td>\n",
       "      <td>51</td>\n",
       "      <td>59</td>\n",
       "      <td>48</td>\n",
       "      <td>51</td>\n",
       "      <td>59</td>\n",
       "      <td>48</td>\n",
       "      <td>51</td>\n",
       "      <td>59</td>\n",
       "      <td>48</td>\n",
       "      <td>51</td>\n",
       "      <td>59</td>\n",
       "      <td>48</td>\n",
       "      <td>51</td>\n",
       "      <td>59</td>\n",
       "      <td>51</td>\n",
       "    </tr>\n",
       "    <tr>\n",
       "      <th>2</th>\n",
       "      <td>2</td>\n",
       "      <td>56</td>\n",
       "      <td>63</td>\n",
       "      <td>56</td>\n",
       "      <td>56</td>\n",
       "      <td>63</td>\n",
       "      <td>56</td>\n",
       "      <td>56</td>\n",
       "      <td>63</td>\n",
       "      <td>56</td>\n",
       "      <td>56</td>\n",
       "      <td>63</td>\n",
       "      <td>56</td>\n",
       "      <td>56</td>\n",
       "      <td>63</td>\n",
       "      <td>56</td>\n",
       "      <td>56</td>\n",
       "      <td>63</td>\n",
       "      <td>56</td>\n",
       "    </tr>\n",
       "    <tr>\n",
       "      <th>3</th>\n",
       "      <td>3</td>\n",
       "      <td>57</td>\n",
       "      <td>61</td>\n",
       "      <td>57</td>\n",
       "      <td>57</td>\n",
       "      <td>61</td>\n",
       "      <td>59</td>\n",
       "      <td>57</td>\n",
       "      <td>61</td>\n",
       "      <td>59</td>\n",
       "      <td>57</td>\n",
       "      <td>61</td>\n",
       "      <td>59</td>\n",
       "      <td>57</td>\n",
       "      <td>61</td>\n",
       "      <td>59</td>\n",
       "      <td>57</td>\n",
       "      <td>61</td>\n",
       "      <td>57</td>\n",
       "    </tr>\n",
       "    <tr>\n",
       "      <th>4</th>\n",
       "      <td>4</td>\n",
       "      <td>82</td>\n",
       "      <td>78</td>\n",
       "      <td>82</td>\n",
       "      <td>82</td>\n",
       "      <td>78</td>\n",
       "      <td>62</td>\n",
       "      <td>82</td>\n",
       "      <td>78</td>\n",
       "      <td>62</td>\n",
       "      <td>82</td>\n",
       "      <td>78</td>\n",
       "      <td>62</td>\n",
       "      <td>82</td>\n",
       "      <td>78</td>\n",
       "      <td>62</td>\n",
       "      <td>82</td>\n",
       "      <td>78</td>\n",
       "      <td>82</td>\n",
       "    </tr>\n",
       "  </tbody>\n",
       "</table>\n",
       "</div>"
      ],
      "text/plain": [
       "   instance_id  run1_4  run2_4  run3_4  run1_5  run2_5  run3_5  run1_250  \\\n",
       "0            0      52      52      52      52      52      51        52   \n",
       "1            1      51      59      51      51      59      48        51   \n",
       "2            2      56      63      56      56      63      56        56   \n",
       "3            3      57      61      57      57      61      59        57   \n",
       "4            4      82      78      82      82      78      62        82   \n",
       "\n",
       "   run2_250  run3_250  run1_500  run2_500  run3_500  run1_750  run2_750  \\\n",
       "0        52        51        52        52        51        52        52   \n",
       "1        59        48        51        59        48        51        59   \n",
       "2        63        56        56        63        56        56        63   \n",
       "3        61        59        57        61        59        57        61   \n",
       "4        78        62        82        78        62        82        78   \n",
       "\n",
       "   run3_750  run1_best  run2_best  run3_best  \n",
       "0        51         52         52         52  \n",
       "1        48         51         59         51  \n",
       "2        56         56         63         56  \n",
       "3        59         57         61         57  \n",
       "4        62         82         78         82  "
      ]
     },
     "execution_count": 38,
     "metadata": {},
     "output_type": "execute_result"
    }
   ],
   "source": [
    "best_makespans_all.head()"
   ]
  },
  {
   "cell_type": "code",
   "execution_count": 39,
   "id": "d998d867",
   "metadata": {},
   "outputs": [],
   "source": [
    "best_makespans_all.to_csv('hc_all_runs_makespans_greedy.csv', index=False)"
   ]
  },
  {
   "cell_type": "markdown",
   "id": "574d8933",
   "metadata": {},
   "source": [
    "## HC Convergende dataset"
   ]
  },
  {
   "cell_type": "code",
   "execution_count": 16,
   "id": "11cd2fa6",
   "metadata": {},
   "outputs": [],
   "source": [
    "#selected ids based with largest makespan differences within the instance makespans\n",
    "instances_ids = [0, 37, 62, 293, 335, 363, 396, 419]"
   ]
  },
  {
   "cell_type": "code",
   "execution_count": 17,
   "id": "73b71717",
   "metadata": {},
   "outputs": [
    {
     "name": "stdout",
     "output_type": "stream",
     "text": [
      "0\n",
      "37\n",
      "62\n",
      "293\n",
      "335\n",
      "363\n",
      "396\n",
      "419\n"
     ]
    }
   ],
   "source": [
    "hc1_convergence = []\n",
    "hc2_convergence = []\n",
    "hc3_convergence = []\n",
    "for i in instances_ids:\n",
    "    print(i)\n",
    "    hc1 = hc_results1['convergence'][i]\n",
    "    hc2 = hc_results2['convergence'][i]\n",
    "    hc3 = hc_results3['convergence'][i]\n",
    "    hc1_convergence.append(hc1)\n",
    "#     print(hc_convergence)\n",
    "    hc2_convergence.append(hc2)\n",
    "#     print(hc2_convergence)\n",
    "    hc3_convergence.append(hc3)\n",
    "#     print(hc3_convergence)"
   ]
  },
  {
   "cell_type": "code",
   "execution_count": 18,
   "id": "68ffd427",
   "metadata": {},
   "outputs": [],
   "source": [
    "hc_convergence_df = pd.DataFrame({'instance_id': instances_ids,\n",
    "                                     'hc1_convergence': hc1_convergence,\n",
    "                                     'hc2_convergence': hc2_convergence,\n",
    "                                     'hc3_convergence': hc3_convergence})"
   ]
  },
  {
   "cell_type": "code",
   "execution_count": 19,
   "id": "47af2c95",
   "metadata": {
    "scrolled": true
   },
   "outputs": [
    {
     "data": {
      "text/html": [
       "<div>\n",
       "<style scoped>\n",
       "    .dataframe tbody tr th:only-of-type {\n",
       "        vertical-align: middle;\n",
       "    }\n",
       "\n",
       "    .dataframe tbody tr th {\n",
       "        vertical-align: top;\n",
       "    }\n",
       "\n",
       "    .dataframe thead th {\n",
       "        text-align: right;\n",
       "    }\n",
       "</style>\n",
       "<table border=\"1\" class=\"dataframe\">\n",
       "  <thead>\n",
       "    <tr style=\"text-align: right;\">\n",
       "      <th></th>\n",
       "      <th>instance_id</th>\n",
       "      <th>hc1_convergence</th>\n",
       "      <th>hc2_convergence</th>\n",
       "      <th>hc3_convergence</th>\n",
       "    </tr>\n",
       "  </thead>\n",
       "  <tbody>\n",
       "    <tr>\n",
       "      <th>0</th>\n",
       "      <td>0</td>\n",
       "      <td>[54, 54, 54, 54, 54, 54, 54, 54, 54, 54, 54, 5...</td>\n",
       "      <td>[76, 76, 76, 76, 76, 76, 75, 73, 59, 59, 59, 5...</td>\n",
       "      <td>[68, 67, 67, 67, 67, 66, 66, 61, 55, 55, 55, 5...</td>\n",
       "    </tr>\n",
       "    <tr>\n",
       "      <th>1</th>\n",
       "      <td>37</td>\n",
       "      <td>[247, 247, 247, 247, 247, 245, 245, 245, 245, ...</td>\n",
       "      <td>[248, 248, 233, 233, 233, 233, 233, 233, 233, ...</td>\n",
       "      <td>[244, 244, 244, 244, 244, 244, 244, 233, 233, ...</td>\n",
       "    </tr>\n",
       "    <tr>\n",
       "      <th>2</th>\n",
       "      <td>62</td>\n",
       "      <td>[377, 373, 365, 365, 346, 318, 318, 318, 318, ...</td>\n",
       "      <td>[373, 373, 373, 368, 365, 357, 357, 352, 352, ...</td>\n",
       "      <td>[341, 338, 338, 338, 338, 322, 322, 320, 320, ...</td>\n",
       "    </tr>\n",
       "    <tr>\n",
       "      <th>3</th>\n",
       "      <td>293</td>\n",
       "      <td>[833, 833, 833, 833, 833, 833, 823, 823, 823, ...</td>\n",
       "      <td>[849, 849, 849, 842, 839, 839, 822, 822, 822, ...</td>\n",
       "      <td>[924, 918, 910, 910, 910, 910, 910, 910, 910, ...</td>\n",
       "    </tr>\n",
       "    <tr>\n",
       "      <th>4</th>\n",
       "      <td>335</td>\n",
       "      <td>[984, 971, 971, 966, 962, 962, 962, 962, 962, ...</td>\n",
       "      <td>[957, 957, 956, 951, 951, 947, 925, 925, 925, ...</td>\n",
       "      <td>[1017, 986, 986, 986, 986, 986, 986, 986, 986,...</td>\n",
       "    </tr>\n",
       "    <tr>\n",
       "      <th>5</th>\n",
       "      <td>363</td>\n",
       "      <td>[877, 867, 860, 858, 858, 858, 858, 858, 853, ...</td>\n",
       "      <td>[812, 812, 812, 812, 809, 809, 809, 809, 809, ...</td>\n",
       "      <td>[835, 826, 819, 806, 795, 795, 795, 795, 795, ...</td>\n",
       "    </tr>\n",
       "    <tr>\n",
       "      <th>6</th>\n",
       "      <td>396</td>\n",
       "      <td>[1041, 1041, 1041, 1041, 1038, 1038, 1038, 103...</td>\n",
       "      <td>[1052, 1049, 1047, 1047, 1039, 1039, 1035, 103...</td>\n",
       "      <td>[1065, 1063, 1063, 1051, 1051, 1048, 1048, 104...</td>\n",
       "    </tr>\n",
       "    <tr>\n",
       "      <th>7</th>\n",
       "      <td>419</td>\n",
       "      <td>[1052, 1052, 1052, 1052, 1052, 1052, 1052, 105...</td>\n",
       "      <td>[1007, 1007, 1007, 1007, 998, 998, 998, 998, 9...</td>\n",
       "      <td>[1126, 1125, 1125, 1125, 1124, 1124, 1124, 112...</td>\n",
       "    </tr>\n",
       "  </tbody>\n",
       "</table>\n",
       "</div>"
      ],
      "text/plain": [
       "   instance_id                                    hc1_convergence  \\\n",
       "0            0  [54, 54, 54, 54, 54, 54, 54, 54, 54, 54, 54, 5...   \n",
       "1           37  [247, 247, 247, 247, 247, 245, 245, 245, 245, ...   \n",
       "2           62  [377, 373, 365, 365, 346, 318, 318, 318, 318, ...   \n",
       "3          293  [833, 833, 833, 833, 833, 833, 823, 823, 823, ...   \n",
       "4          335  [984, 971, 971, 966, 962, 962, 962, 962, 962, ...   \n",
       "5          363  [877, 867, 860, 858, 858, 858, 858, 858, 853, ...   \n",
       "6          396  [1041, 1041, 1041, 1041, 1038, 1038, 1038, 103...   \n",
       "7          419  [1052, 1052, 1052, 1052, 1052, 1052, 1052, 105...   \n",
       "\n",
       "                                     hc2_convergence  \\\n",
       "0  [76, 76, 76, 76, 76, 76, 75, 73, 59, 59, 59, 5...   \n",
       "1  [248, 248, 233, 233, 233, 233, 233, 233, 233, ...   \n",
       "2  [373, 373, 373, 368, 365, 357, 357, 352, 352, ...   \n",
       "3  [849, 849, 849, 842, 839, 839, 822, 822, 822, ...   \n",
       "4  [957, 957, 956, 951, 951, 947, 925, 925, 925, ...   \n",
       "5  [812, 812, 812, 812, 809, 809, 809, 809, 809, ...   \n",
       "6  [1052, 1049, 1047, 1047, 1039, 1039, 1035, 103...   \n",
       "7  [1007, 1007, 1007, 1007, 998, 998, 998, 998, 9...   \n",
       "\n",
       "                                     hc3_convergence  \n",
       "0  [68, 67, 67, 67, 67, 66, 66, 61, 55, 55, 55, 5...  \n",
       "1  [244, 244, 244, 244, 244, 244, 244, 233, 233, ...  \n",
       "2  [341, 338, 338, 338, 338, 322, 322, 320, 320, ...  \n",
       "3  [924, 918, 910, 910, 910, 910, 910, 910, 910, ...  \n",
       "4  [1017, 986, 986, 986, 986, 986, 986, 986, 986,...  \n",
       "5  [835, 826, 819, 806, 795, 795, 795, 795, 795, ...  \n",
       "6  [1065, 1063, 1063, 1051, 1051, 1048, 1048, 104...  \n",
       "7  [1126, 1125, 1125, 1125, 1124, 1124, 1124, 112...  "
      ]
     },
     "execution_count": 19,
     "metadata": {},
     "output_type": "execute_result"
    }
   ],
   "source": [
    "hc_convergence_df"
   ]
  },
  {
   "cell_type": "code",
   "execution_count": 20,
   "id": "8e0b9380",
   "metadata": {},
   "outputs": [],
   "source": [
    "hc_convergence_df.to_csv('hc_runs_combined3_conv_only_greedy.csv', index=False)"
   ]
  },
  {
   "cell_type": "markdown",
   "id": "e830181f",
   "metadata": {},
   "source": [
    "## HC Results combined"
   ]
  },
  {
   "cell_type": "code",
   "execution_count": 13,
   "id": "e03437d9",
   "metadata": {},
   "outputs": [],
   "source": [
    "num_runs = 3"
   ]
  },
  {
   "cell_type": "code",
   "execution_count": 14,
   "id": "75fc6816",
   "metadata": {},
   "outputs": [
    {
     "name": "stdout",
     "output_type": "stream",
     "text": [
      "0        0\n",
      "1        1\n",
      "2        2\n",
      "3        3\n",
      "4        4\n",
      "      ... \n",
      "415    415\n",
      "416    416\n",
      "417    417\n",
      "418    418\n",
      "419    419\n",
      "Name: instance_id, Length: 420, dtype: int64\n"
     ]
    }
   ],
   "source": [
    "hc_instance_id = hc_results1['instance_id']\n",
    "print(hc_instance_id)"
   ]
  },
  {
   "cell_type": "code",
   "execution_count": 15,
   "id": "6ae533d8",
   "metadata": {},
   "outputs": [
    {
     "name": "stdout",
     "output_type": "stream",
     "text": [
      "0       51.666667\n",
      "1       52.666667\n",
      "2       58.333333\n",
      "3       59.000000\n",
      "4       74.000000\n",
      "          ...    \n",
      "415    820.666667\n",
      "416    802.000000\n",
      "417    788.000000\n",
      "418    821.333333\n",
      "419    815.333333\n",
      "Name: best_makespan_4, Length: 420, dtype: float64\n"
     ]
    }
   ],
   "source": [
    "hc_best_makespan_4 = (hc_results1['best_makespan_4'] + hc_results2['best_makespan_4'] + \n",
    "                      hc_results3['best_makespan_4']) / num_runs\n",
    "print(hc_best_makespan_4)"
   ]
  },
  {
   "cell_type": "code",
   "execution_count": 16,
   "id": "3fc4a693",
   "metadata": {},
   "outputs": [
    {
     "name": "stdout",
     "output_type": "stream",
     "text": [
      "0       51.666667\n",
      "1       52.666667\n",
      "2       58.333333\n",
      "3       59.000000\n",
      "4       74.000000\n",
      "          ...    \n",
      "415    783.666667\n",
      "416    777.000000\n",
      "417    764.333333\n",
      "418    777.333333\n",
      "419    781.000000\n",
      "Name: best_makespan_5, Length: 420, dtype: float64\n"
     ]
    }
   ],
   "source": [
    "hc_best_makespan_5 = (hc_results1['best_makespan_5'] + hc_results2['best_makespan_5'] + \n",
    "                      hc_results3['best_makespan_5']) / num_runs\n",
    "print(hc_best_makespan_5)"
   ]
  },
  {
   "cell_type": "code",
   "execution_count": 17,
   "id": "377fd9d5",
   "metadata": {},
   "outputs": [
    {
     "name": "stdout",
     "output_type": "stream",
     "text": [
      "0       51.666667\n",
      "1       52.666667\n",
      "2       58.333333\n",
      "3       59.000000\n",
      "4       74.000000\n",
      "          ...    \n",
      "415    776.333333\n",
      "416    762.333333\n",
      "417    763.666667\n",
      "418    766.333333\n",
      "419    768.333333\n",
      "Name: best_makespan_250, Length: 420, dtype: float64\n"
     ]
    }
   ],
   "source": [
    "hc_best_makespan_250 = (hc_results1['best_makespan_250'] + hc_results2['best_makespan_250'] + \n",
    "                      hc_results3['best_makespan_250']) / num_runs\n",
    "print(hc_best_makespan_250)"
   ]
  },
  {
   "cell_type": "code",
   "execution_count": 18,
   "id": "cf47fe60",
   "metadata": {},
   "outputs": [
    {
     "name": "stdout",
     "output_type": "stream",
     "text": [
      "0       51.666667\n",
      "1       52.666667\n",
      "2       58.333333\n",
      "3       59.000000\n",
      "4       74.000000\n",
      "          ...    \n",
      "415    773.666667\n",
      "416    750.000000\n",
      "417    759.666667\n",
      "418    764.666667\n",
      "419    761.333333\n",
      "Name: best_makespan_500, Length: 420, dtype: float64\n"
     ]
    }
   ],
   "source": [
    "hc_best_makespan_500 = (hc_results1['best_makespan_500'] + hc_results2['best_makespan_500'] + \n",
    "                      hc_results3['best_makespan_500']) / num_runs\n",
    "print(hc_best_makespan_500)"
   ]
  },
  {
   "cell_type": "code",
   "execution_count": 19,
   "id": "36992482",
   "metadata": {},
   "outputs": [
    {
     "name": "stdout",
     "output_type": "stream",
     "text": [
      "0       51.666667\n",
      "1       52.666667\n",
      "2       58.333333\n",
      "3       59.000000\n",
      "4       74.000000\n",
      "          ...    \n",
      "415    773.666667\n",
      "416    748.666667\n",
      "417    758.333333\n",
      "418    763.333333\n",
      "419    761.333333\n",
      "Name: best_makespan_750, Length: 420, dtype: float64\n"
     ]
    }
   ],
   "source": [
    "hc_best_makespan_750 = (hc_results1['best_makespan_750'] + hc_results2['best_makespan_750'] + \n",
    "                      hc_results3['best_makespan_750']) / num_runs\n",
    "print(hc_best_makespan_750)"
   ]
  },
  {
   "cell_type": "code",
   "execution_count": 20,
   "id": "6ab8fac4",
   "metadata": {
    "scrolled": true
   },
   "outputs": [
    {
     "name": "stdout",
     "output_type": "stream",
     "text": [
      "0       51.666667\n",
      "1       52.666667\n",
      "2       58.333333\n",
      "3       59.000000\n",
      "4       74.000000\n",
      "          ...    \n",
      "415    771.666667\n",
      "416    748.666667\n",
      "417    757.333333\n",
      "418    760.333333\n",
      "419    759.333333\n",
      "Name: best_makespan, Length: 420, dtype: float64\n"
     ]
    }
   ],
   "source": [
    "hc_best_makespan_6 = (hc_results1['best_makespan'] + hc_results2['best_makespan'] + \n",
    "                      hc_results3['best_makespan']) / num_runs\n",
    "print(hc_best_makespan_6)"
   ]
  },
  {
   "cell_type": "code",
   "execution_count": 21,
   "id": "054c5a1f",
   "metadata": {},
   "outputs": [
    {
     "name": "stdout",
     "output_type": "stream",
     "text": [
      "0        66.000000\n",
      "1        67.666667\n",
      "2        87.333333\n",
      "3        89.333333\n",
      "4        94.333333\n",
      "          ...     \n",
      "415    1132.666667\n",
      "416    1068.666667\n",
      "417    1114.000000\n",
      "418    1163.000000\n",
      "419    1061.666667\n",
      "Length: 420, dtype: float64\n"
     ]
    }
   ],
   "source": [
    "hc_random_initial_makespan1 = pd.Series([i[0] for i in hc_results1['convergence']])\n",
    "hc_random_initial_makespan2 = pd.Series([i[0] for i in hc_results2['convergence']])\n",
    "hc_random_initial_makespan3 = pd.Series([i[0] for i in hc_results3['convergence']])\n",
    "\n",
    "hc_random_initial_makespan = (hc_random_initial_makespan1 + hc_random_initial_makespan2 + hc_random_initial_makespan3) / num_runs\n",
    "print(hc_random_initial_makespan)"
   ]
  },
  {
   "cell_type": "code",
   "execution_count": 22,
   "id": "b2ae4c40",
   "metadata": {},
   "outputs": [
    {
     "data": {
      "text/html": [
       "<div>\n",
       "<style scoped>\n",
       "    .dataframe tbody tr th:only-of-type {\n",
       "        vertical-align: middle;\n",
       "    }\n",
       "\n",
       "    .dataframe tbody tr th {\n",
       "        vertical-align: top;\n",
       "    }\n",
       "\n",
       "    .dataframe thead th {\n",
       "        text-align: right;\n",
       "    }\n",
       "</style>\n",
       "<table border=\"1\" class=\"dataframe\">\n",
       "  <thead>\n",
       "    <tr style=\"text-align: right;\">\n",
       "      <th></th>\n",
       "      <th>instance_id</th>\n",
       "      <th>random_initial_makespan</th>\n",
       "      <th>best_makespan_4</th>\n",
       "      <th>best_makespan_5</th>\n",
       "      <th>best_makespan_250</th>\n",
       "      <th>best_makespan_500</th>\n",
       "      <th>best_makespan_750</th>\n",
       "      <th>best_makespan_6</th>\n",
       "    </tr>\n",
       "  </thead>\n",
       "  <tbody>\n",
       "    <tr>\n",
       "      <th>0</th>\n",
       "      <td>0</td>\n",
       "      <td>66.000000</td>\n",
       "      <td>51.666667</td>\n",
       "      <td>51.666667</td>\n",
       "      <td>51.666667</td>\n",
       "      <td>51.666667</td>\n",
       "      <td>51.666667</td>\n",
       "      <td>51.666667</td>\n",
       "    </tr>\n",
       "    <tr>\n",
       "      <th>1</th>\n",
       "      <td>1</td>\n",
       "      <td>67.666667</td>\n",
       "      <td>52.666667</td>\n",
       "      <td>52.666667</td>\n",
       "      <td>52.666667</td>\n",
       "      <td>52.666667</td>\n",
       "      <td>52.666667</td>\n",
       "      <td>52.666667</td>\n",
       "    </tr>\n",
       "    <tr>\n",
       "      <th>2</th>\n",
       "      <td>2</td>\n",
       "      <td>87.333333</td>\n",
       "      <td>58.333333</td>\n",
       "      <td>58.333333</td>\n",
       "      <td>58.333333</td>\n",
       "      <td>58.333333</td>\n",
       "      <td>58.333333</td>\n",
       "      <td>58.333333</td>\n",
       "    </tr>\n",
       "    <tr>\n",
       "      <th>3</th>\n",
       "      <td>3</td>\n",
       "      <td>89.333333</td>\n",
       "      <td>59.000000</td>\n",
       "      <td>59.000000</td>\n",
       "      <td>59.000000</td>\n",
       "      <td>59.000000</td>\n",
       "      <td>59.000000</td>\n",
       "      <td>59.000000</td>\n",
       "    </tr>\n",
       "    <tr>\n",
       "      <th>4</th>\n",
       "      <td>4</td>\n",
       "      <td>94.333333</td>\n",
       "      <td>74.000000</td>\n",
       "      <td>74.000000</td>\n",
       "      <td>74.000000</td>\n",
       "      <td>74.000000</td>\n",
       "      <td>74.000000</td>\n",
       "      <td>74.000000</td>\n",
       "    </tr>\n",
       "  </tbody>\n",
       "</table>\n",
       "</div>"
      ],
      "text/plain": [
       "   instance_id  random_initial_makespan  best_makespan_4  best_makespan_5  \\\n",
       "0            0                66.000000        51.666667        51.666667   \n",
       "1            1                67.666667        52.666667        52.666667   \n",
       "2            2                87.333333        58.333333        58.333333   \n",
       "3            3                89.333333        59.000000        59.000000   \n",
       "4            4                94.333333        74.000000        74.000000   \n",
       "\n",
       "   best_makespan_250  best_makespan_500  best_makespan_750  best_makespan_6  \n",
       "0          51.666667          51.666667          51.666667        51.666667  \n",
       "1          52.666667          52.666667          52.666667        52.666667  \n",
       "2          58.333333          58.333333          58.333333        58.333333  \n",
       "3          59.000000          59.000000          59.000000        59.000000  \n",
       "4          74.000000          74.000000          74.000000        74.000000  "
      ]
     },
     "execution_count": 22,
     "metadata": {},
     "output_type": "execute_result"
    }
   ],
   "source": [
    "hc_runs_combined = pd.DataFrame({'instance_id': hc_instance_id, \n",
    "                                 'random_initial_makespan': hc_random_initial_makespan, \n",
    "                                 'best_makespan_4': hc_best_makespan_4,\n",
    "                                 'best_makespan_5': hc_best_makespan_5,\n",
    "                                 'best_makespan_250': hc_best_makespan_250,\n",
    "                                 'best_makespan_500': hc_best_makespan_500,\n",
    "                                 'best_makespan_750': hc_best_makespan_750,\n",
    "                                 'best_makespan_6': hc_best_makespan_6, })\n",
    "hc_runs_combined.head()"
   ]
  },
  {
   "cell_type": "code",
   "execution_count": 23,
   "id": "cc3a0de6",
   "metadata": {},
   "outputs": [],
   "source": [
    "hc_runs_combined.to_csv('hc_runs_combined3_incl_conv_greedy.csv', index=False)"
   ]
  }
 ],
 "metadata": {
  "kernelspec": {
   "display_name": "Python 3 (ipykernel)",
   "language": "python",
   "name": "python3"
  },
  "language_info": {
   "codemirror_mode": {
    "name": "ipython",
    "version": 3
   },
   "file_extension": ".py",
   "mimetype": "text/x-python",
   "name": "python",
   "nbconvert_exporter": "python",
   "pygments_lexer": "ipython3",
   "version": "3.9.12"
  }
 },
 "nbformat": 4,
 "nbformat_minor": 5
}

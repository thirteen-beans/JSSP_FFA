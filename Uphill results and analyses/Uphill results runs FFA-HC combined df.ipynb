{
 "cells": [
  {
   "cell_type": "code",
   "execution_count": 1,
   "id": "ecac1885",
   "metadata": {},
   "outputs": [],
   "source": [
    "import pandas as pd\n",
    "import ast\n",
    "import numpy as np\n",
    "import matplotlib.pyplot as plt\n",
    "import json\n",
    "import seaborn as sns"
   ]
  },
  {
   "cell_type": "markdown",
   "id": "a5a46604",
   "metadata": {},
   "source": [
    "# Import and combine data"
   ]
  },
  {
   "cell_type": "markdown",
   "id": "949abeaf",
   "metadata": {},
   "source": [
    "## FFA HillClimber run 1"
   ]
  },
  {
   "cell_type": "code",
   "execution_count": 2,
   "id": "701f7eb4",
   "metadata": {
    "scrolled": true
   },
   "outputs": [
    {
     "data": {
      "text/html": [
       "<div>\n",
       "<style scoped>\n",
       "    .dataframe tbody tr th:only-of-type {\n",
       "        vertical-align: middle;\n",
       "    }\n",
       "\n",
       "    .dataframe tbody tr th {\n",
       "        vertical-align: top;\n",
       "    }\n",
       "\n",
       "    .dataframe thead th {\n",
       "        text-align: right;\n",
       "    }\n",
       "</style>\n",
       "<table border=\"1\" class=\"dataframe\">\n",
       "  <thead>\n",
       "    <tr style=\"text-align: right;\">\n",
       "      <th></th>\n",
       "      <th>instance_id</th>\n",
       "      <th>least_frequent_solution</th>\n",
       "      <th>least_frequent_makespan</th>\n",
       "      <th>best_solution</th>\n",
       "      <th>best_makespan</th>\n",
       "      <th>convergence</th>\n",
       "      <th>search_progression</th>\n",
       "    </tr>\n",
       "  </thead>\n",
       "  <tbody>\n",
       "    <tr>\n",
       "      <th>0</th>\n",
       "      <td>0</td>\n",
       "      <td>[4, 0, 0, 2, 1, 3, 4, 4, 4, 1, 3, 0, 3, 1, 2, ...</td>\n",
       "      <td>109</td>\n",
       "      <td>[1, 2, 1, 1, 4, 2, 3, 0, 4, 0, 4, 2, 4, 3, 0, ...</td>\n",
       "      <td>48</td>\n",
       "      <td>[64, 64, 62, 62, 62, 62, 62, 62, 62, 62, 55, 5...</td>\n",
       "      <td>[64, 64, 62, 62, 62, 68, 69, 69, 69, 81, 55, 5...</td>\n",
       "    </tr>\n",
       "    <tr>\n",
       "      <th>1</th>\n",
       "      <td>1</td>\n",
       "      <td>[1, 2, 4, 0, 0, 0, 1, 0, 4, 3, 1, 3, 0, 1, 0, ...</td>\n",
       "      <td>100</td>\n",
       "      <td>[1, 2, 2, 0, 1, 4, 3, 3, 4, 2, 2, 4, 0, 3, 2, ...</td>\n",
       "      <td>48</td>\n",
       "      <td>[64, 64, 64, 64, 64, 64, 64, 63, 63, 63, 57, 5...</td>\n",
       "      <td>[64, 64, 77, 77, 77, 77, 71, 63, 63, 63, 57, 5...</td>\n",
       "    </tr>\n",
       "    <tr>\n",
       "      <th>2</th>\n",
       "      <td>2</td>\n",
       "      <td>[1, 4, 4, 1, 3, 2, 4, 0, 1, 3, 0, 2, 2, 0, 1, ...</td>\n",
       "      <td>92</td>\n",
       "      <td>[0, 2, 4, 3, 1, 1, 2, 3, 0, 0, 4, 3, 0, 2, 1, ...</td>\n",
       "      <td>52</td>\n",
       "      <td>[80, 80, 80, 80, 80, 76, 76, 68, 68, 68, 60, 6...</td>\n",
       "      <td>[80, 80, 80, 80, 84, 76, 76, 68, 68, 68, 60, 6...</td>\n",
       "    </tr>\n",
       "    <tr>\n",
       "      <th>3</th>\n",
       "      <td>3</td>\n",
       "      <td>[0, 0, 3, 3, 4, 4, 4, 4, 4, 0, 4, 2, 2, 2, 2, ...</td>\n",
       "      <td>184</td>\n",
       "      <td>[4, 3, 2, 1, 3, 2, 3, 4, 2, 2, 1, 3, 1, 2, 3, ...</td>\n",
       "      <td>54</td>\n",
       "      <td>[65, 65, 65, 65, 65, 65, 65, 65, 65, 65, 65, 6...</td>\n",
       "      <td>[65, 71, 71, 71, 75, 90, 90, 90, 90, 88, 78, 7...</td>\n",
       "    </tr>\n",
       "    <tr>\n",
       "      <th>4</th>\n",
       "      <td>4</td>\n",
       "      <td>[4, 3, 3, 1, 4, 1, 0, 0, 0, 0, 3, 2, 3, 0, 0, ...</td>\n",
       "      <td>207</td>\n",
       "      <td>[0, 1, 0, 2, 1, 2, 2, 1, 0, 1, 3, 4, 0, 1, 3, ...</td>\n",
       "      <td>61</td>\n",
       "      <td>[82, 82, 82, 82, 82, 82, 82, 82, 82, 82, 71, 7...</td>\n",
       "      <td>[82, 82, 99, 96, 96, 96, 106, 106, 97, 91, 71,...</td>\n",
       "    </tr>\n",
       "  </tbody>\n",
       "</table>\n",
       "</div>"
      ],
      "text/plain": [
       "   instance_id                            least_frequent_solution  \\\n",
       "0            0  [4, 0, 0, 2, 1, 3, 4, 4, 4, 1, 3, 0, 3, 1, 2, ...   \n",
       "1            1  [1, 2, 4, 0, 0, 0, 1, 0, 4, 3, 1, 3, 0, 1, 0, ...   \n",
       "2            2  [1, 4, 4, 1, 3, 2, 4, 0, 1, 3, 0, 2, 2, 0, 1, ...   \n",
       "3            3  [0, 0, 3, 3, 4, 4, 4, 4, 4, 0, 4, 2, 2, 2, 2, ...   \n",
       "4            4  [4, 3, 3, 1, 4, 1, 0, 0, 0, 0, 3, 2, 3, 0, 0, ...   \n",
       "\n",
       "   least_frequent_makespan                                      best_solution  \\\n",
       "0                      109  [1, 2, 1, 1, 4, 2, 3, 0, 4, 0, 4, 2, 4, 3, 0, ...   \n",
       "1                      100  [1, 2, 2, 0, 1, 4, 3, 3, 4, 2, 2, 4, 0, 3, 2, ...   \n",
       "2                       92  [0, 2, 4, 3, 1, 1, 2, 3, 0, 0, 4, 3, 0, 2, 1, ...   \n",
       "3                      184  [4, 3, 2, 1, 3, 2, 3, 4, 2, 2, 1, 3, 1, 2, 3, ...   \n",
       "4                      207  [0, 1, 0, 2, 1, 2, 2, 1, 0, 1, 3, 4, 0, 1, 3, ...   \n",
       "\n",
       "   best_makespan                                        convergence  \\\n",
       "0             48  [64, 64, 62, 62, 62, 62, 62, 62, 62, 62, 55, 5...   \n",
       "1             48  [64, 64, 64, 64, 64, 64, 64, 63, 63, 63, 57, 5...   \n",
       "2             52  [80, 80, 80, 80, 80, 76, 76, 68, 68, 68, 60, 6...   \n",
       "3             54  [65, 65, 65, 65, 65, 65, 65, 65, 65, 65, 65, 6...   \n",
       "4             61  [82, 82, 82, 82, 82, 82, 82, 82, 82, 82, 71, 7...   \n",
       "\n",
       "                                  search_progression  \n",
       "0  [64, 64, 62, 62, 62, 68, 69, 69, 69, 81, 55, 5...  \n",
       "1  [64, 64, 77, 77, 77, 77, 71, 63, 63, 63, 57, 5...  \n",
       "2  [80, 80, 80, 80, 84, 76, 76, 68, 68, 68, 60, 6...  \n",
       "3  [65, 71, 71, 71, 75, 90, 90, 90, 90, 88, 78, 7...  \n",
       "4  [82, 82, 99, 96, 96, 96, 106, 106, 97, 91, 71,...  "
      ]
     },
     "execution_count": 2,
     "metadata": {},
     "output_type": "execute_result"
    }
   ],
   "source": [
    "ffahc_results1 = pd.read_csv('ffahc_1000000_evals_greedy1.csv', sep=';', index_col=False)\n",
    "ffahc_results1.head()"
   ]
  },
  {
   "cell_type": "markdown",
   "id": "0014779a",
   "metadata": {},
   "source": [
    "### Strings to lists"
   ]
  },
  {
   "cell_type": "code",
   "execution_count": 3,
   "id": "ea8cb1d2",
   "metadata": {},
   "outputs": [],
   "source": [
    "def custom_literal_eval(x):\n",
    "    try:\n",
    "        return json.loads(x)\n",
    "    except (json.JSONDecodeError, TypeError):\n",
    "        return x "
   ]
  },
  {
   "cell_type": "code",
   "execution_count": 4,
   "id": "b2574203",
   "metadata": {},
   "outputs": [],
   "source": [
    "ffahc_results1['best_solution'] = ffahc_results1['best_solution'].apply(custom_literal_eval)\n",
    "ffahc_results1['convergence'] = ffahc_results1['convergence'].apply(custom_literal_eval)"
   ]
  },
  {
   "cell_type": "code",
   "execution_count": 5,
   "id": "83b5af62",
   "metadata": {},
   "outputs": [],
   "source": [
    "ffahc_results1['best_makespan_4'] = ffahc_results1['convergence'].apply(lambda x: x[9999])\n",
    "ffahc_results1['best_makespan_5'] = ffahc_results1['convergence'].apply(lambda x: x[99999])\n",
    "ffahc_results1['best_makespan_250'] = ffahc_results1['convergence'].apply(lambda x: x[249999])\n",
    "ffahc_results1['best_makespan_500'] = ffahc_results1['convergence'].apply(lambda x: x[499999])\n",
    "ffahc_results1['best_makespan_750'] = ffahc_results1['convergence'].apply(lambda x: x[749999])"
   ]
  },
  {
   "cell_type": "markdown",
   "id": "3c23469b",
   "metadata": {},
   "source": [
    "## FFA HillClimber run 2"
   ]
  },
  {
   "cell_type": "code",
   "execution_count": 6,
   "id": "1191f6bd",
   "metadata": {},
   "outputs": [
    {
     "data": {
      "text/html": [
       "<div>\n",
       "<style scoped>\n",
       "    .dataframe tbody tr th:only-of-type {\n",
       "        vertical-align: middle;\n",
       "    }\n",
       "\n",
       "    .dataframe tbody tr th {\n",
       "        vertical-align: top;\n",
       "    }\n",
       "\n",
       "    .dataframe thead th {\n",
       "        text-align: right;\n",
       "    }\n",
       "</style>\n",
       "<table border=\"1\" class=\"dataframe\">\n",
       "  <thead>\n",
       "    <tr style=\"text-align: right;\">\n",
       "      <th></th>\n",
       "      <th>instance_id</th>\n",
       "      <th>least_frequent_solution</th>\n",
       "      <th>least_frequent_makespan</th>\n",
       "      <th>best_solution</th>\n",
       "      <th>best_makespan</th>\n",
       "      <th>convergence</th>\n",
       "      <th>search_progression</th>\n",
       "    </tr>\n",
       "  </thead>\n",
       "  <tbody>\n",
       "    <tr>\n",
       "      <th>0</th>\n",
       "      <td>0</td>\n",
       "      <td>[0, 4, 0, 4, 4, 3, 3, 1, 1, 1, 0, 0, 2, 2, 3, ...</td>\n",
       "      <td>95</td>\n",
       "      <td>[2, 1, 1, 4, 1, 0, 3, 2, 3, 4, 2, 1, 3, 2, 0, ...</td>\n",
       "      <td>48</td>\n",
       "      <td>[61, 61, 61, 60, 60, 60, 55, 55, 55, 55, 55, 5...</td>\n",
       "      <td>[61, 61, 61, 60, 71, 71, 55, 59, 69, 76, 76, 7...</td>\n",
       "    </tr>\n",
       "    <tr>\n",
       "      <th>1</th>\n",
       "      <td>1</td>\n",
       "      <td>[0, 1, 1, 1, 1, 3, 3, 3, 3, 2, 0, 0, 0, 0, 4, ...</td>\n",
       "      <td>156</td>\n",
       "      <td>[1, 3, 2, 1, 2, 4, 0, 3, 4, 2, 1, 0, 3, 2, 3, ...</td>\n",
       "      <td>48</td>\n",
       "      <td>[73, 73, 65, 63, 63, 63, 63, 63, 63, 63, 63, 6...</td>\n",
       "      <td>[73, 73, 65, 63, 63, 64, 64, 74, 76, 76, 76, 7...</td>\n",
       "    </tr>\n",
       "    <tr>\n",
       "      <th>2</th>\n",
       "      <td>2</td>\n",
       "      <td>[1, 1, 4, 2, 0, 4, 4, 4, 1, 4, 4, 2, 2, 4, 2, ...</td>\n",
       "      <td>150</td>\n",
       "      <td>[2, 1, 0, 3, 4, 1, 4, 3, 0, 1, 3, 0, 0, 2, 4, ...</td>\n",
       "      <td>52</td>\n",
       "      <td>[58, 58, 58, 58, 58, 58, 58, 58, 58, 58, 58, 5...</td>\n",
       "      <td>[58, 73, 73, 73, 74, 68, 72, 72, 81, 99, 99, 9...</td>\n",
       "    </tr>\n",
       "    <tr>\n",
       "      <th>3</th>\n",
       "      <td>3</td>\n",
       "      <td>[1, 2, 0, 0, 2, 3, 3, 4, 4, 4, 0, 4, 3, 3, 1, ...</td>\n",
       "      <td>185</td>\n",
       "      <td>[2, 4, 4, 1, 2, 3, 3, 4, 2, 2, 0, 1, 2, 1, 1, ...</td>\n",
       "      <td>54</td>\n",
       "      <td>[68, 68, 68, 68, 68, 68, 68, 68, 68, 66, 66, 6...</td>\n",
       "      <td>[68, 75, 75, 75, 85, 85, 85, 85, 93, 66, 66, 6...</td>\n",
       "    </tr>\n",
       "    <tr>\n",
       "      <th>4</th>\n",
       "      <td>4</td>\n",
       "      <td>[3, 0, 3, 4, 1, 3, 4, 2, 1, 1, 3, 2, 0, 4, 4, ...</td>\n",
       "      <td>161</td>\n",
       "      <td>[1, 0, 3, 2, 1, 0, 3, 2, 3, 0, 1, 4, 2, 1, 2, ...</td>\n",
       "      <td>61</td>\n",
       "      <td>[110, 104, 104, 93, 93, 91, 91, 91, 91, 91, 91...</td>\n",
       "      <td>[110, 104, 107, 93, 93, 91, 91, 103, 103, 103,...</td>\n",
       "    </tr>\n",
       "  </tbody>\n",
       "</table>\n",
       "</div>"
      ],
      "text/plain": [
       "   instance_id                            least_frequent_solution  \\\n",
       "0            0  [0, 4, 0, 4, 4, 3, 3, 1, 1, 1, 0, 0, 2, 2, 3, ...   \n",
       "1            1  [0, 1, 1, 1, 1, 3, 3, 3, 3, 2, 0, 0, 0, 0, 4, ...   \n",
       "2            2  [1, 1, 4, 2, 0, 4, 4, 4, 1, 4, 4, 2, 2, 4, 2, ...   \n",
       "3            3  [1, 2, 0, 0, 2, 3, 3, 4, 4, 4, 0, 4, 3, 3, 1, ...   \n",
       "4            4  [3, 0, 3, 4, 1, 3, 4, 2, 1, 1, 3, 2, 0, 4, 4, ...   \n",
       "\n",
       "   least_frequent_makespan                                      best_solution  \\\n",
       "0                       95  [2, 1, 1, 4, 1, 0, 3, 2, 3, 4, 2, 1, 3, 2, 0, ...   \n",
       "1                      156  [1, 3, 2, 1, 2, 4, 0, 3, 4, 2, 1, 0, 3, 2, 3, ...   \n",
       "2                      150  [2, 1, 0, 3, 4, 1, 4, 3, 0, 1, 3, 0, 0, 2, 4, ...   \n",
       "3                      185  [2, 4, 4, 1, 2, 3, 3, 4, 2, 2, 0, 1, 2, 1, 1, ...   \n",
       "4                      161  [1, 0, 3, 2, 1, 0, 3, 2, 3, 0, 1, 4, 2, 1, 2, ...   \n",
       "\n",
       "   best_makespan                                        convergence  \\\n",
       "0             48  [61, 61, 61, 60, 60, 60, 55, 55, 55, 55, 55, 5...   \n",
       "1             48  [73, 73, 65, 63, 63, 63, 63, 63, 63, 63, 63, 6...   \n",
       "2             52  [58, 58, 58, 58, 58, 58, 58, 58, 58, 58, 58, 5...   \n",
       "3             54  [68, 68, 68, 68, 68, 68, 68, 68, 68, 66, 66, 6...   \n",
       "4             61  [110, 104, 104, 93, 93, 91, 91, 91, 91, 91, 91...   \n",
       "\n",
       "                                  search_progression  \n",
       "0  [61, 61, 61, 60, 71, 71, 55, 59, 69, 76, 76, 7...  \n",
       "1  [73, 73, 65, 63, 63, 64, 64, 74, 76, 76, 76, 7...  \n",
       "2  [58, 73, 73, 73, 74, 68, 72, 72, 81, 99, 99, 9...  \n",
       "3  [68, 75, 75, 75, 85, 85, 85, 85, 93, 66, 66, 6...  \n",
       "4  [110, 104, 107, 93, 93, 91, 91, 103, 103, 103,...  "
      ]
     },
     "execution_count": 6,
     "metadata": {},
     "output_type": "execute_result"
    }
   ],
   "source": [
    "ffahc_results2 = pd.read_csv('ffahc_1000000_evals_greedy2.csv', sep=';', index_col=False)\n",
    "ffahc_results2.head()"
   ]
  },
  {
   "cell_type": "code",
   "execution_count": 7,
   "id": "61b06a18",
   "metadata": {},
   "outputs": [],
   "source": [
    "ffahc_results2['best_solution'] = ffahc_results2['best_solution'].apply(custom_literal_eval)\n",
    "ffahc_results2['convergence'] = ffahc_results2['convergence'].apply(custom_literal_eval)"
   ]
  },
  {
   "cell_type": "code",
   "execution_count": 8,
   "id": "be02fe98",
   "metadata": {},
   "outputs": [],
   "source": [
    "ffahc_results2['best_makespan_4'] = ffahc_results2['convergence'].apply(lambda x: x[9999])\n",
    "ffahc_results2['best_makespan_5'] = ffahc_results2['convergence'].apply(lambda x: x[99999])\n",
    "ffahc_results2['best_makespan_250'] = ffahc_results2['convergence'].apply(lambda x: x[249999])\n",
    "ffahc_results2['best_makespan_500'] = ffahc_results2['convergence'].apply(lambda x: x[499999])\n",
    "ffahc_results2['best_makespan_750'] = ffahc_results2['convergence'].apply(lambda x: x[749999])"
   ]
  },
  {
   "cell_type": "markdown",
   "id": "14229693",
   "metadata": {},
   "source": [
    "## FFA HillClimber run 3"
   ]
  },
  {
   "cell_type": "code",
   "execution_count": 9,
   "id": "ca156a41",
   "metadata": {},
   "outputs": [
    {
     "data": {
      "text/html": [
       "<div>\n",
       "<style scoped>\n",
       "    .dataframe tbody tr th:only-of-type {\n",
       "        vertical-align: middle;\n",
       "    }\n",
       "\n",
       "    .dataframe tbody tr th {\n",
       "        vertical-align: top;\n",
       "    }\n",
       "\n",
       "    .dataframe thead th {\n",
       "        text-align: right;\n",
       "    }\n",
       "</style>\n",
       "<table border=\"1\" class=\"dataframe\">\n",
       "  <thead>\n",
       "    <tr style=\"text-align: right;\">\n",
       "      <th></th>\n",
       "      <th>instance_id</th>\n",
       "      <th>least_frequent_solution</th>\n",
       "      <th>least_frequent_makespan</th>\n",
       "      <th>best_solution</th>\n",
       "      <th>best_makespan</th>\n",
       "      <th>convergence</th>\n",
       "      <th>search_progression</th>\n",
       "    </tr>\n",
       "  </thead>\n",
       "  <tbody>\n",
       "    <tr>\n",
       "      <th>0</th>\n",
       "      <td>0</td>\n",
       "      <td>[1, 3, 4, 3, 4, 0, 4, 1, 3, 2, 1, 3, 2, 3, 1, ...</td>\n",
       "      <td>61</td>\n",
       "      <td>[2, 4, 1, 3, 1, 1, 3, 2, 3, 1, 4, 2, 4, 0, 0, ...</td>\n",
       "      <td>48</td>\n",
       "      <td>[66, 60, 60, 60, 60, 60, 60, 60, 60, 60, 60, 6...</td>\n",
       "      <td>[66, 60, 60, 60, 67, 67, 67, 69, 69, 69, 77, 7...</td>\n",
       "    </tr>\n",
       "    <tr>\n",
       "      <th>1</th>\n",
       "      <td>1</td>\n",
       "      <td>[3, 2, 2, 2, 3, 1, 0, 0, 1, 4, 1, 0, 4, 4, 1, ...</td>\n",
       "      <td>57</td>\n",
       "      <td>[1, 3, 1, 4, 2, 3, 2, 4, 2, 4, 1, 1, 0, 4, 1, ...</td>\n",
       "      <td>48</td>\n",
       "      <td>[82, 82, 82, 82, 71, 71, 71, 64, 64, 64, 64, 6...</td>\n",
       "      <td>[82, 84, 88, 90, 71, 80, 80, 64, 67, 67, 67, 6...</td>\n",
       "    </tr>\n",
       "    <tr>\n",
       "      <th>2</th>\n",
       "      <td>2</td>\n",
       "      <td>[4, 2, 3, 4, 3, 3, 1, 4, 0, 2, 4, 1, 0, 4, 1, ...</td>\n",
       "      <td>82</td>\n",
       "      <td>[4, 3, 1, 0, 2, 3, 2, 1, 1, 0, 0, 4, 0, 4, 3, ...</td>\n",
       "      <td>52</td>\n",
       "      <td>[91, 88, 88, 88, 76, 76, 76, 76, 76, 76, 76, 7...</td>\n",
       "      <td>[91, 88, 88, 103, 76, 96, 96, 96, 98, 98, 121,...</td>\n",
       "    </tr>\n",
       "    <tr>\n",
       "      <th>3</th>\n",
       "      <td>3</td>\n",
       "      <td>[0, 0, 3, 0, 0, 4, 0, 1, 2, 2, 3, 2, 0, 3, 3, ...</td>\n",
       "      <td>147</td>\n",
       "      <td>[1, 3, 4, 2, 4, 0, 3, 2, 3, 2, 4, 1, 2, 1, 1, ...</td>\n",
       "      <td>54</td>\n",
       "      <td>[94, 87, 87, 87, 87, 87, 87, 87, 87, 79, 79, 7...</td>\n",
       "      <td>[94, 87, 98, 98, 98, 97, 97, 97, 87, 79, 81, 8...</td>\n",
       "    </tr>\n",
       "    <tr>\n",
       "      <th>4</th>\n",
       "      <td>4</td>\n",
       "      <td>[3, 3, 4, 0, 4, 4, 1, 1, 2, 3, 1, 3, 1, 3, 2, ...</td>\n",
       "      <td>135</td>\n",
       "      <td>[1, 4, 0, 0, 2, 3, 1, 3, 2, 3, 2, 2, 3, 1, 4, ...</td>\n",
       "      <td>61</td>\n",
       "      <td>[98, 98, 98, 98, 88, 88, 88, 88, 88, 88, 88, 8...</td>\n",
       "      <td>[98, 98, 98, 98, 88, 97, 97, 102, 100, 106, 93...</td>\n",
       "    </tr>\n",
       "  </tbody>\n",
       "</table>\n",
       "</div>"
      ],
      "text/plain": [
       "   instance_id                            least_frequent_solution  \\\n",
       "0            0  [1, 3, 4, 3, 4, 0, 4, 1, 3, 2, 1, 3, 2, 3, 1, ...   \n",
       "1            1  [3, 2, 2, 2, 3, 1, 0, 0, 1, 4, 1, 0, 4, 4, 1, ...   \n",
       "2            2  [4, 2, 3, 4, 3, 3, 1, 4, 0, 2, 4, 1, 0, 4, 1, ...   \n",
       "3            3  [0, 0, 3, 0, 0, 4, 0, 1, 2, 2, 3, 2, 0, 3, 3, ...   \n",
       "4            4  [3, 3, 4, 0, 4, 4, 1, 1, 2, 3, 1, 3, 1, 3, 2, ...   \n",
       "\n",
       "   least_frequent_makespan                                      best_solution  \\\n",
       "0                       61  [2, 4, 1, 3, 1, 1, 3, 2, 3, 1, 4, 2, 4, 0, 0, ...   \n",
       "1                       57  [1, 3, 1, 4, 2, 3, 2, 4, 2, 4, 1, 1, 0, 4, 1, ...   \n",
       "2                       82  [4, 3, 1, 0, 2, 3, 2, 1, 1, 0, 0, 4, 0, 4, 3, ...   \n",
       "3                      147  [1, 3, 4, 2, 4, 0, 3, 2, 3, 2, 4, 1, 2, 1, 1, ...   \n",
       "4                      135  [1, 4, 0, 0, 2, 3, 1, 3, 2, 3, 2, 2, 3, 1, 4, ...   \n",
       "\n",
       "   best_makespan                                        convergence  \\\n",
       "0             48  [66, 60, 60, 60, 60, 60, 60, 60, 60, 60, 60, 6...   \n",
       "1             48  [82, 82, 82, 82, 71, 71, 71, 64, 64, 64, 64, 6...   \n",
       "2             52  [91, 88, 88, 88, 76, 76, 76, 76, 76, 76, 76, 7...   \n",
       "3             54  [94, 87, 87, 87, 87, 87, 87, 87, 87, 79, 79, 7...   \n",
       "4             61  [98, 98, 98, 98, 88, 88, 88, 88, 88, 88, 88, 8...   \n",
       "\n",
       "                                  search_progression  \n",
       "0  [66, 60, 60, 60, 67, 67, 67, 69, 69, 69, 77, 7...  \n",
       "1  [82, 84, 88, 90, 71, 80, 80, 64, 67, 67, 67, 6...  \n",
       "2  [91, 88, 88, 103, 76, 96, 96, 96, 98, 98, 121,...  \n",
       "3  [94, 87, 98, 98, 98, 97, 97, 97, 87, 79, 81, 8...  \n",
       "4  [98, 98, 98, 98, 88, 97, 97, 102, 100, 106, 93...  "
      ]
     },
     "execution_count": 9,
     "metadata": {},
     "output_type": "execute_result"
    }
   ],
   "source": [
    "ffahc_results3 = pd.read_csv('ffahc_1000000_evals_greedy3.csv', sep=';', index_col=False)\n",
    "ffahc_results3.head()"
   ]
  },
  {
   "cell_type": "code",
   "execution_count": 10,
   "id": "2edc223f",
   "metadata": {},
   "outputs": [],
   "source": [
    "ffahc_results3['best_solution'] = ffahc_results3['best_solution'].apply(custom_literal_eval)\n",
    "ffahc_results3['convergence'] = ffahc_results3['convergence'].apply(custom_literal_eval)"
   ]
  },
  {
   "cell_type": "code",
   "execution_count": 11,
   "id": "fb93694a",
   "metadata": {},
   "outputs": [],
   "source": [
    "ffahc_results3['best_makespan_4'] = ffahc_results3['convergence'].apply(lambda x: x[9999])\n",
    "ffahc_results3['best_makespan_5'] = ffahc_results3['convergence'].apply(lambda x: x[99999])\n",
    "ffahc_results3['best_makespan_250'] = ffahc_results3['convergence'].apply(lambda x: x[249999])\n",
    "ffahc_results3['best_makespan_500'] = ffahc_results3['convergence'].apply(lambda x: x[499999])\n",
    "ffahc_results3['best_makespan_750'] = ffahc_results3['convergence'].apply(lambda x: x[749999])"
   ]
  },
  {
   "cell_type": "markdown",
   "id": "f56dffe9",
   "metadata": {},
   "source": [
    "## Save all makespans to dataset"
   ]
  },
  {
   "cell_type": "code",
   "execution_count": 13,
   "id": "a69cce7f",
   "metadata": {},
   "outputs": [],
   "source": [
    "best1 = ffahc_results1['best_makespan']\n",
    "best2 = ffahc_results2['best_makespan']\n",
    "best3 = ffahc_results1['best_makespan']"
   ]
  },
  {
   "cell_type": "code",
   "execution_count": 14,
   "id": "9a8a845e",
   "metadata": {},
   "outputs": [],
   "source": [
    "instances = ffahc_results1['instance_id']"
   ]
  },
  {
   "cell_type": "code",
   "execution_count": 15,
   "id": "490c7cb2",
   "metadata": {},
   "outputs": [],
   "source": [
    "best_makespans_all = pd.DataFrame({'instance_id': instances,\n",
    "                                     'run1_4': ffahc_results1['best_makespan_4'],\n",
    "                                     'run2_4': ffahc_results2['best_makespan_4'],\n",
    "                                     'run3_4': ffahc_results1['best_makespan_4'],\n",
    "                                     'run1_5': ffahc_results1['best_makespan_5'],\n",
    "                                     'run2_5': ffahc_results2['best_makespan_5'],\n",
    "                                     'run3_5': ffahc_results3['best_makespan_5'],\n",
    "                                     'run1_250': ffahc_results1['best_makespan_250'],\n",
    "                                     'run2_250': ffahc_results2['best_makespan_250'],\n",
    "                                     'run3_250': ffahc_results3['best_makespan_250'],\n",
    "                                     'run1_500': ffahc_results1['best_makespan_500'],\n",
    "                                     'run2_500': ffahc_results2['best_makespan_500'],\n",
    "                                     'run3_500': ffahc_results3['best_makespan_500'],\n",
    "                                     'run1_750': ffahc_results1['best_makespan_750'],\n",
    "                                     'run2_750': ffahc_results2['best_makespan_750'],\n",
    "                                     'run3_750': ffahc_results3['best_makespan_750'],\n",
    "                                     'run1_best': best1,\n",
    "                                     'run2_best': best2,\n",
    "                                     'run3_best': best3})"
   ]
  },
  {
   "cell_type": "code",
   "execution_count": 16,
   "id": "7797cc0b",
   "metadata": {},
   "outputs": [],
   "source": [
    "best_makespans_all.to_csv('ffahc_all_runs_makespans_greedy.csv', index=False)"
   ]
  },
  {
   "cell_type": "markdown",
   "id": "a67c509b",
   "metadata": {},
   "source": [
    "## FFA HC convergence dataset"
   ]
  },
  {
   "cell_type": "code",
   "execution_count": 11,
   "id": "ff540e6c",
   "metadata": {},
   "outputs": [],
   "source": [
    "#selected ids based with largest makespan differences within the instance makespans\n",
    "instances_ids = [0, 37, 62, 293, 335, 363, 396, 419]"
   ]
  },
  {
   "cell_type": "code",
   "execution_count": 12,
   "id": "9563a518",
   "metadata": {},
   "outputs": [
    {
     "name": "stderr",
     "output_type": "stream",
     "text": [
      "IOPub data rate exceeded.\n",
      "The notebook server will temporarily stop sending output\n",
      "to the client in order to avoid crashing it.\n",
      "To change this limit, set the config variable\n",
      "`--NotebookApp.iopub_data_rate_limit`.\n",
      "\n",
      "Current values:\n",
      "NotebookApp.iopub_data_rate_limit=1000000.0 (bytes/sec)\n",
      "NotebookApp.rate_limit_window=3.0 (secs)\n",
      "\n"
     ]
    }
   ],
   "source": [
    "ffa1_convergence = []\n",
    "ffa2_convergence = []\n",
    "ffa3_convergence = []\n",
    "for i in instances_ids:\n",
    "    print(i)\n",
    "    ffa1 = ffahc_results1['convergence'][i]\n",
    "    ffa2 = ffahc_results2['convergence'][i]\n",
    "    ffa3 = ffahc_results3['convergence'][i]\n",
    "    ffa1_convergence.append(ffa1)\n",
    "    print(ffa1_convergence)\n",
    "    ffa2_convergence.append(ffa2)\n",
    "    print(ffa2_convergence)\n",
    "    ffa3_convergence.append(ffa3)\n",
    "    print(ffa3_convergence)"
   ]
  },
  {
   "cell_type": "code",
   "execution_count": 13,
   "id": "42f046e9",
   "metadata": {},
   "outputs": [],
   "source": [
    "ffahc_convergence_df = pd.DataFrame({'instance_id': instances_ids,\n",
    "                                     'ffahc1_convergence': ffa1_convergence,\n",
    "                                     'ffahc2_convergence': ffa2_convergence,\n",
    "                                     'ffahc3_convergence': ffa3_convergence})"
   ]
  },
  {
   "cell_type": "code",
   "execution_count": 14,
   "id": "1a0ff3f7",
   "metadata": {},
   "outputs": [
    {
     "data": {
      "text/html": [
       "<div>\n",
       "<style scoped>\n",
       "    .dataframe tbody tr th:only-of-type {\n",
       "        vertical-align: middle;\n",
       "    }\n",
       "\n",
       "    .dataframe tbody tr th {\n",
       "        vertical-align: top;\n",
       "    }\n",
       "\n",
       "    .dataframe thead th {\n",
       "        text-align: right;\n",
       "    }\n",
       "</style>\n",
       "<table border=\"1\" class=\"dataframe\">\n",
       "  <thead>\n",
       "    <tr style=\"text-align: right;\">\n",
       "      <th></th>\n",
       "      <th>instance_id</th>\n",
       "      <th>ffahc1_convergence</th>\n",
       "      <th>ffahc2_convergence</th>\n",
       "      <th>ffahc3_convergence</th>\n",
       "    </tr>\n",
       "  </thead>\n",
       "  <tbody>\n",
       "    <tr>\n",
       "      <th>0</th>\n",
       "      <td>0</td>\n",
       "      <td>[64, 64, 62, 62, 62, 62, 62, 62, 62, 62, 55, 5...</td>\n",
       "      <td>[61, 61, 61, 60, 60, 60, 55, 55, 55, 55, 55, 5...</td>\n",
       "      <td>[66, 60, 60, 60, 60, 60, 60, 60, 60, 60, 60, 6...</td>\n",
       "    </tr>\n",
       "    <tr>\n",
       "      <th>1</th>\n",
       "      <td>37</td>\n",
       "      <td>[289, 289, 277, 272, 272, 271, 271, 271, 271, ...</td>\n",
       "      <td>[259, 259, 259, 259, 259, 259, 259, 259, 259, ...</td>\n",
       "      <td>[259, 259, 259, 259, 259, 255, 255, 255, 255, ...</td>\n",
       "    </tr>\n",
       "    <tr>\n",
       "      <th>2</th>\n",
       "      <td>62</td>\n",
       "      <td>[411, 411, 411, 411, 398, 363, 363, 355, 355, ...</td>\n",
       "      <td>[341, 333, 333, 333, 333, 333, 333, 333, 333, ...</td>\n",
       "      <td>[345, 345, 345, 345, 345, 345, 345, 345, 345, ...</td>\n",
       "    </tr>\n",
       "    <tr>\n",
       "      <th>3</th>\n",
       "      <td>293</td>\n",
       "      <td>[805, 805, 805, 805, 805, 805, 805, 805, 805, ...</td>\n",
       "      <td>[857, 857, 857, 857, 857, 857, 857, 857, 857, ...</td>\n",
       "      <td>[858, 858, 858, 858, 858, 858, 858, 858, 858, ...</td>\n",
       "    </tr>\n",
       "    <tr>\n",
       "      <th>4</th>\n",
       "      <td>335</td>\n",
       "      <td>[953, 953, 944, 942, 942, 940, 939, 939, 939, ...</td>\n",
       "      <td>[1000, 1000, 1000, 1000, 1000, 1000, 1000, 100...</td>\n",
       "      <td>[959, 959, 950, 950, 950, 950, 950, 950, 950, ...</td>\n",
       "    </tr>\n",
       "    <tr>\n",
       "      <th>5</th>\n",
       "      <td>363</td>\n",
       "      <td>[855, 855, 846, 824, 822, 822, 822, 822, 822, ...</td>\n",
       "      <td>[765, 765, 765, 765, 765, 765, 765, 765, 765, ...</td>\n",
       "      <td>[786, 786, 786, 786, 786, 786, 786, 786, 786, ...</td>\n",
       "    </tr>\n",
       "    <tr>\n",
       "      <th>6</th>\n",
       "      <td>396</td>\n",
       "      <td>[1081, 1081, 1081, 1081, 1081, 1081, 1074, 107...</td>\n",
       "      <td>[1097, 1097, 1097, 1097, 1097, 1097, 1097, 109...</td>\n",
       "      <td>[1084, 1084, 1084, 1084, 1084, 1084, 1084, 108...</td>\n",
       "    </tr>\n",
       "    <tr>\n",
       "      <th>7</th>\n",
       "      <td>419</td>\n",
       "      <td>[1067, 1067, 1067, 1067, 1067, 1067, 1067, 106...</td>\n",
       "      <td>[1073, 1073, 1073, 1073, 1073, 1073, 1073, 107...</td>\n",
       "      <td>[1136, 1136, 1119, 1119, 1117, 1117, 1117, 111...</td>\n",
       "    </tr>\n",
       "  </tbody>\n",
       "</table>\n",
       "</div>"
      ],
      "text/plain": [
       "   instance_id                                 ffahc1_convergence  \\\n",
       "0            0  [64, 64, 62, 62, 62, 62, 62, 62, 62, 62, 55, 5...   \n",
       "1           37  [289, 289, 277, 272, 272, 271, 271, 271, 271, ...   \n",
       "2           62  [411, 411, 411, 411, 398, 363, 363, 355, 355, ...   \n",
       "3          293  [805, 805, 805, 805, 805, 805, 805, 805, 805, ...   \n",
       "4          335  [953, 953, 944, 942, 942, 940, 939, 939, 939, ...   \n",
       "5          363  [855, 855, 846, 824, 822, 822, 822, 822, 822, ...   \n",
       "6          396  [1081, 1081, 1081, 1081, 1081, 1081, 1074, 107...   \n",
       "7          419  [1067, 1067, 1067, 1067, 1067, 1067, 1067, 106...   \n",
       "\n",
       "                                  ffahc2_convergence  \\\n",
       "0  [61, 61, 61, 60, 60, 60, 55, 55, 55, 55, 55, 5...   \n",
       "1  [259, 259, 259, 259, 259, 259, 259, 259, 259, ...   \n",
       "2  [341, 333, 333, 333, 333, 333, 333, 333, 333, ...   \n",
       "3  [857, 857, 857, 857, 857, 857, 857, 857, 857, ...   \n",
       "4  [1000, 1000, 1000, 1000, 1000, 1000, 1000, 100...   \n",
       "5  [765, 765, 765, 765, 765, 765, 765, 765, 765, ...   \n",
       "6  [1097, 1097, 1097, 1097, 1097, 1097, 1097, 109...   \n",
       "7  [1073, 1073, 1073, 1073, 1073, 1073, 1073, 107...   \n",
       "\n",
       "                                  ffahc3_convergence  \n",
       "0  [66, 60, 60, 60, 60, 60, 60, 60, 60, 60, 60, 6...  \n",
       "1  [259, 259, 259, 259, 259, 255, 255, 255, 255, ...  \n",
       "2  [345, 345, 345, 345, 345, 345, 345, 345, 345, ...  \n",
       "3  [858, 858, 858, 858, 858, 858, 858, 858, 858, ...  \n",
       "4  [959, 959, 950, 950, 950, 950, 950, 950, 950, ...  \n",
       "5  [786, 786, 786, 786, 786, 786, 786, 786, 786, ...  \n",
       "6  [1084, 1084, 1084, 1084, 1084, 1084, 1084, 108...  \n",
       "7  [1136, 1136, 1119, 1119, 1117, 1117, 1117, 111...  "
      ]
     },
     "execution_count": 14,
     "metadata": {},
     "output_type": "execute_result"
    }
   ],
   "source": [
    "ffahc_convergence_df"
   ]
  },
  {
   "cell_type": "code",
   "execution_count": 15,
   "id": "5094895c",
   "metadata": {},
   "outputs": [],
   "source": [
    "ffahc_convergence_df.to_csv('ffahc_runs_combined3_conv_only_greedy.csv', index=False)"
   ]
  },
  {
   "cell_type": "markdown",
   "id": "e830181f",
   "metadata": {},
   "source": [
    "## FFA HC Results combined"
   ]
  },
  {
   "cell_type": "code",
   "execution_count": 15,
   "id": "75fc6816",
   "metadata": {
    "scrolled": false
   },
   "outputs": [
    {
     "name": "stdout",
     "output_type": "stream",
     "text": [
      "0        0\n",
      "1        1\n",
      "2        2\n",
      "3        3\n",
      "4        4\n",
      "      ... \n",
      "415    415\n",
      "416    416\n",
      "417    417\n",
      "418    418\n",
      "419    419\n",
      "Name: instance_id, Length: 420, dtype: int64\n"
     ]
    }
   ],
   "source": [
    "ffahc_instance_id = ffahc_results1['instance_id']\n",
    "print(ffahc_instance_id)"
   ]
  },
  {
   "cell_type": "code",
   "execution_count": 16,
   "id": "142ad6d9",
   "metadata": {},
   "outputs": [],
   "source": [
    "num_runs = 3"
   ]
  },
  {
   "cell_type": "code",
   "execution_count": 17,
   "id": "1c125626",
   "metadata": {},
   "outputs": [
    {
     "name": "stdout",
     "output_type": "stream",
     "text": [
      "0       48.000000\n",
      "1       48.000000\n",
      "2       52.000000\n",
      "3       56.666667\n",
      "4       61.666667\n",
      "          ...    \n",
      "415    959.666667\n",
      "416    927.333333\n",
      "417    930.666667\n",
      "418    945.666667\n",
      "419    950.333333\n",
      "Name: best_makespan_4, Length: 420, dtype: float64\n"
     ]
    }
   ],
   "source": [
    "ffahc_best_makespan_4 = (ffahc_results1['best_makespan_4'] + ffahc_results2['best_makespan_4'] + \n",
    "                      ffahc_results3['best_makespan_4']) / num_runs\n",
    "print(ffahc_best_makespan_4)"
   ]
  },
  {
   "cell_type": "code",
   "execution_count": 18,
   "id": "fa8b5bce",
   "metadata": {},
   "outputs": [
    {
     "name": "stdout",
     "output_type": "stream",
     "text": [
      "0       48.000000\n",
      "1       48.000000\n",
      "2       52.000000\n",
      "3       54.000000\n",
      "4       61.000000\n",
      "          ...    \n",
      "415    851.000000\n",
      "416    841.333333\n",
      "417    841.000000\n",
      "418    854.000000\n",
      "419    863.000000\n",
      "Name: best_makespan_5, Length: 420, dtype: float64\n"
     ]
    }
   ],
   "source": [
    "ffahc_best_makespan_5 = (ffahc_results1['best_makespan_5'] + ffahc_results2['best_makespan_5'] + \n",
    "                      ffahc_results3['best_makespan_5']) / num_runs\n",
    "print(ffahc_best_makespan_5)"
   ]
  },
  {
   "cell_type": "code",
   "execution_count": 19,
   "id": "ad99cf1d",
   "metadata": {},
   "outputs": [
    {
     "name": "stdout",
     "output_type": "stream",
     "text": [
      "0       48.000000\n",
      "1       48.000000\n",
      "2       52.000000\n",
      "3       54.000000\n",
      "4       61.000000\n",
      "          ...    \n",
      "415    824.333333\n",
      "416    809.666667\n",
      "417    808.000000\n",
      "418    841.666667\n",
      "419    830.333333\n",
      "Name: best_makespan_250, Length: 420, dtype: float64\n"
     ]
    }
   ],
   "source": [
    "ffahc_best_makespan_250 = (ffahc_results1['best_makespan_250'] + ffahc_results2['best_makespan_250'] + \n",
    "                      ffahc_results3['best_makespan_250']) / num_runs\n",
    "print(ffahc_best_makespan_250)"
   ]
  },
  {
   "cell_type": "code",
   "execution_count": 20,
   "id": "5397ec3b",
   "metadata": {},
   "outputs": [
    {
     "name": "stdout",
     "output_type": "stream",
     "text": [
      "0       48.000000\n",
      "1       48.000000\n",
      "2       52.000000\n",
      "3       54.000000\n",
      "4       61.000000\n",
      "          ...    \n",
      "415    797.666667\n",
      "416    787.666667\n",
      "417    786.333333\n",
      "418    795.333333\n",
      "419    805.333333\n",
      "Name: best_makespan_500, Length: 420, dtype: float64\n"
     ]
    }
   ],
   "source": [
    "ffahc_best_makespan_500 = (ffahc_results1['best_makespan_500'] + ffahc_results2['best_makespan_500'] + \n",
    "                      ffahc_results3['best_makespan_500']) / num_runs\n",
    "print(ffahc_best_makespan_500)"
   ]
  },
  {
   "cell_type": "code",
   "execution_count": 21,
   "id": "e9c1280f",
   "metadata": {},
   "outputs": [
    {
     "name": "stdout",
     "output_type": "stream",
     "text": [
      "0       48.000000\n",
      "1       48.000000\n",
      "2       52.000000\n",
      "3       54.000000\n",
      "4       61.000000\n",
      "          ...    \n",
      "415    793.000000\n",
      "416    766.666667\n",
      "417    767.333333\n",
      "418    795.333333\n",
      "419    799.000000\n",
      "Name: best_makespan_750, Length: 420, dtype: float64\n"
     ]
    }
   ],
   "source": [
    "ffahc_best_makespan_750 = (ffahc_results1['best_makespan_750'] + ffahc_results2['best_makespan_750'] + \n",
    "                      ffahc_results3['best_makespan_750']) / num_runs\n",
    "print(ffahc_best_makespan_750)"
   ]
  },
  {
   "cell_type": "code",
   "execution_count": 22,
   "id": "6ab8fac4",
   "metadata": {},
   "outputs": [
    {
     "name": "stdout",
     "output_type": "stream",
     "text": [
      "0       48.0\n",
      "1       48.0\n",
      "2       52.0\n",
      "3       54.0\n",
      "4       61.0\n",
      "       ...  \n",
      "415    782.0\n",
      "416    747.0\n",
      "417    763.0\n",
      "418    778.0\n",
      "419    783.0\n",
      "Name: best_makespan, Length: 420, dtype: float64\n"
     ]
    }
   ],
   "source": [
    "ffahc_best_makespan_6 = (ffahc_results1['best_makespan'] + ffahc_results2['best_makespan']+ \n",
    "                         ffahc_results3['best_makespan']) / num_runs\n",
    "print(ffahc_best_makespan_6)"
   ]
  },
  {
   "cell_type": "code",
   "execution_count": 23,
   "id": "054c5a1f",
   "metadata": {},
   "outputs": [
    {
     "name": "stdout",
     "output_type": "stream",
     "text": [
      "0        63.666667\n",
      "1        73.000000\n",
      "2        76.333333\n",
      "3        75.666667\n",
      "4        96.666667\n",
      "          ...     \n",
      "415    1138.333333\n",
      "416    1094.333333\n",
      "417    1073.000000\n",
      "418    1126.333333\n",
      "419    1092.000000\n",
      "Length: 420, dtype: float64\n"
     ]
    }
   ],
   "source": [
    "ffahc_random_initial_makespan1 = pd.Series([i[0] for i in ffahc_results1['convergence']])\n",
    "ffahc_random_initial_makespan2 = pd.Series([i[0] for i in ffahc_results2['convergence']])\n",
    "ffahc_random_initial_makespan3 = pd.Series([i[0] for i in ffahc_results3['convergence']])\n",
    "\n",
    "ffahc_random_initial_makespan = (ffahc_random_initial_makespan1 + ffahc_random_initial_makespan2 + ffahc_random_initial_makespan3) / num_runs\n",
    "print(ffahc_random_initial_makespan)"
   ]
  },
  {
   "cell_type": "code",
   "execution_count": 24,
   "id": "4f9a0353",
   "metadata": {},
   "outputs": [
    {
     "data": {
      "text/html": [
       "<div>\n",
       "<style scoped>\n",
       "    .dataframe tbody tr th:only-of-type {\n",
       "        vertical-align: middle;\n",
       "    }\n",
       "\n",
       "    .dataframe tbody tr th {\n",
       "        vertical-align: top;\n",
       "    }\n",
       "\n",
       "    .dataframe thead th {\n",
       "        text-align: right;\n",
       "    }\n",
       "</style>\n",
       "<table border=\"1\" class=\"dataframe\">\n",
       "  <thead>\n",
       "    <tr style=\"text-align: right;\">\n",
       "      <th></th>\n",
       "      <th>instance_id</th>\n",
       "      <th>random_initial_makespan</th>\n",
       "      <th>best_makespan_4</th>\n",
       "      <th>best_makespan_5</th>\n",
       "      <th>best_makespan_250</th>\n",
       "      <th>best_makespan_500</th>\n",
       "      <th>best_makespan_750</th>\n",
       "      <th>best_makespan_6</th>\n",
       "    </tr>\n",
       "  </thead>\n",
       "  <tbody>\n",
       "    <tr>\n",
       "      <th>0</th>\n",
       "      <td>0</td>\n",
       "      <td>63.666667</td>\n",
       "      <td>48.000000</td>\n",
       "      <td>48.0</td>\n",
       "      <td>48.0</td>\n",
       "      <td>48.0</td>\n",
       "      <td>48.0</td>\n",
       "      <td>48.0</td>\n",
       "    </tr>\n",
       "    <tr>\n",
       "      <th>1</th>\n",
       "      <td>1</td>\n",
       "      <td>73.000000</td>\n",
       "      <td>48.000000</td>\n",
       "      <td>48.0</td>\n",
       "      <td>48.0</td>\n",
       "      <td>48.0</td>\n",
       "      <td>48.0</td>\n",
       "      <td>48.0</td>\n",
       "    </tr>\n",
       "    <tr>\n",
       "      <th>2</th>\n",
       "      <td>2</td>\n",
       "      <td>76.333333</td>\n",
       "      <td>52.000000</td>\n",
       "      <td>52.0</td>\n",
       "      <td>52.0</td>\n",
       "      <td>52.0</td>\n",
       "      <td>52.0</td>\n",
       "      <td>52.0</td>\n",
       "    </tr>\n",
       "    <tr>\n",
       "      <th>3</th>\n",
       "      <td>3</td>\n",
       "      <td>75.666667</td>\n",
       "      <td>56.666667</td>\n",
       "      <td>54.0</td>\n",
       "      <td>54.0</td>\n",
       "      <td>54.0</td>\n",
       "      <td>54.0</td>\n",
       "      <td>54.0</td>\n",
       "    </tr>\n",
       "    <tr>\n",
       "      <th>4</th>\n",
       "      <td>4</td>\n",
       "      <td>96.666667</td>\n",
       "      <td>61.666667</td>\n",
       "      <td>61.0</td>\n",
       "      <td>61.0</td>\n",
       "      <td>61.0</td>\n",
       "      <td>61.0</td>\n",
       "      <td>61.0</td>\n",
       "    </tr>\n",
       "  </tbody>\n",
       "</table>\n",
       "</div>"
      ],
      "text/plain": [
       "   instance_id  random_initial_makespan  best_makespan_4  best_makespan_5  \\\n",
       "0            0                63.666667        48.000000             48.0   \n",
       "1            1                73.000000        48.000000             48.0   \n",
       "2            2                76.333333        52.000000             52.0   \n",
       "3            3                75.666667        56.666667             54.0   \n",
       "4            4                96.666667        61.666667             61.0   \n",
       "\n",
       "   best_makespan_250  best_makespan_500  best_makespan_750  best_makespan_6  \n",
       "0               48.0               48.0               48.0             48.0  \n",
       "1               48.0               48.0               48.0             48.0  \n",
       "2               52.0               52.0               52.0             52.0  \n",
       "3               54.0               54.0               54.0             54.0  \n",
       "4               61.0               61.0               61.0             61.0  "
      ]
     },
     "execution_count": 24,
     "metadata": {},
     "output_type": "execute_result"
    }
   ],
   "source": [
    "ffahc_runs_combined = pd.DataFrame({'instance_id': ffahc_instance_id, \n",
    "                                 'random_initial_makespan': ffahc_random_initial_makespan, \n",
    "                                 'best_makespan_4': ffahc_best_makespan_4,\n",
    "                                 'best_makespan_5': ffahc_best_makespan_5,\n",
    "                                 'best_makespan_250': ffahc_best_makespan_250,\n",
    "                                 'best_makespan_500': ffahc_best_makespan_500,\n",
    "                                 'best_makespan_750': ffahc_best_makespan_750,\n",
    "                                 'best_makespan_6': ffahc_best_makespan_6, })\n",
    "ffahc_runs_combined.head()"
   ]
  },
  {
   "cell_type": "code",
   "execution_count": 25,
   "id": "bcb19948",
   "metadata": {},
   "outputs": [],
   "source": [
    "ffahc_runs_combined.to_csv('ffahc_runs_combined3_incl_conv_greedy.csv', index=False)"
   ]
  }
 ],
 "metadata": {
  "kernelspec": {
   "display_name": "Python 3 (ipykernel)",
   "language": "python",
   "name": "python3"
  },
  "language_info": {
   "codemirror_mode": {
    "name": "ipython",
    "version": 3
   },
   "file_extension": ".py",
   "mimetype": "text/x-python",
   "name": "python",
   "nbconvert_exporter": "python",
   "pygments_lexer": "ipython3",
   "version": "3.9.12"
  }
 },
 "nbformat": 4,
 "nbformat_minor": 5
}
